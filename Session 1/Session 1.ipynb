{
 "cells": [
  {
   "cell_type": "markdown",
   "id": "9f962763-c4f1-41bd-8f13-4a2f97c9b23e",
   "metadata": {
    "tags": []
   },
   "source": [
    "# Intro To python"
   ]
  },
  {
   "cell_type": "code",
   "execution_count": 7,
   "id": "176f0ccc-ecae-4316-a84f-0c71a13635ac",
   "metadata": {
    "execution": {
     "iopub.execute_input": "2023-03-03T17:48:19.308000Z",
     "iopub.status.busy": "2023-03-03T17:48:19.307006Z",
     "iopub.status.idle": "2023-03-03T17:48:19.383555Z",
     "shell.execute_reply": "2023-03-03T17:48:19.382557Z",
     "shell.execute_reply.started": "2023-03-03T17:48:19.308000Z"
    },
    "tags": []
   },
   "outputs": [
    {
     "name": "stdout",
     "output_type": "stream",
     "text": [
      "Python 3.10.4\n"
     ]
    }
   ],
   "source": [
    "!python --version"
   ]
  },
  {
   "cell_type": "markdown",
   "id": "a88b444e-f93e-43d2-b701-084a395c9957",
   "metadata": {},
   "source": [
    "- Jupyter notebooks have magic commands that starts with `!`\n",
    "- There are three types of cells `markdowns`, `code`, `raw`\n",
    "- Each cell is an indivisual entity, doesn't affect other cells unless it overwrites a variable in other cell\n",
    "- There is no need to use `print` in a cell if the output you want is the last line if the cell\n",
    "- There are three types of brackets\n",
    "    - `()` -> paranthesis\n",
    "    - `[]` -> square brackets\n",
    "    - `{}` -> curly brackets"
   ]
  },
  {
   "cell_type": "markdown",
   "id": "e758edbc-240d-4606-8353-677a9a2adcc9",
   "metadata": {
    "tags": []
   },
   "source": [
    "### Handling I/O in Python"
   ]
  },
  {
   "cell_type": "code",
   "execution_count": 2,
   "id": "405ac7ae-db41-4e6c-862e-b3629d890e41",
   "metadata": {
    "execution": {
     "iopub.execute_input": "2023-03-03T17:44:28.658079Z",
     "iopub.status.busy": "2023-03-03T17:44:28.658079Z",
     "iopub.status.idle": "2023-03-03T17:44:28.674059Z",
     "shell.execute_reply": "2023-03-03T17:44:28.674059Z",
     "shell.execute_reply.started": "2023-03-03T17:44:28.658079Z"
    },
    "tags": []
   },
   "outputs": [
    {
     "data": {
      "text/plain": [
       "'hello world'"
      ]
     },
     "execution_count": 2,
     "metadata": {},
     "output_type": "execute_result"
    }
   ],
   "source": [
    "\"hello world\"\n"
   ]
  },
  {
   "cell_type": "code",
   "execution_count": 3,
   "id": "fe5ab3fc-5422-4de2-aa94-0aeb14918cad",
   "metadata": {
    "execution": {
     "iopub.execute_input": "2023-03-03T17:44:30.356274Z",
     "iopub.status.busy": "2023-03-03T17:44:30.356274Z",
     "iopub.status.idle": "2023-03-03T17:44:32.675556Z",
     "shell.execute_reply": "2023-03-03T17:44:32.675556Z",
     "shell.execute_reply.started": "2023-03-03T17:44:30.356274Z"
    },
    "tags": []
   },
   "outputs": [
    {
     "name": "stdin",
     "output_type": "stream",
     "text": [
      "Enter Your name jksdf\n"
     ]
    },
    {
     "data": {
      "text/plain": [
       "'jksdf'"
      ]
     },
     "execution_count": 3,
     "metadata": {},
     "output_type": "execute_result"
    }
   ],
   "source": [
    "input(\"Enter Your name\")"
   ]
  },
  {
   "cell_type": "markdown",
   "id": "4935bca4-7067-47d2-8a34-9d121de6be44",
   "metadata": {
    "tags": []
   },
   "source": [
    "## Python Basic Data Types\n",
    "- Integer: Representation of <b>whole</b> numbers, such as 1, 2, 3, etc.\n",
    "- Float: Representation of <b>decimal</b> numbers, such as 3.14, 6.022, etc.\n",
    "- String: Representation of sequences of <b>characters</b>, such as \"hello\", \"world\", etc.\n",
    "- List: Representation of <b>sequences</b> of values, such as [1, 2, 3, 4].\n",
    "- Tuple: <b>Immutable</b>sequence of values, similar to a list.\n",
    "- Dictionary: Representation of <b>key-value pairs</b>, such as {'key1': 'value1', 'key2': 'value2'}.\n",
    "- Boolean: Representation of <b>logical</b> values, either True or False.\n",
    "- None: Represents a <b>null</b> or empty value.\n",
    "- Set: Representation of ordered collections of <b>unique</b> values, such as {1, 2, 3}.\n",
    "- <strike>Complex</strike>: Representation of complex numbers, with <b>real and imaginary parts</b>."
   ]
  },
  {
   "cell_type": "markdown",
   "id": "5ed0b2f5-6cc3-4d2b-83ca-d7e8527160df",
   "metadata": {
    "tags": []
   },
   "source": [
    "### Integer"
   ]
  },
  {
   "cell_type": "markdown",
   "id": "e0fd924f-68a1-40ff-9fce-30faad281f58",
   "metadata": {},
   "source": [
    "`=` is the assignment operator, assignemts a value to a value "
   ]
  },
  {
   "cell_type": "code",
   "execution_count": 4,
   "id": "a69c0362-4c60-453b-b15c-7bfd86aa93e1",
   "metadata": {
    "execution": {
     "iopub.execute_input": "2023-03-03T17:47:12.936733Z",
     "iopub.status.busy": "2023-03-03T17:47:12.935728Z",
     "iopub.status.idle": "2023-03-03T17:47:12.959728Z",
     "shell.execute_reply": "2023-03-03T17:47:12.957727Z",
     "shell.execute_reply.started": "2023-03-03T17:47:12.936733Z"
    },
    "tags": []
   },
   "outputs": [
    {
     "data": {
      "text/plain": [
       "22"
      ]
     },
     "execution_count": 4,
     "metadata": {},
     "output_type": "execute_result"
    }
   ],
   "source": [
    " x = 55 \n",
    "age = 22\n",
    "age"
   ]
  },
  {
   "cell_type": "code",
   "execution_count": 40,
   "id": "df18ca46-820e-41fa-8432-cdc508a65de8",
   "metadata": {},
   "outputs": [
    {
     "data": {
      "text/plain": [
       "10000000"
      ]
     },
     "execution_count": 62,
     "metadata": {},
     "output_type": "execute_result"
    }
   ],
   "source": [
    "# int accept underscores for readability\n",
    "y = 10_000_000 # 10 MILLION\n",
    "y = 10000000 # 10 MILLION\n",
    "y"
   ]
  },
  {
   "cell_type": "markdown",
   "id": "f69ffcee-8a09-4b4c-9a03-385763fdbdd4",
   "metadata": {},
   "source": [
    "You can do mathematical operations and arthemtic"
   ]
  },
  {
   "cell_type": "code",
   "execution_count": 7,
   "id": "cfe7376b-0541-449c-9964-0848c2f5468e",
   "metadata": {
    "execution": {
     "iopub.execute_input": "2023-03-03T08:40:13.697008Z",
     "iopub.status.busy": "2023-03-03T08:40:13.696007Z",
     "iopub.status.idle": "2023-03-03T08:40:13.717524Z",
     "shell.execute_reply": "2023-03-03T08:40:13.716554Z",
     "shell.execute_reply.started": "2023-03-03T08:40:13.697008Z"
    }
   },
   "outputs": [
    {
     "data": {
      "text/plain": [
       "505"
      ]
     },
     "execution_count": 7,
     "metadata": {},
     "output_type": "execute_result"
    }
   ],
   "source": [
    "5 + 10 * 50 "
   ]
  },
  {
   "cell_type": "code",
   "execution_count": 27,
   "id": "04c4de6a-b89e-43fd-981d-5a8351862dc4",
   "metadata": {
    "execution": {
     "iopub.execute_input": "2023-03-03T08:51:44.839684Z",
     "iopub.status.busy": "2023-03-03T08:51:44.838683Z",
     "iopub.status.idle": "2023-03-03T08:51:44.858685Z",
     "shell.execute_reply": "2023-03-03T08:51:44.857719Z",
     "shell.execute_reply.started": "2023-03-03T08:51:44.839684Z"
    }
   },
   "outputs": [],
   "source": [
    "age = 30 / 3"
   ]
  },
  {
   "cell_type": "markdown",
   "id": "071c36a0-8906-4b0e-bf2d-c226f74e93c1",
   "metadata": {},
   "source": [
    "`dir` function shows the possible attributes and methods for the object  "
   ]
  },
  {
   "cell_type": "code",
   "execution_count": 3,
   "id": "a481a7cc-2507-459b-b07f-30a1b3df9ef8",
   "metadata": {
    "execution": {
     "iopub.execute_input": "2023-03-01T16:08:19.672511Z",
     "iopub.status.busy": "2023-03-01T16:08:19.671500Z",
     "iopub.status.idle": "2023-03-01T16:08:19.699580Z",
     "shell.execute_reply": "2023-03-01T16:08:19.696582Z",
     "shell.execute_reply.started": "2023-03-01T16:08:19.672511Z"
    }
   },
   "outputs": [
    {
     "data": {
      "text/plain": [
       "['__abs__',\n",
       " '__add__',\n",
       " '__and__',\n",
       " '__bool__',\n",
       " '__ceil__',\n",
       " '__class__',\n",
       " '__delattr__',\n",
       " '__dir__',\n",
       " '__divmod__',\n",
       " '__doc__',\n",
       " '__eq__',\n",
       " '__float__',\n",
       " '__floor__',\n",
       " '__floordiv__',\n",
       " '__format__',\n",
       " '__ge__',\n",
       " '__getattribute__',\n",
       " '__getnewargs__',\n",
       " '__gt__',\n",
       " '__hash__',\n",
       " '__index__',\n",
       " '__init__',\n",
       " '__init_subclass__',\n",
       " '__int__',\n",
       " '__invert__',\n",
       " '__le__',\n",
       " '__lshift__',\n",
       " '__lt__',\n",
       " '__mod__',\n",
       " '__mul__',\n",
       " '__ne__',\n",
       " '__neg__',\n",
       " '__new__',\n",
       " '__or__',\n",
       " '__pos__',\n",
       " '__pow__',\n",
       " '__radd__',\n",
       " '__rand__',\n",
       " '__rdivmod__',\n",
       " '__reduce__',\n",
       " '__reduce_ex__',\n",
       " '__repr__',\n",
       " '__rfloordiv__',\n",
       " '__rlshift__',\n",
       " '__rmod__',\n",
       " '__rmul__',\n",
       " '__ror__',\n",
       " '__round__',\n",
       " '__rpow__',\n",
       " '__rrshift__',\n",
       " '__rshift__',\n",
       " '__rsub__',\n",
       " '__rtruediv__',\n",
       " '__rxor__',\n",
       " '__setattr__',\n",
       " '__sizeof__',\n",
       " '__str__',\n",
       " '__sub__',\n",
       " '__subclasshook__',\n",
       " '__truediv__',\n",
       " '__trunc__',\n",
       " '__xor__',\n",
       " 'as_integer_ratio',\n",
       " 'bit_length',\n",
       " 'conjugate',\n",
       " 'denominator',\n",
       " 'from_bytes',\n",
       " 'imag',\n",
       " 'numerator',\n",
       " 'real',\n",
       " 'to_bytes']"
      ]
     },
     "execution_count": 3,
     "metadata": {},
     "output_type": "execute_result"
    }
   ],
   "source": [
    "dir(int)"
   ]
  },
  {
   "cell_type": "code",
   "execution_count": null,
   "id": "10a22be0-8d16-4be8-a526-df111a57c2aa",
   "metadata": {},
   "outputs": [],
   "source": []
  },
  {
   "cell_type": "markdown",
   "id": "70c5276a-202f-4cc2-8313-7ccc0d4905e7",
   "metadata": {},
   "source": [
    "### Float"
   ]
  },
  {
   "cell_type": "code",
   "execution_count": 9,
   "id": "680f60a5-6239-4d75-bbaf-9a9dff4d6fb9",
   "metadata": {
    "execution": {
     "iopub.execute_input": "2023-03-03T08:41:14.018072Z",
     "iopub.status.busy": "2023-03-03T08:41:14.018072Z",
     "iopub.status.idle": "2023-03-03T08:41:14.037178Z",
     "shell.execute_reply": "2023-03-03T08:41:14.036179Z",
     "shell.execute_reply.started": "2023-03-03T08:41:14.018072Z"
    },
    "tags": []
   },
   "outputs": [
    {
     "data": {
      "text/plain": [
       "2.5"
      ]
     },
     "execution_count": 9,
     "metadata": {},
     "output_type": "execute_result"
    }
   ],
   "source": [
    "5 / 2"
   ]
  },
  {
   "cell_type": "code",
   "execution_count": 42,
   "id": "795bfee4-81d0-463f-b003-8a8c5473f5ad",
   "metadata": {},
   "outputs": [
    {
     "data": {
      "text/plain": [
       "9.0"
      ]
     },
     "execution_count": 63,
     "metadata": {},
     "output_type": "execute_result"
    }
   ],
   "source": [
    "fraction = 18/2\n",
    "fraction"
   ]
  },
  {
   "cell_type": "code",
   "execution_count": 183,
   "id": "1fdacac2-e2bc-409c-be3b-1ade2a81931f",
   "metadata": {},
   "outputs": [
    {
     "data": {
      "text/plain": [
       "1.0"
      ]
     },
     "execution_count": 183,
     "metadata": {},
     "output_type": "execute_result"
    }
   ],
   "source": [
    "1."
   ]
  },
  {
   "cell_type": "code",
   "execution_count": 8,
   "id": "cde95e5f-ebfc-4852-83a1-bd77fa0ea29a",
   "metadata": {
    "execution": {
     "iopub.execute_input": "2023-03-03T17:59:42.044164Z",
     "iopub.status.busy": "2023-03-03T17:59:42.043164Z",
     "iopub.status.idle": "2023-03-03T17:59:42.054244Z",
     "shell.execute_reply": "2023-03-03T17:59:42.053608Z",
     "shell.execute_reply.started": "2023-03-03T17:59:42.043164Z"
    },
    "tags": []
   },
   "outputs": [
    {
     "name": "stdout",
     "output_type": "stream",
     "text": [
      "5000.0\n"
     ]
    },
    {
     "data": {
      "text/plain": [
       "float"
      ]
     },
     "execution_count": 8,
     "metadata": {},
     "output_type": "execute_result"
    }
   ],
   "source": [
    "Km = 1e3 # science notation: means (1 * 10**3)\n",
    "print(5 * Km) # 5 Kilometers\n",
    "type(5 * Km)"
   ]
  },
  {
   "cell_type": "code",
   "execution_count": 9,
   "id": "e6ae154b-0cf6-4286-9020-09fbc5ffd324",
   "metadata": {
    "execution": {
     "iopub.execute_input": "2023-03-03T17:59:46.448241Z",
     "iopub.status.busy": "2023-03-03T17:59:46.447237Z",
     "iopub.status.idle": "2023-03-03T17:59:46.471239Z",
     "shell.execute_reply": "2023-03-03T17:59:46.470238Z",
     "shell.execute_reply.started": "2023-03-03T17:59:46.448241Z"
    },
    "tags": []
   },
   "outputs": [
    {
     "data": {
      "text/plain": [
       "21"
      ]
     },
     "execution_count": 9,
     "metadata": {},
     "output_type": "execute_result"
    }
   ],
   "source": [
    "float_to_int = int(21.511)\n",
    "float_to_int"
   ]
  },
  {
   "cell_type": "code",
   "execution_count": 10,
   "id": "7f5ce90d-7fca-4601-a1c7-b487d5cd8daf",
   "metadata": {
    "execution": {
     "iopub.execute_input": "2023-03-03T17:59:49.607939Z",
     "iopub.status.busy": "2023-03-03T17:59:49.606939Z",
     "iopub.status.idle": "2023-03-03T17:59:49.630937Z",
     "shell.execute_reply": "2023-03-03T17:59:49.629939Z",
     "shell.execute_reply.started": "2023-03-03T17:59:49.607939Z"
    },
    "tags": []
   },
   "outputs": [
    {
     "data": {
      "text/plain": [
       "5.84"
      ]
     },
     "execution_count": 10,
     "metadata": {},
     "output_type": "execute_result"
    }
   ],
   "source": [
    "round(5.84159, 2) # returns a float approximated to 2 digits"
   ]
  },
  {
   "cell_type": "code",
   "execution_count": 11,
   "id": "e76aa111-3bb9-4a0c-9939-e4e209419e62",
   "metadata": {
    "execution": {
     "iopub.execute_input": "2023-03-03T18:00:02.174592Z",
     "iopub.status.busy": "2023-03-03T18:00:02.173591Z",
     "iopub.status.idle": "2023-03-03T18:00:02.184594Z",
     "shell.execute_reply": "2023-03-03T18:00:02.183626Z",
     "shell.execute_reply.started": "2023-03-03T18:00:02.174592Z"
    },
    "tags": []
   },
   "outputs": [
    {
     "data": {
      "text/plain": [
       "6"
      ]
     },
     "execution_count": 11,
     "metadata": {},
     "output_type": "execute_result"
    }
   ],
   "source": [
    "round(5.84159) # returns an int "
   ]
  },
  {
   "cell_type": "code",
   "execution_count": null,
   "id": "d26ed326-2aac-4f4f-9cf3-5fb12455a2bd",
   "metadata": {},
   "outputs": [],
   "source": []
  },
  {
   "cell_type": "code",
   "execution_count": null,
   "id": "da6456c7-670c-48d6-ac44-5342ba3db0a4",
   "metadata": {},
   "outputs": [],
   "source": []
  },
  {
   "cell_type": "code",
   "execution_count": null,
   "id": "f791be5c-58ed-49fc-a591-d650d8ff5362",
   "metadata": {},
   "outputs": [],
   "source": []
  },
  {
   "cell_type": "code",
   "execution_count": null,
   "id": "0f0e1658-c939-4066-83c2-dc6f42f82298",
   "metadata": {},
   "outputs": [],
   "source": []
  },
  {
   "cell_type": "code",
   "execution_count": null,
   "id": "e0543e09-9f03-48b9-bf8c-ba6dc1e71002",
   "metadata": {},
   "outputs": [],
   "source": []
  },
  {
   "cell_type": "markdown",
   "id": "81a7122f-0358-47b2-8561-0ef00f464e7b",
   "metadata": {},
   "source": [
    "### String"
   ]
  },
  {
   "cell_type": "code",
   "execution_count": 12,
   "id": "85ec548e-388e-4bde-bf05-d8037386b798",
   "metadata": {
    "execution": {
     "iopub.execute_input": "2023-03-03T18:00:33.896379Z",
     "iopub.status.busy": "2023-03-03T18:00:33.895379Z",
     "iopub.status.idle": "2023-03-03T18:00:33.906379Z",
     "shell.execute_reply": "2023-03-03T18:00:33.905380Z",
     "shell.execute_reply.started": "2023-03-03T18:00:33.896379Z"
    },
    "tags": []
   },
   "outputs": [
    {
     "name": "stdout",
     "output_type": "stream",
     "text": [
      "15\n"
     ]
    },
    {
     "data": {
      "text/plain": [
       "str"
      ]
     },
     "execution_count": 12,
     "metadata": {},
     "output_type": "execute_result"
    }
   ],
   "source": [
    "name = \"aHmEd\"\n",
    "string_age = str(15)\n",
    "print(string_age)\n",
    "type(string_age)"
   ]
  },
  {
   "cell_type": "code",
   "execution_count": 80,
   "id": "914cc7d9-5862-4606-b95b-a8d551c0b0c5",
   "metadata": {},
   "outputs": [
    {
     "data": {
      "text/plain": [
       "'text in Double Quotes'"
      ]
     },
     "execution_count": 80,
     "metadata": {},
     "output_type": "execute_result"
    }
   ],
   "source": [
    "\"text in Double Quotes\""
   ]
  },
  {
   "cell_type": "code",
   "execution_count": 81,
   "id": "100de684-d6c8-461f-a52f-b5f385078ab5",
   "metadata": {},
   "outputs": [
    {
     "data": {
      "text/plain": [
       "'text in Single Quotes'"
      ]
     },
     "execution_count": 81,
     "metadata": {},
     "output_type": "execute_result"
    }
   ],
   "source": [
    "'text in Single Quotes'"
   ]
  },
  {
   "cell_type": "code",
   "execution_count": 16,
   "id": "de2461d9-8b3e-43a3-b97e-4a23bae61bb3",
   "metadata": {
    "execution": {
     "iopub.execute_input": "2023-03-03T08:44:18.416780Z",
     "iopub.status.busy": "2023-03-03T08:44:18.416780Z",
     "iopub.status.idle": "2023-03-03T08:44:18.426776Z",
     "shell.execute_reply": "2023-03-03T08:44:18.425778Z",
     "shell.execute_reply.started": "2023-03-03T08:44:18.416780Z"
    }
   },
   "outputs": [
    {
     "name": "stdout",
     "output_type": "stream",
     "text": [
      "'single quotes' in double quotes \n"
     ]
    }
   ],
   "source": [
    "print(\"'single quotes' in double quotes \")"
   ]
  },
  {
   "cell_type": "code",
   "execution_count": null,
   "id": "ab1e2b84-2d09-44a6-af34-ae9741c13507",
   "metadata": {},
   "outputs": [],
   "source": [
    "\" \"executes_as code\" \" ## error"
   ]
  },
  {
   "cell_type": "code",
   "execution_count": 20,
   "id": "a93ca0e6-9e40-46cf-8cb8-3a7443805bb7",
   "metadata": {
    "execution": {
     "iopub.execute_input": "2023-03-03T08:46:11.562014Z",
     "iopub.status.busy": "2023-03-03T08:46:11.561017Z",
     "iopub.status.idle": "2023-03-03T08:46:11.579015Z",
     "shell.execute_reply": "2023-03-03T08:46:11.576018Z",
     "shell.execute_reply.started": "2023-03-03T08:46:11.562014Z"
    },
    "tags": []
   },
   "outputs": [
    {
     "data": {
      "text/plain": [
       "'kdfgkfd  22 the age of '"
      ]
     },
     "execution_count": 20,
     "metadata": {},
     "output_type": "execute_result"
    }
   ],
   "source": [
    "'\"double quotes\" in single quotes '\n",
    "\n",
    "\"kdfgkfd  \" +str(age) +\" the age of \""
   ]
  },
  {
   "cell_type": "code",
   "execution_count": 21,
   "id": "a59a14bb-f9dd-4943-a50b-b180797eaa93",
   "metadata": {
    "execution": {
     "iopub.execute_input": "2023-03-03T08:46:38.160365Z",
     "iopub.status.busy": "2023-03-03T08:46:38.160365Z",
     "iopub.status.idle": "2023-03-03T08:46:38.178340Z",
     "shell.execute_reply": "2023-03-03T08:46:38.177337Z",
     "shell.execute_reply.started": "2023-03-03T08:46:38.160365Z"
    }
   },
   "outputs": [
    {
     "data": {
      "text/plain": [
       "'Hello, aHmEd. You are 22.'"
      ]
     },
     "execution_count": 21,
     "metadata": {},
     "output_type": "execute_result"
    }
   ],
   "source": [
    "\"Hello, %s. You are %s.\" % (name, age) # not used often"
   ]
  },
  {
   "cell_type": "code",
   "execution_count": 85,
   "id": "91a1d6f6-538d-430b-9c0a-7710150d3809",
   "metadata": {},
   "outputs": [
    {
     "data": {
      "text/plain": [
       "'Hello, aHmEd. You are 22.'"
      ]
     },
     "execution_count": 85,
     "metadata": {},
     "output_type": "execute_result"
    }
   ],
   "source": [
    "(\"Hello, {}. You are {}.\").format(name, age)"
   ]
  },
  {
   "cell_type": "code",
   "execution_count": 23,
   "id": "e38c6afb-e3f5-4760-9be2-1efb4ce1ab00",
   "metadata": {
    "execution": {
     "iopub.execute_input": "2023-03-03T08:47:52.656983Z",
     "iopub.status.busy": "2023-03-03T08:47:52.655977Z",
     "iopub.status.idle": "2023-03-03T08:47:52.666977Z",
     "shell.execute_reply": "2023-03-03T08:47:52.665976Z",
     "shell.execute_reply.started": "2023-03-03T08:47:52.656983Z"
    },
    "tags": []
   },
   "outputs": [
    {
     "data": {
      "text/plain": [
       "'Hello, aHmEd. You are 15.957446808510639.'"
      ]
     },
     "execution_count": 23,
     "metadata": {},
     "output_type": "execute_result"
    }
   ],
   "source": [
    "f\"Hello, {name}. You are {30/1.88}.\" # most used"
   ]
  },
  {
   "cell_type": "code",
   "execution_count": 9,
   "id": "270f3169-19d4-481c-a7c3-7340704311fc",
   "metadata": {
    "execution": {
     "iopub.execute_input": "2023-03-01T16:12:29.076329Z",
     "iopub.status.busy": "2023-03-01T16:12:29.076329Z",
     "iopub.status.idle": "2023-03-01T16:12:29.090806Z",
     "shell.execute_reply": "2023-03-01T16:12:29.089287Z",
     "shell.execute_reply.started": "2023-03-01T16:12:29.076329Z"
    }
   },
   "outputs": [
    {
     "data": {
      "text/plain": [
       "'upper: AHMED, lower: ahmed, capitalize: Ahmed'"
      ]
     },
     "execution_count": 9,
     "metadata": {},
     "output_type": "execute_result"
    }
   ],
   "source": [
    "#String Methods\n",
    "f\"upper: {name.upper()}, lower: {name.lower()}, capitalize: {name.capitalize()}\""
   ]
  },
  {
   "cell_type": "code",
   "execution_count": 24,
   "id": "2f0d6fc7-cbe9-48f4-a087-970c7b2e04c2",
   "metadata": {
    "execution": {
     "iopub.execute_input": "2023-03-03T08:49:26.522997Z",
     "iopub.status.busy": "2023-03-03T08:49:26.522004Z",
     "iopub.status.idle": "2023-03-03T08:49:26.533997Z",
     "shell.execute_reply": "2023-03-03T08:49:26.532996Z",
     "shell.execute_reply.started": "2023-03-03T08:49:26.522997Z"
    },
    "tags": []
   },
   "outputs": [
    {
     "data": {
      "text/plain": [
       "['__add__',\n",
       " '__class__',\n",
       " '__contains__',\n",
       " '__delattr__',\n",
       " '__dir__',\n",
       " '__doc__',\n",
       " '__eq__',\n",
       " '__format__',\n",
       " '__ge__',\n",
       " '__getattribute__',\n",
       " '__getitem__',\n",
       " '__getnewargs__',\n",
       " '__gt__',\n",
       " '__hash__',\n",
       " '__init__',\n",
       " '__init_subclass__',\n",
       " '__iter__',\n",
       " '__le__',\n",
       " '__len__',\n",
       " '__lt__',\n",
       " '__mod__',\n",
       " '__mul__',\n",
       " '__ne__',\n",
       " '__new__',\n",
       " '__reduce__',\n",
       " '__reduce_ex__',\n",
       " '__repr__',\n",
       " '__rmod__',\n",
       " '__rmul__',\n",
       " '__setattr__',\n",
       " '__sizeof__',\n",
       " '__str__',\n",
       " '__subclasshook__',\n",
       " 'capitalize',\n",
       " 'casefold',\n",
       " 'center',\n",
       " 'count',\n",
       " 'encode',\n",
       " 'endswith',\n",
       " 'expandtabs',\n",
       " 'find',\n",
       " 'format',\n",
       " 'format_map',\n",
       " 'index',\n",
       " 'isalnum',\n",
       " 'isalpha',\n",
       " 'isascii',\n",
       " 'isdecimal',\n",
       " 'isdigit',\n",
       " 'isidentifier',\n",
       " 'islower',\n",
       " 'isnumeric',\n",
       " 'isprintable',\n",
       " 'isspace',\n",
       " 'istitle',\n",
       " 'isupper',\n",
       " 'join',\n",
       " 'ljust',\n",
       " 'lower',\n",
       " 'lstrip',\n",
       " 'maketrans',\n",
       " 'partition',\n",
       " 'removeprefix',\n",
       " 'removesuffix',\n",
       " 'replace',\n",
       " 'rfind',\n",
       " 'rindex',\n",
       " 'rjust',\n",
       " 'rpartition',\n",
       " 'rsplit',\n",
       " 'rstrip',\n",
       " 'split',\n",
       " 'splitlines',\n",
       " 'startswith',\n",
       " 'strip',\n",
       " 'swapcase',\n",
       " 'title',\n",
       " 'translate',\n",
       " 'upper',\n",
       " 'zfill']"
      ]
     },
     "execution_count": 24,
     "metadata": {},
     "output_type": "execute_result"
    }
   ],
   "source": [
    "dir(\"ahmed\")"
   ]
  },
  {
   "cell_type": "markdown",
   "id": "ede1f362-a8e8-4088-9167-13b2a28fc9df",
   "metadata": {},
   "source": [
    "for more content: https://www.w3schools.com/python/python_ref_string.asp"
   ]
  },
  {
   "cell_type": "markdown",
   "id": "aea0badc-6ebf-4a94-9e65-f210f9c41ad5",
   "metadata": {},
   "source": [
    "### List"
   ]
  },
  {
   "cell_type": "code",
   "execution_count": 209,
   "id": "a2112ed0-370c-493e-b823-f10ef2ffb715",
   "metadata": {},
   "outputs": [
    {
     "data": {
      "text/plain": [
       "['ahmed', ['ahmed'], [[['ahmed']], [0.001], 'x']]"
      ]
     },
     "execution_count": 209,
     "metadata": {},
     "output_type": "execute_result"
    }
   ],
   "source": [
    "[\"ahmed\", 'mahmoud', 15, 20.5, True]\n",
    "['ahmed', 'ahmed']\n",
    "[]\n",
    "['ahmed', ['ahmed'], [[['ahmed']], [0.001], \"x\"]]"
   ]
  },
  {
   "cell_type": "code",
   "execution_count": 13,
   "id": "8ee25448-e142-4021-b533-f8d3e09ceebc",
   "metadata": {
    "execution": {
     "iopub.execute_input": "2023-03-03T18:02:27.146625Z",
     "iopub.status.busy": "2023-03-03T18:02:27.145588Z",
     "iopub.status.idle": "2023-03-03T18:02:27.158590Z",
     "shell.execute_reply": "2023-03-03T18:02:27.157628Z",
     "shell.execute_reply.started": "2023-03-03T18:02:27.146625Z"
    },
    "tags": []
   },
   "outputs": [],
   "source": [
    "# [], append, pop, remove, clear, reverse, len\n",
    "l = ['fire', 'water', 'earth']\n",
    "# "
   ]
  },
  {
   "cell_type": "code",
   "execution_count": 14,
   "id": "0828e59e-5139-4715-92bc-f0ae212b4e28",
   "metadata": {
    "execution": {
     "iopub.execute_input": "2023-03-03T18:02:27.638434Z",
     "iopub.status.busy": "2023-03-03T18:02:27.637434Z",
     "iopub.status.idle": "2023-03-03T18:02:27.649430Z",
     "shell.execute_reply": "2023-03-03T18:02:27.648429Z",
     "shell.execute_reply.started": "2023-03-03T18:02:27.638434Z"
    },
    "tags": []
   },
   "outputs": [],
   "source": [
    "l.append(\"air\") # returns nothing and adds to the list "
   ]
  },
  {
   "cell_type": "code",
   "execution_count": 16,
   "id": "0d751969-a2f1-4442-8516-5394fb8056a2",
   "metadata": {
    "execution": {
     "iopub.execute_input": "2023-03-03T18:02:28.586888Z",
     "iopub.status.busy": "2023-03-03T18:02:28.585855Z",
     "iopub.status.idle": "2023-03-03T18:02:28.606359Z",
     "shell.execute_reply": "2023-03-03T18:02:28.605356Z",
     "shell.execute_reply.started": "2023-03-03T18:02:28.586888Z"
    },
    "tags": []
   },
   "outputs": [],
   "source": [
    "l.remove(\"air\") # returns nothing and removes from the list "
   ]
  },
  {
   "cell_type": "code",
   "execution_count": 17,
   "id": "3fd1ddeb-21cb-4388-92d5-6f755f2dd651",
   "metadata": {
    "execution": {
     "iopub.execute_input": "2023-03-03T18:02:29.147860Z",
     "iopub.status.busy": "2023-03-03T18:02:29.146867Z",
     "iopub.status.idle": "2023-03-03T18:02:29.156896Z",
     "shell.execute_reply": "2023-03-03T18:02:29.155861Z",
     "shell.execute_reply.started": "2023-03-03T18:02:29.147860Z"
    },
    "tags": []
   },
   "outputs": [],
   "source": [
    "l.reverse() # returns nothing and reverses the list "
   ]
  },
  {
   "cell_type": "code",
   "execution_count": 18,
   "id": "b933705d-dfda-4fb8-82ed-3213cfa5e98f",
   "metadata": {
    "execution": {
     "iopub.execute_input": "2023-03-03T18:02:30.191784Z",
     "iopub.status.busy": "2023-03-03T18:02:30.190783Z",
     "iopub.status.idle": "2023-03-03T18:02:30.212787Z",
     "shell.execute_reply": "2023-03-03T18:02:30.211786Z",
     "shell.execute_reply.started": "2023-03-03T18:02:30.191784Z"
    },
    "tags": []
   },
   "outputs": [
    {
     "data": {
      "text/plain": [
       "2"
      ]
     },
     "execution_count": 18,
     "metadata": {},
     "output_type": "execute_result"
    }
   ],
   "source": [
    "l.index(\"fire\") # returns the index of the element \"fire\" and does not edit the list "
   ]
  },
  {
   "cell_type": "markdown",
   "id": "960e52a7-b1c8-4f48-92be-8d5be9295f36",
   "metadata": {
    "execution": {
     "iopub.execute_input": "2023-03-03T18:02:31.281228Z",
     "iopub.status.busy": "2023-03-03T18:02:31.280229Z",
     "iopub.status.idle": "2023-03-03T18:02:31.293775Z",
     "shell.execute_reply": "2023-03-03T18:02:31.292815Z",
     "shell.execute_reply.started": "2023-03-03T18:02:31.281228Z"
    },
    "tags": []
   },
   "source": [
    "slicing \n",
    "```python\n",
    "str[start:end:step]\n",
    "str[0] -> first char \n",
    "str[1] -> second char \n",
    "str[-1] -> last char \n",
    "str[0:2] -> the first two chars # (the end does not appear)\n",
    "str[2:] -> from the third element till the end\n",
    "str[::-1] -> from the end to the start\n",
    "str[5:0:-1] -> from the sixth char to the start (reversed)\n",
    "\n",
    "```\n",
    "read more at [python slicing](https://www.w3schools.com/python/python_strings_slicing.asp)"
   ]
  },
  {
   "cell_type": "code",
   "execution_count": 20,
   "id": "dc179a8d-6843-4f53-bec9-ff85fd33d5d1",
   "metadata": {
    "execution": {
     "iopub.execute_input": "2023-03-03T18:11:07.368163Z",
     "iopub.status.busy": "2023-03-03T18:11:07.367118Z",
     "iopub.status.idle": "2023-03-03T18:11:07.387672Z",
     "shell.execute_reply": "2023-03-03T18:11:07.386709Z",
     "shell.execute_reply.started": "2023-03-03T18:11:07.368163Z"
    },
    "tags": []
   },
   "outputs": [
    {
     "name": "stdout",
     "output_type": "stream",
     "text": [
      "['mohammed', 'ahmed']\n",
      "['ahmed', 'mohammed']\n",
      "['mohammed', 'ahmed']\n"
     ]
    }
   ],
   "source": [
    "name = [\"ahmed\", 'mohammed']\n",
    "print(name[::-1]) # returns a reversed list but does not change the original list  \n",
    "print(name)\n",
    "name.reverse() # returns nothing and reverse the original list   \n",
    "print(name)"
   ]
  },
  {
   "cell_type": "markdown",
   "id": "87b6bd03-3ba5-4e7f-926b-365457133198",
   "metadata": {},
   "source": [
    "#### list slicing"
   ]
  },
  {
   "cell_type": "code",
   "execution_count": 15,
   "id": "891b18e8-0721-45bc-a4c2-1644b622f2ba",
   "metadata": {
    "execution": {
     "iopub.execute_input": "2023-03-03T09:06:23.605814Z",
     "iopub.status.busy": "2023-03-03T09:06:23.605814Z",
     "iopub.status.idle": "2023-03-03T09:06:23.620094Z",
     "shell.execute_reply": "2023-03-03T09:06:23.619084Z",
     "shell.execute_reply.started": "2023-03-03T09:06:23.605814Z"
    },
    "tags": []
   },
   "outputs": [],
   "source": [
    "names = ['ahmed', 'mohammed', 'mahmoud','ali', 'osama','ismail','abdullah','medhat']"
   ]
  },
  {
   "cell_type": "code",
   "execution_count": 119,
   "id": "3c012624-2c0e-46fd-971b-8bec4aa6ddef",
   "metadata": {},
   "outputs": [
    {
     "data": {
      "text/plain": [
       "['medhat',\n",
       " 'abdullah',\n",
       " 'ismail',\n",
       " 'osama',\n",
       " 'ali',\n",
       " 'mahmoud',\n",
       " 'mohammed',\n",
       " 'ahmed']"
      ]
     },
     "execution_count": 119,
     "metadata": {},
     "output_type": "execute_result"
    }
   ],
   "source": [
    "\n",
    "\n",
    "names[::-1]\n",
    "names.reverse()\n",
    "names"
   ]
  },
  {
   "cell_type": "code",
   "execution_count": null,
   "id": "dc78b9d0-04ed-4cba-91a1-9f9aa2fbdff0",
   "metadata": {},
   "outputs": [],
   "source": []
  },
  {
   "cell_type": "markdown",
   "id": "60cf63f2-4409-4df5-9dce-f1b822599c3a",
   "metadata": {
    "tags": []
   },
   "source": [
    "### Tuple"
   ]
  },
  {
   "cell_type": "code",
   "execution_count": 22,
   "id": "350c0942-d277-49ce-8850-8423e93d53a6",
   "metadata": {
    "execution": {
     "iopub.execute_input": "2023-03-03T18:11:26.970242Z",
     "iopub.status.busy": "2023-03-03T18:11:26.969669Z",
     "iopub.status.idle": "2023-03-03T18:11:26.977703Z",
     "shell.execute_reply": "2023-03-03T18:11:26.976706Z",
     "shell.execute_reply.started": "2023-03-03T18:11:26.970242Z"
    },
    "tags": []
   },
   "outputs": [
    {
     "data": {
      "text/plain": [
       "tuple"
      ]
     },
     "execution_count": 22,
     "metadata": {},
     "output_type": "execute_result"
    }
   ],
   "source": [
    "t = (1,23,4,5,6,7,8,9,6)\n",
    "t\n",
    "type(t)"
   ]
  },
  {
   "cell_type": "code",
   "execution_count": 23,
   "id": "4de44725-b5b6-4272-b2fd-27055120fbdb",
   "metadata": {
    "execution": {
     "iopub.execute_input": "2023-03-03T18:11:27.490775Z",
     "iopub.status.busy": "2023-03-03T18:11:27.489810Z",
     "iopub.status.idle": "2023-03-03T18:11:27.511401Z",
     "shell.execute_reply": "2023-03-03T18:11:27.510385Z",
     "shell.execute_reply.started": "2023-03-03T18:11:27.490775Z"
    },
    "tags": []
   },
   "outputs": [
    {
     "data": {
      "text/plain": [
       "int"
      ]
     },
     "execution_count": 23,
     "metadata": {},
     "output_type": "execute_result"
    }
   ],
   "source": [
    "type((1))"
   ]
  },
  {
   "cell_type": "code",
   "execution_count": 25,
   "id": "62109a70-8ab2-466a-936c-369e384ba337",
   "metadata": {
    "execution": {
     "iopub.execute_input": "2023-03-03T18:11:52.803707Z",
     "iopub.status.busy": "2023-03-03T18:11:52.803707Z",
     "iopub.status.idle": "2023-03-03T18:11:52.812353Z",
     "shell.execute_reply": "2023-03-03T18:11:52.811266Z",
     "shell.execute_reply.started": "2023-03-03T18:11:52.803707Z"
    },
    "tags": []
   },
   "outputs": [],
   "source": [
    "names = ('ahmed', 'mohammed', 'mark')"
   ]
  },
  {
   "cell_type": "code",
   "execution_count": 26,
   "id": "24fe3294-ddac-4d42-82a4-8a8d54b85687",
   "metadata": {
    "execution": {
     "iopub.execute_input": "2023-03-03T18:11:53.310957Z",
     "iopub.status.busy": "2023-03-03T18:11:53.309919Z",
     "iopub.status.idle": "2023-03-03T18:11:53.331065Z",
     "shell.execute_reply": "2023-03-03T18:11:53.329515Z",
     "shell.execute_reply.started": "2023-03-03T18:11:53.310957Z"
    },
    "tags": []
   },
   "outputs": [
    {
     "ename": "TypeError",
     "evalue": "'tuple' object does not support item assignment",
     "output_type": "error",
     "traceback": [
      "\u001b[1;31m---------------------------------------------------------------------------\u001b[0m",
      "\u001b[1;31mTypeError\u001b[0m                                 Traceback (most recent call last)",
      "Input \u001b[1;32mIn [26]\u001b[0m, in \u001b[0;36m<cell line: 1>\u001b[1;34m()\u001b[0m\n\u001b[1;32m----> 1\u001b[0m names[\u001b[38;5;241m0\u001b[39m] \u001b[38;5;241m=\u001b[39m \u001b[38;5;124m'\u001b[39m\u001b[38;5;124mAhmed\u001b[39m\u001b[38;5;124m'\u001b[39m\n",
      "\u001b[1;31mTypeError\u001b[0m: 'tuple' object does not support item assignment"
     ]
    }
   ],
   "source": [
    "names[0] = 'Ahmed' # TypeError: 'tuple' object does not support item assignment "
   ]
  },
  {
   "cell_type": "code",
   "execution_count": 27,
   "id": "07d79269-bc35-46c8-8d8e-6c0756043dfe",
   "metadata": {
    "execution": {
     "iopub.execute_input": "2023-03-03T18:12:17.020332Z",
     "iopub.status.busy": "2023-03-03T18:12:17.019332Z",
     "iopub.status.idle": "2023-03-03T18:12:17.038533Z",
     "shell.execute_reply": "2023-03-03T18:12:17.037567Z",
     "shell.execute_reply.started": "2023-03-03T18:12:17.020332Z"
    },
    "tags": []
   },
   "outputs": [
    {
     "data": {
      "text/plain": [
       "('ahmed', 'mohammed', 'mark')"
      ]
     },
     "execution_count": 27,
     "metadata": {},
     "output_type": "execute_result"
    }
   ],
   "source": [
    "type((1))"
   ]
  },
  {
   "cell_type": "code",
   "execution_count": null,
   "id": "94b9acb2-5b79-4e1e-be71-3ffbcdcffdf3",
   "metadata": {},
   "outputs": [],
   "source": [
    "type((((((((((((((1))))))))))))))"
   ]
  },
  {
   "cell_type": "code",
   "execution_count": 28,
   "id": "1d395e5b-fa88-4aaf-b827-c18a80cbc944",
   "metadata": {
    "execution": {
     "iopub.execute_input": "2023-03-03T18:12:20.277890Z",
     "iopub.status.busy": "2023-03-03T18:12:20.277890Z",
     "iopub.status.idle": "2023-03-03T18:12:20.300072Z",
     "shell.execute_reply": "2023-03-03T18:12:20.299109Z",
     "shell.execute_reply.started": "2023-03-03T18:12:20.277890Z"
    },
    "tags": []
   },
   "outputs": [
    {
     "data": {
      "text/plain": [
       "(1,)"
      ]
     },
     "execution_count": 28,
     "metadata": {},
     "output_type": "execute_result"
    }
   ],
   "source": [
    "(1,)"
   ]
  },
  {
   "cell_type": "code",
   "execution_count": 20,
   "id": "6e627b6e-2add-447a-bc3a-79e6d0ac8c48",
   "metadata": {
    "execution": {
     "iopub.execute_input": "2023-03-03T09:07:03.216053Z",
     "iopub.status.busy": "2023-03-03T09:07:03.215053Z",
     "iopub.status.idle": "2023-03-03T09:07:03.240086Z",
     "shell.execute_reply": "2023-03-03T09:07:03.238093Z",
     "shell.execute_reply.started": "2023-03-03T09:07:03.216053Z"
    },
    "tags": []
   },
   "outputs": [
    {
     "ename": "TypeError",
     "evalue": "'tuple' object does not support item assignment",
     "output_type": "error",
     "traceback": [
      "\u001b[1;31m---------------------------------------------------------------------------\u001b[0m",
      "\u001b[1;31mTypeError\u001b[0m                                 Traceback (most recent call last)",
      "\u001b[1;32m~\\AppData\\Local\\Temp/ipykernel_18480/215001340.py\u001b[0m in \u001b[0;36m<module>\u001b[1;34m\u001b[0m\n\u001b[0;32m      1\u001b[0m \u001b[0ml\u001b[0m \u001b[1;33m=\u001b[0m \u001b[1;33m(\u001b[0m\u001b[1;36m1\u001b[0m\u001b[1;33m,\u001b[0m\u001b[1;36m2\u001b[0m\u001b[1;33m)\u001b[0m\u001b[1;33m\u001b[0m\u001b[1;33m\u001b[0m\u001b[0m\n\u001b[1;32m----> 2\u001b[1;33m \u001b[0ml\u001b[0m\u001b[1;33m[\u001b[0m\u001b[1;36m0\u001b[0m\u001b[1;33m]\u001b[0m \u001b[1;33m=\u001b[0m\u001b[1;36m1\u001b[0m\u001b[1;33m\u001b[0m\u001b[1;33m\u001b[0m\u001b[0m\n\u001b[0m",
      "\u001b[1;31mTypeError\u001b[0m: 'tuple' object does not support item assignment"
     ]
    }
   ],
   "source": [
    "l = (1,2)\n",
    "l[0] = 1"
   ]
  },
  {
   "cell_type": "code",
   "execution_count": 17,
   "id": "2efd6ad8-9662-4d32-8367-e75c409cec8c",
   "metadata": {
    "execution": {
     "iopub.execute_input": "2023-03-01T16:17:13.249773Z",
     "iopub.status.busy": "2023-03-01T16:17:13.247775Z",
     "iopub.status.idle": "2023-03-01T16:17:13.257812Z",
     "shell.execute_reply": "2023-03-01T16:17:13.256816Z",
     "shell.execute_reply.started": "2023-03-01T16:17:13.248779Z"
    }
   },
   "outputs": [
    {
     "data": {
      "text/plain": [
       "int"
      ]
     },
     "execution_count": 17,
     "metadata": {},
     "output_type": "execute_result"
    }
   ],
   "source": []
  },
  {
   "cell_type": "code",
   "execution_count": 18,
   "id": "01014b2b-5e5b-417f-897f-ee9c350b59de",
   "metadata": {
    "execution": {
     "iopub.execute_input": "2023-03-01T16:17:36.400817Z",
     "iopub.status.busy": "2023-03-01T16:17:36.399814Z",
     "iopub.status.idle": "2023-03-01T16:17:36.420498Z",
     "shell.execute_reply": "2023-03-01T16:17:36.418494Z",
     "shell.execute_reply.started": "2023-03-01T16:17:36.400817Z"
    }
   },
   "outputs": [
    {
     "data": {
      "text/plain": [
       "int"
      ]
     },
     "execution_count": 18,
     "metadata": {},
     "output_type": "execute_result"
    }
   ],
   "source": []
  },
  {
   "cell_type": "code",
   "execution_count": 198,
   "id": "71ac9e56-88d4-41ab-ba92-d097f4ca542a",
   "metadata": {},
   "outputs": [
    {
     "data": {
      "text/plain": [
       "(1,)"
      ]
     },
     "execution_count": 198,
     "metadata": {},
     "output_type": "execute_result"
    }
   ],
   "source": [
    "(1,)"
   ]
  },
  {
   "cell_type": "markdown",
   "id": "00a42394-60d3-4f05-9ff4-81628761d86d",
   "metadata": {},
   "source": [
    "[tuple unpacking](https://www.geeksforgeeks.org/unpacking-a-tuple-in-python/)"
   ]
  },
  {
   "cell_type": "code",
   "execution_count": 21,
   "id": "1a8ef756-f753-4416-bab9-ea3900670605",
   "metadata": {
    "execution": {
     "iopub.execute_input": "2023-03-03T09:07:59.241355Z",
     "iopub.status.busy": "2023-03-03T09:07:59.240357Z",
     "iopub.status.idle": "2023-03-03T09:07:59.247872Z",
     "shell.execute_reply": "2023-03-03T09:07:59.246877Z",
     "shell.execute_reply.started": "2023-03-03T09:07:59.241355Z"
    }
   },
   "outputs": [
    {
     "name": "stdout",
     "output_type": "stream",
     "text": [
      "2 1\n"
     ]
    }
   ],
   "source": [
    "(x,y) = (1,2)\n",
    "print(y,x)"
   ]
  },
  {
   "cell_type": "code",
   "execution_count": 22,
   "id": "7df86798-0023-4265-9ded-c77a31364ea0",
   "metadata": {
    "execution": {
     "iopub.execute_input": "2023-03-03T09:08:22.570057Z",
     "iopub.status.busy": "2023-03-03T09:08:22.570057Z",
     "iopub.status.idle": "2023-03-03T09:08:22.580743Z",
     "shell.execute_reply": "2023-03-03T09:08:22.579741Z",
     "shell.execute_reply.started": "2023-03-03T09:08:22.570057Z"
    }
   },
   "outputs": [],
   "source": [
    "x,y = y,x"
   ]
  },
  {
   "cell_type": "code",
   "execution_count": 24,
   "id": "15e48e2c-6f83-4d23-b332-af212715bdb9",
   "metadata": {
    "execution": {
     "iopub.execute_input": "2023-03-03T09:08:36.376974Z",
     "iopub.status.busy": "2023-03-03T09:08:36.375976Z",
     "iopub.status.idle": "2023-03-03T09:08:36.397982Z",
     "shell.execute_reply": "2023-03-03T09:08:36.395979Z",
     "shell.execute_reply.started": "2023-03-03T09:08:36.376974Z"
    },
    "tags": []
   },
   "outputs": [
    {
     "name": "stdout",
     "output_type": "stream",
     "text": [
      "2 1\n"
     ]
    }
   ],
   "source": [
    "print(x,y)"
   ]
  },
  {
   "cell_type": "code",
   "execution_count": 19,
   "id": "df767ae1-8d44-45da-9617-eb0d8c6b8ad0",
   "metadata": {
    "execution": {
     "iopub.execute_input": "2023-03-01T16:18:12.424648Z",
     "iopub.status.busy": "2023-03-01T16:18:12.423647Z",
     "iopub.status.idle": "2023-03-01T16:18:12.436164Z",
     "shell.execute_reply": "2023-03-01T16:18:12.435199Z",
     "shell.execute_reply.started": "2023-03-01T16:18:12.424648Z"
    }
   },
   "outputs": [
    {
     "data": {
      "text/plain": [
       "['__add__',\n",
       " '__class__',\n",
       " '__class_getitem__',\n",
       " '__contains__',\n",
       " '__delattr__',\n",
       " '__dir__',\n",
       " '__doc__',\n",
       " '__eq__',\n",
       " '__format__',\n",
       " '__ge__',\n",
       " '__getattribute__',\n",
       " '__getitem__',\n",
       " '__getnewargs__',\n",
       " '__gt__',\n",
       " '__hash__',\n",
       " '__init__',\n",
       " '__init_subclass__',\n",
       " '__iter__',\n",
       " '__le__',\n",
       " '__len__',\n",
       " '__lt__',\n",
       " '__mul__',\n",
       " '__ne__',\n",
       " '__new__',\n",
       " '__reduce__',\n",
       " '__reduce_ex__',\n",
       " '__repr__',\n",
       " '__rmul__',\n",
       " '__setattr__',\n",
       " '__sizeof__',\n",
       " '__str__',\n",
       " '__subclasshook__',\n",
       " 'count',\n",
       " 'index']"
      ]
     },
     "execution_count": 19,
     "metadata": {},
     "output_type": "execute_result"
    }
   ],
   "source": [
    "dir(tuple)"
   ]
  },
  {
   "cell_type": "markdown",
   "id": "d26cb69a-5081-4a4d-9090-88916686cf1a",
   "metadata": {},
   "source": [
    "### Dictionary"
   ]
  },
  {
   "cell_type": "code",
   "execution_count": 26,
   "id": "8a35dd75-d4fa-47e6-87df-484b97408ca2",
   "metadata": {
    "execution": {
     "iopub.execute_input": "2023-03-03T09:09:55.588874Z",
     "iopub.status.busy": "2023-03-03T09:09:55.587875Z",
     "iopub.status.idle": "2023-03-03T09:09:55.601875Z",
     "shell.execute_reply": "2023-03-03T09:09:55.600879Z",
     "shell.execute_reply.started": "2023-03-03T09:09:55.588874Z"
    }
   },
   "outputs": [
    {
     "data": {
      "text/plain": [
       "['ahmed', 'ibrahim']"
      ]
     },
     "execution_count": 26,
     "metadata": {},
     "output_type": "execute_result"
    }
   ],
   "source": [
    "[\"ahmed\", 'ibrahim'][0]"
   ]
  },
  {
   "cell_type": "code",
   "execution_count": 29,
   "id": "e567a2ce-a9d2-4a21-8c4b-36d232df6d6c",
   "metadata": {
    "execution": {
     "iopub.execute_input": "2023-03-03T09:11:13.235729Z",
     "iopub.status.busy": "2023-03-03T09:11:13.234731Z",
     "iopub.status.idle": "2023-03-03T09:11:13.243731Z",
     "shell.execute_reply": "2023-03-03T09:11:13.242764Z",
     "shell.execute_reply.started": "2023-03-03T09:11:13.235729Z"
    },
    "tags": []
   },
   "outputs": [],
   "source": [
    "d = {\"first student\":\"ahmed\" , 1:'mahmoud'}"
   ]
  },
  {
   "cell_type": "code",
   "execution_count": 30,
   "id": "3f1b407e-f6f4-4b13-a4e9-3fed0a8469c7",
   "metadata": {
    "execution": {
     "iopub.execute_input": "2023-03-03T09:11:40.870787Z",
     "iopub.status.busy": "2023-03-03T09:11:40.869824Z",
     "iopub.status.idle": "2023-03-03T09:11:40.891799Z",
     "shell.execute_reply": "2023-03-03T09:11:40.890799Z",
     "shell.execute_reply.started": "2023-03-03T09:11:40.870787Z"
    },
    "tags": []
   },
   "outputs": [
    {
     "data": {
      "text/plain": [
       "'ahmed'"
      ]
     },
     "execution_count": 30,
     "metadata": {},
     "output_type": "execute_result"
    }
   ],
   "source": [
    "d['first student']"
   ]
  },
  {
   "cell_type": "code",
   "execution_count": 31,
   "id": "646399d8-02d1-4090-964f-b7792b0a92d5",
   "metadata": {
    "execution": {
     "iopub.execute_input": "2023-03-03T09:13:13.897153Z",
     "iopub.status.busy": "2023-03-03T09:13:13.896154Z",
     "iopub.status.idle": "2023-03-03T09:13:13.904159Z",
     "shell.execute_reply": "2023-03-03T09:13:13.903157Z",
     "shell.execute_reply.started": "2023-03-03T09:13:13.897153Z"
    },
    "tags": []
   },
   "outputs": [],
   "source": [
    "person1 = {\"name\":\"ahmed\", \"age\":22, \"hobbies\":[\"swimming\", \"coding\"] }\n",
    "person2 = {\"name\":\"akram\", \"age\":20, \"hobbies\":[\"coding\"] }\n",
    "people = [person1, person2]"
   ]
  },
  {
   "cell_type": "code",
   "execution_count": 34,
   "id": "50835a59-d989-47fc-8d2e-879ca922d57f",
   "metadata": {
    "execution": {
     "iopub.execute_input": "2023-03-03T09:13:56.383556Z",
     "iopub.status.busy": "2023-03-03T09:13:56.382569Z",
     "iopub.status.idle": "2023-03-03T09:13:56.401077Z",
     "shell.execute_reply": "2023-03-03T09:13:56.400075Z",
     "shell.execute_reply.started": "2023-03-03T09:13:56.383556Z"
    },
    "tags": []
   },
   "outputs": [
    {
     "data": {
      "text/plain": [
       "'akram'"
      ]
     },
     "execution_count": 34,
     "metadata": {},
     "output_type": "execute_result"
    }
   ],
   "source": [
    "people[1]['name']"
   ]
  },
  {
   "cell_type": "code",
   "execution_count": null,
   "id": "f231b5ed-bd57-4b7e-8fec-e1621b7fb2f5",
   "metadata": {},
   "outputs": [],
   "source": []
  },
  {
   "cell_type": "code",
   "execution_count": null,
   "id": "f3d01640-32a3-4fe1-9b7c-5daa6c48a433",
   "metadata": {},
   "outputs": [],
   "source": []
  },
  {
   "cell_type": "code",
   "execution_count": null,
   "id": "48c112c5-128f-44bb-b6fb-6f71ac13b5e3",
   "metadata": {},
   "outputs": [],
   "source": []
  },
  {
   "cell_type": "code",
   "execution_count": 37,
   "id": "6203091f-00f0-4056-adcd-7481c4498e3a",
   "metadata": {
    "execution": {
     "iopub.execute_input": "2023-03-03T09:16:05.825113Z",
     "iopub.status.busy": "2023-03-03T09:16:05.824124Z",
     "iopub.status.idle": "2023-03-03T09:16:05.848122Z",
     "shell.execute_reply": "2023-03-03T09:16:05.847122Z",
     "shell.execute_reply.started": "2023-03-03T09:16:05.825113Z"
    },
    "tags": []
   },
   "outputs": [
    {
     "data": {
      "text/plain": [
       "False"
      ]
     },
     "execution_count": 37,
     "metadata": {},
     "output_type": "execute_result"
    }
   ],
   "source": [
    "'dfsdfj' in person1['hobbies']\n"
   ]
  },
  {
   "cell_type": "code",
   "execution_count": 38,
   "id": "fae53180-aa19-4686-b7e3-9b1d9e2216c1",
   "metadata": {
    "execution": {
     "iopub.execute_input": "2023-03-03T09:16:13.009660Z",
     "iopub.status.busy": "2023-03-03T09:16:13.008664Z",
     "iopub.status.idle": "2023-03-03T09:16:13.035661Z",
     "shell.execute_reply": "2023-03-03T09:16:13.034656Z",
     "shell.execute_reply.started": "2023-03-03T09:16:13.009660Z"
    },
    "tags": []
   },
   "outputs": [
    {
     "data": {
      "text/plain": [
       "22"
      ]
     },
     "execution_count": 38,
     "metadata": {},
     "output_type": "execute_result"
    }
   ],
   "source": [
    "person1['age']"
   ]
  },
  {
   "cell_type": "code",
   "execution_count": 24,
   "id": "e0209a4a-923d-42e2-9fb4-7c3a883d2c46",
   "metadata": {
    "execution": {
     "iopub.execute_input": "2023-03-03T12:35:45.647017Z",
     "iopub.status.busy": "2023-03-03T12:35:45.646017Z",
     "iopub.status.idle": "2023-03-03T12:35:45.666017Z",
     "shell.execute_reply": "2023-03-03T12:35:45.665014Z",
     "shell.execute_reply.started": "2023-03-03T12:35:45.647017Z"
    },
    "tags": []
   },
   "outputs": [
    {
     "data": {
      "text/plain": [
       "9"
      ]
     },
     "execution_count": 24,
     "metadata": {},
     "output_type": "execute_result"
    }
   ],
   "source": []
  },
  {
   "cell_type": "code",
   "execution_count": 19,
   "id": "178fe212-6aad-4f03-acf6-4d493eced350",
   "metadata": {
    "execution": {
     "iopub.execute_input": "2023-03-03T12:34:41.609005Z",
     "iopub.status.busy": "2023-03-03T12:34:41.608007Z",
     "iopub.status.idle": "2023-03-03T12:34:41.623006Z",
     "shell.execute_reply": "2023-03-03T12:34:41.622040Z",
     "shell.execute_reply.started": "2023-03-03T12:34:41.609005Z"
    },
    "tags": []
   },
   "outputs": [],
   "source": []
  },
  {
   "cell_type": "code",
   "execution_count": 23,
   "id": "c919ec25-09ae-47b6-89d1-61644bbf96db",
   "metadata": {
    "execution": {
     "iopub.execute_input": "2023-03-03T12:35:42.992502Z",
     "iopub.status.busy": "2023-03-03T12:35:42.991504Z",
     "iopub.status.idle": "2023-03-03T12:35:42.997506Z",
     "shell.execute_reply": "2023-03-03T12:35:42.996503Z",
     "shell.execute_reply.started": "2023-03-03T12:35:42.992502Z"
    },
    "tags": []
   },
   "outputs": [],
   "source": []
  },
  {
   "cell_type": "code",
   "execution_count": 40,
   "id": "9073a733-9728-4a72-b558-e520e02edbf7",
   "metadata": {
    "execution": {
     "iopub.execute_input": "2023-03-03T09:16:26.745739Z",
     "iopub.status.busy": "2023-03-03T09:16:26.745739Z",
     "iopub.status.idle": "2023-03-03T09:16:26.763922Z",
     "shell.execute_reply": "2023-03-03T09:16:26.761900Z",
     "shell.execute_reply.started": "2023-03-03T09:16:26.745739Z"
    },
    "tags": []
   },
   "outputs": [],
   "source": [
    "person1['phone'] = \"+012078496\""
   ]
  },
  {
   "cell_type": "code",
   "execution_count": 47,
   "id": "11278a62-b70d-479e-b709-725a0c902e61",
   "metadata": {
    "execution": {
     "iopub.execute_input": "2023-03-03T09:19:36.471198Z",
     "iopub.status.busy": "2023-03-03T09:19:36.470196Z",
     "iopub.status.idle": "2023-03-03T09:19:36.485196Z",
     "shell.execute_reply": "2023-03-03T09:19:36.484193Z",
     "shell.execute_reply.started": "2023-03-03T09:19:36.470196Z"
    },
    "tags": []
   },
   "outputs": [],
   "source": [
    "person1['residence'] = 'october'"
   ]
  },
  {
   "cell_type": "code",
   "execution_count": null,
   "id": "d0972749-472c-4687-8d1f-c556f4551926",
   "metadata": {},
   "outputs": [],
   "source": [
    "person1.items() # key value pairs"
   ]
  },
  {
   "cell_type": "code",
   "execution_count": null,
   "id": "5b281b57-f077-4057-ba39-3585ad5e746b",
   "metadata": {},
   "outputs": [],
   "source": [
    "person1.values()"
   ]
  },
  {
   "cell_type": "code",
   "execution_count": null,
   "id": "d4792c6b-50de-4fd2-ae73-bf808f5ba2de",
   "metadata": {},
   "outputs": [],
   "source": [
    "person1.keys()"
   ]
  },
  {
   "cell_type": "code",
   "execution_count": 49,
   "id": "5df31077-9a8e-4304-b1a4-1d6286cc662e",
   "metadata": {
    "execution": {
     "iopub.execute_input": "2023-03-03T09:20:02.148920Z",
     "iopub.status.busy": "2023-03-03T09:20:02.147886Z",
     "iopub.status.idle": "2023-03-03T09:20:02.169885Z",
     "shell.execute_reply": "2023-03-03T09:20:02.167920Z",
     "shell.execute_reply.started": "2023-03-03T09:20:02.148920Z"
    }
   },
   "outputs": [
    {
     "data": {
      "text/plain": [
       "{'name': 'ahmed',\n",
       " 'age': 22,\n",
       " 'hobbies': ['swimming', 'coding'],\n",
       " 'phone': '+012078496',\n",
       " 'residence': 'october'}"
      ]
     },
     "execution_count": 49,
     "metadata": {},
     "output_type": "execute_result"
    }
   ],
   "source": [
    "person1"
   ]
  },
  {
   "cell_type": "markdown",
   "id": "453b80d7-2a9f-444f-8aba-63ca1ba7ee9e",
   "metadata": {},
   "source": [
    "### Set"
   ]
  },
  {
   "cell_type": "code",
   "execution_count": 37,
   "id": "52f4f8b1-94f1-46a2-bfe9-1b0cf717ad39",
   "metadata": {
    "execution": {
     "iopub.execute_input": "2023-03-03T18:52:39.336150Z",
     "iopub.status.busy": "2023-03-03T18:52:39.335146Z",
     "iopub.status.idle": "2023-03-03T18:52:39.353904Z",
     "shell.execute_reply": "2023-03-03T18:52:39.352909Z",
     "shell.execute_reply.started": "2023-03-03T18:52:39.336150Z"
    },
    "tags": []
   },
   "outputs": [
    {
     "name": "stdout",
     "output_type": "stream",
     "text": [
      "{1, 2, 3, 4, 5, 6, 7, 10}\n"
     ]
    }
   ],
   "source": [
    "items = {10,1,1,3,2,1,2,3,4,5,6,7} # unique\n",
    "print(items) \n",
    "# +-*/** <> =="
   ]
  },
  {
   "cell_type": "markdown",
   "id": "149dc439-3738-426f-9a26-f6ec0e568973",
   "metadata": {},
   "source": [
    "- if we add a string it will be sorted by ASCII \n",
    "- the [ASCII](http://sticksandstones.kstrom.com/appen.html) value for \"a\" is 097\n",
    "- 10 would be a 1 then 0, which comes before 2"
   ]
  },
  {
   "cell_type": "code",
   "execution_count": 43,
   "id": "89a7326c-4925-4854-a856-35d6b2b6e4cb",
   "metadata": {
    "execution": {
     "iopub.execute_input": "2023-03-03T18:53:20.176168Z",
     "iopub.status.busy": "2023-03-03T18:53:20.176168Z",
     "iopub.status.idle": "2023-03-03T18:53:20.190950Z",
     "shell.execute_reply": "2023-03-03T18:53:20.189393Z",
     "shell.execute_reply.started": "2023-03-03T18:53:20.176168Z"
    },
    "tags": []
   },
   "outputs": [
    {
     "name": "stdout",
     "output_type": "stream",
     "text": [
      "{'a', 1, 2, 3, 4, 5, 6, 7, 10}\n"
     ]
    }
   ],
   "source": [
    "items = {10,1,1,\"a\",3,2,1,2,3,4,5,6,7}\n",
    "print(items) "
   ]
  },
  {
   "cell_type": "markdown",
   "id": "95dc88d1-2faf-45f1-af3f-ab9870318108",
   "metadata": {},
   "source": [
    "Note:\n",
    "  The constructor `{}` creates an empty `dict` not `set`"
   ]
  },
  {
   "cell_type": "code",
   "execution_count": 44,
   "id": "70b0f9e5-4925-4853-b51d-704c8b8a1cb3",
   "metadata": {
    "execution": {
     "iopub.execute_input": "2023-03-03T18:54:30.932159Z",
     "iopub.status.busy": "2023-03-03T18:54:30.931159Z",
     "iopub.status.idle": "2023-03-03T18:54:30.948163Z",
     "shell.execute_reply": "2023-03-03T18:54:30.947162Z",
     "shell.execute_reply.started": "2023-03-03T18:54:30.932159Z"
    },
    "tags": []
   },
   "outputs": [
    {
     "data": {
      "text/plain": [
       "dict"
      ]
     },
     "execution_count": 44,
     "metadata": {},
     "output_type": "execute_result"
    }
   ],
   "source": [
    "type({}) # ?????"
   ]
  },
  {
   "cell_type": "code",
   "execution_count": 45,
   "id": "9503897f-d61b-4072-b46b-6f68a99bb1d1",
   "metadata": {
    "execution": {
     "iopub.execute_input": "2023-03-03T18:54:33.289361Z",
     "iopub.status.busy": "2023-03-03T18:54:33.289361Z",
     "iopub.status.idle": "2023-03-03T18:54:33.297450Z",
     "shell.execute_reply": "2023-03-03T18:54:33.296844Z",
     "shell.execute_reply.started": "2023-03-03T18:54:33.289361Z"
    },
    "tags": []
   },
   "outputs": [
    {
     "data": {
      "text/plain": [
       "'2000/1/1'"
      ]
     },
     "execution_count": 45,
     "metadata": {},
     "output_type": "execute_result"
    }
   ],
   "source": [
    "\"/\".join(['2000', '1', \"1\"])"
   ]
  },
  {
   "cell_type": "code",
   "execution_count": 46,
   "id": "fe52d447-73c1-4368-968f-8ff98930ca52",
   "metadata": {
    "execution": {
     "iopub.execute_input": "2023-03-03T18:54:35.640431Z",
     "iopub.status.busy": "2023-03-03T18:54:35.639421Z",
     "iopub.status.idle": "2023-03-03T18:54:35.649419Z",
     "shell.execute_reply": "2023-03-03T18:54:35.648420Z",
     "shell.execute_reply.started": "2023-03-03T18:54:35.640431Z"
    },
    "tags": []
   },
   "outputs": [
    {
     "data": {
      "text/plain": [
       "{3, 5}"
      ]
     },
     "execution_count": 46,
     "metadata": {},
     "output_type": "execute_result"
    }
   ],
   "source": [
    "s =  {1,2,3,4,5,6,7,8}\n",
    "s2 = {3,5,22}\n",
    "s.intersection(s2)"
   ]
  },
  {
   "cell_type": "code",
   "execution_count": 47,
   "id": "d4383767-a837-4d0e-9c1f-adc210cb94ee",
   "metadata": {
    "execution": {
     "iopub.execute_input": "2023-03-03T18:54:51.999369Z",
     "iopub.status.busy": "2023-03-03T18:54:51.998362Z",
     "iopub.status.idle": "2023-03-03T18:54:52.010356Z",
     "shell.execute_reply": "2023-03-03T18:54:52.009357Z",
     "shell.execute_reply.started": "2023-03-03T18:54:51.999369Z"
    },
    "tags": []
   },
   "outputs": [
    {
     "data": {
      "text/plain": [
       "['a', 'h', 'm', 'e', 'd']"
      ]
     },
     "execution_count": 47,
     "metadata": {},
     "output_type": "execute_result"
    }
   ],
   "source": [
    "list('ahmed') # separates the chars into list items"
   ]
  },
  {
   "cell_type": "markdown",
   "id": "f1ef8acc-0e4a-40f6-9273-d5ad94e87046",
   "metadata": {
    "tags": []
   },
   "source": [
    "### Boolean"
   ]
  },
  {
   "cell_type": "code",
   "execution_count": 96,
   "id": "5bbbd9fb-d8a3-4c09-bf29-c5924147b1e7",
   "metadata": {},
   "outputs": [
    {
     "data": {
      "text/plain": [
       "True"
      ]
     },
     "execution_count": 96,
     "metadata": {},
     "output_type": "execute_result"
    }
   ],
   "source": [
    "True\n",
    "False"
   ]
  },
  {
   "cell_type": "code",
   "execution_count": 10,
   "id": "b64a6220-093d-499d-8c2b-894e2a39771c",
   "metadata": {
    "execution": {
     "iopub.execute_input": "2023-03-03T09:35:30.922806Z",
     "iopub.status.busy": "2023-03-03T09:35:30.921807Z",
     "iopub.status.idle": "2023-03-03T09:35:30.936806Z",
     "shell.execute_reply": "2023-03-03T09:35:30.933806Z",
     "shell.execute_reply.started": "2023-03-03T09:35:30.922806Z"
    },
    "tags": []
   },
   "outputs": [],
   "source": [
    "x = True + True"
   ]
  },
  {
   "cell_type": "code",
   "execution_count": 20,
   "id": "d0c4749c-0339-484d-af47-75f0988760f1",
   "metadata": {
    "execution": {
     "iopub.execute_input": "2023-03-03T09:36:30.749062Z",
     "iopub.status.busy": "2023-03-03T09:36:30.746065Z",
     "iopub.status.idle": "2023-03-03T09:36:30.764073Z",
     "shell.execute_reply": "2023-03-03T09:36:30.759095Z",
     "shell.execute_reply.started": "2023-03-03T09:36:30.749062Z"
    },
    "tags": []
   },
   "outputs": [
    {
     "data": {
      "text/plain": [
       "True"
      ]
     },
     "execution_count": 20,
     "metadata": {},
     "output_type": "execute_result"
    }
   ],
   "source": [
    "bool('skfgsgf')"
   ]
  },
  {
   "cell_type": "code",
   "execution_count": 51,
   "id": "52d1be5c-d689-490d-9bb0-51c2f18c6a5a",
   "metadata": {
    "execution": {
     "iopub.execute_input": "2023-03-03T18:57:26.502355Z",
     "iopub.status.busy": "2023-03-03T18:57:26.501359Z",
     "iopub.status.idle": "2023-03-03T18:57:26.519166Z",
     "shell.execute_reply": "2023-03-03T18:57:26.518205Z",
     "shell.execute_reply.started": "2023-03-03T18:57:26.502355Z"
    },
    "tags": []
   },
   "outputs": [
    {
     "name": "stdout",
     "output_type": "stream",
     "text": [
      "True\n",
      "False\n",
      "True\n",
      "False\n",
      "True\n",
      "True\n"
     ]
    }
   ],
   "source": [
    "print(bool(5)) \n",
    "print(bool(0)) \n",
    "print(bool(\"divdfiogd\"))\n",
    "print(bool(\"\"))\n",
    "print(bool(\" \"))\n",
    "print(bool([[]])) # a set containing an empty set (which is an object)"
   ]
  },
  {
   "cell_type": "code",
   "execution_count": 53,
   "id": "787c8a3c-04e0-44b6-9f8e-576b4529687b",
   "metadata": {
    "execution": {
     "iopub.execute_input": "2023-03-03T18:57:47.012174Z",
     "iopub.status.busy": "2023-03-03T18:57:47.011208Z",
     "iopub.status.idle": "2023-03-03T18:57:47.020790Z",
     "shell.execute_reply": "2023-03-03T18:57:47.019512Z",
     "shell.execute_reply.started": "2023-03-03T18:57:47.012174Z"
    },
    "tags": []
   },
   "outputs": [],
   "source": [
    "age = 25\n",
    "Age = 33\n",
    "#Two different Vars"
   ]
  },
  {
   "cell_type": "code",
   "execution_count": 54,
   "id": "a022d5a6-d5e9-4c6d-91f7-39593d015b82",
   "metadata": {
    "execution": {
     "iopub.execute_input": "2023-03-03T18:57:47.752432Z",
     "iopub.status.busy": "2023-03-03T18:57:47.751456Z",
     "iopub.status.idle": "2023-03-03T18:57:47.772432Z",
     "shell.execute_reply": "2023-03-03T18:57:47.771430Z",
     "shell.execute_reply.started": "2023-03-03T18:57:47.752432Z"
    },
    "tags": []
   },
   "outputs": [
    {
     "data": {
      "text/plain": [
       "33"
      ]
     },
     "execution_count": 54,
     "metadata": {},
     "output_type": "execute_result"
    }
   ],
   "source": [
    "Age"
   ]
  },
  {
   "cell_type": "code",
   "execution_count": 56,
   "id": "f1656c26-a79e-4b28-a8ba-0c54569d2fc3",
   "metadata": {
    "execution": {
     "iopub.execute_input": "2023-03-03T18:58:10.893565Z",
     "iopub.status.busy": "2023-03-03T18:58:10.892422Z",
     "iopub.status.idle": "2023-03-03T18:58:10.905552Z",
     "shell.execute_reply": "2023-03-03T18:58:10.904590Z",
     "shell.execute_reply.started": "2023-03-03T18:58:10.893565Z"
    },
    "tags": []
   },
   "outputs": [
    {
     "ename": "SyntaxError",
     "evalue": "invalid syntax (1652107911.py, line 1)",
     "output_type": "error",
     "traceback": [
      "\u001b[1;36m  Input \u001b[1;32mIn [56]\u001b[1;36m\u001b[0m\n\u001b[1;33m    while = 5 # error :you can't name a variable with a reserved keyword\u001b[0m\n\u001b[1;37m          ^\u001b[0m\n\u001b[1;31mSyntaxError\u001b[0m\u001b[1;31m:\u001b[0m invalid syntax\n"
     ]
    }
   ],
   "source": [
    "while = 5 # error :you can't name a variable with a reserved keyword"
   ]
  },
  {
   "cell_type": "code",
   "execution_count": 38,
   "id": "672ed48b-a8b1-48b4-a816-2bd7b6cbc99a",
   "metadata": {
    "execution": {
     "iopub.execute_input": "2023-03-03T09:41:26.249412Z",
     "iopub.status.busy": "2023-03-03T09:41:26.247410Z",
     "iopub.status.idle": "2023-03-03T09:41:26.265411Z",
     "shell.execute_reply": "2023-03-03T09:41:26.263410Z",
     "shell.execute_reply.started": "2023-03-03T09:41:26.249412Z"
    }
   },
   "outputs": [],
   "source": [
    "round = 5 # messes with the original round function"
   ]
  },
  {
   "cell_type": "code",
   "execution_count": 39,
   "id": "b7eacf80-2090-4f04-8388-9f7cae17cc1c",
   "metadata": {
    "execution": {
     "iopub.execute_input": "2023-03-03T09:41:38.953265Z",
     "iopub.status.busy": "2023-03-03T09:41:38.953265Z",
     "iopub.status.idle": "2023-03-03T09:41:39.163237Z",
     "shell.execute_reply": "2023-03-03T09:41:39.162239Z",
     "shell.execute_reply.started": "2023-03-03T09:41:38.953265Z"
    }
   },
   "outputs": [
    {
     "ename": "TypeError",
     "evalue": "'int' object is not callable",
     "output_type": "error",
     "traceback": [
      "\u001b[1;31m---------------------------------------------------------------------------\u001b[0m",
      "\u001b[1;31mTypeError\u001b[0m                                 Traceback (most recent call last)",
      "\u001b[1;32m~\\AppData\\Local\\Temp/ipykernel_22168/3756608069.py\u001b[0m in \u001b[0;36m<module>\u001b[1;34m\u001b[0m\n\u001b[1;32m----> 1\u001b[1;33m \u001b[0mround\u001b[0m\u001b[1;33m(\u001b[0m\u001b[1;36m0.24\u001b[0m\u001b[1;33m)\u001b[0m\u001b[1;33m\u001b[0m\u001b[1;33m\u001b[0m\u001b[0m\n\u001b[0m",
      "\u001b[1;31mTypeError\u001b[0m: 'int' object is not callable"
     ]
    }
   ],
   "source": [
    "round(0.24) # round now is not a function "
   ]
  },
  {
   "cell_type": "markdown",
   "id": "1b02c2c1-221f-46e4-aca9-075622594675",
   "metadata": {},
   "source": [
    "## Naming Conventions \n",
    "in Python dictate how you should name your variables, functions, classes, and other objects in your code.\n",
    "### Rules:\n",
    "\n",
    "- Names <b>MUST</b> start with a letter or an underscore (_).\n",
    "- Names <b>MUST</b> contain either letters, numbers, and underscores.\n",
    "- Names <b>CANNOT</b> contain spaces.\n",
    "- Names are case-sensitive, meaning that myVariable and myvariable are treated as different variables.\n",
    "\n",
    "### Python has a list of reserved words that cannot be used as variable names. Some examples of reserved words include `if`, `else`, `for`, `while`, `print`, etc.\n",
    "It is a good practice to give descriptive names to your variables, functions, and other objects. For example, instead of naming a variable x, you could name it age if it represents the age of a person.\n",
    "It is also common to use `camelCase` or `snake_case` when naming variables.\n",
    "Adhering to these naming conventions will make your code easier to read and understand for yourself and other developers."
   ]
  },
  {
   "cell_type": "code",
   "execution_count": 116,
   "id": "ae52f90c-e4a1-4142-861d-5336f3ac3ab7",
   "metadata": {},
   "outputs": [],
   "source": [
    "long_name_for_a_variable = \"some text\"\n",
    "long_variable_name = \"some text\" \n",
    "longVariableName = \"some text\""
   ]
  },
  {
   "cell_type": "markdown",
   "id": "2c9da5af-f165-4c84-9287-b0eee5b30a9c",
   "metadata": {},
   "source": [
    "for more content: https://peps.python.org/pep-0008/"
   ]
  },
  {
   "cell_type": "markdown",
   "id": "04971d63-2ab8-4744-9eee-1963c37f604b",
   "metadata": {},
   "source": [
    "## Operators\n",
    "### Arithmetic \n",
    "- `+`  Addition\t        $5 + 2 = 7$<br>\n",
    "- `-`  Subtraction\t    $4 - 2 = 2$ <br>\n",
    "- `*`  Multiplication   $2 * 3 = 6$ <br>\n",
    "- `/`  Division\t        $4 / 2 = 2$ <br>\n",
    "- `//` Floor Division\t$10 // 3 = 3$<br>\n",
    "- `%`  Modulo\t        $5 % 2 = 1$<br>\n",
    "- `**`  Power\t        $4 ** 2 = 16$<br>\n",
    "\n",
    "### Assignment      \n",
    "- `=`\tAssignment Operator\t          $a = 7$<br>\n",
    "- `+=`\tAddition Assignment\t          $a += 1 ~~~~~ a = a + 1$<br>\n",
    "- `-=`\tSubtraction Assignment\t      $a -= 3 ~~~~~ a = a - 3$<br>\n",
    "- `*=`\tMultiplication Assignment\t  $a *= 4 ~~~~~ a = a * 4$<br>\n",
    "- `/=`\tDivision Assignment\t          $a /= 3 ~~~~~ a = a / 3$<br>\n",
    "- `**=`\tExponent Assignment\t          $a **= 10 ~~~~~ a = a ** 10$<br>\n",
    "\n",
    "### Comparison \n",
    "- `==`\tIs Equal To\t                 $3 == 5$ gives us False<br>\n",
    "- `!=`\tNot Equal To\t             $3 != 5$ gives us True<br>\n",
    "- `>`    Greater Than\t             $3 > 5 $ gives us False<br>\n",
    "- `<`    Less Than\t                 $3 < 5 $ gives us True<br>\n",
    "- `>=`\tGreater Than or Equal To     $3 >= 5$ give us False<br>\n",
    "- `<=`\tLess Than or Equal To\t     $3 <= 5$ gives us True<br>\n",
    "\n",
    "### Logical Operators \n",
    "- `and` both conditions and true<br>\n",
    "- `or`  at least one is true <br>\n",
    "- `not` negate or invert the boolean"
   ]
  },
  {
   "cell_type": "code",
   "execution_count": 36,
   "id": "b77ba3f7-d024-4e0e-ae90-7484ab809786",
   "metadata": {
    "execution": {
     "iopub.execute_input": "2023-03-01T16:30:01.247204Z",
     "iopub.status.busy": "2023-03-01T16:30:01.246194Z",
     "iopub.status.idle": "2023-03-01T16:30:01.276726Z",
     "shell.execute_reply": "2023-03-01T16:30:01.274724Z",
     "shell.execute_reply.started": "2023-03-01T16:30:01.247204Z"
    },
    "tags": []
   },
   "outputs": [
    {
     "data": {
      "text/plain": [
       "False"
      ]
     },
     "execution_count": 36,
     "metadata": {},
     "output_type": "execute_result"
    }
   ],
   "source": [
    "x = not 5\n",
    "x"
   ]
  },
  {
   "cell_type": "code",
   "execution_count": 47,
   "id": "efd022ca-b56e-4394-94ab-3a25e27911ab",
   "metadata": {
    "execution": {
     "iopub.execute_input": "2023-03-03T09:44:34.799873Z",
     "iopub.status.busy": "2023-03-03T09:44:34.797875Z",
     "iopub.status.idle": "2023-03-03T09:44:34.821889Z",
     "shell.execute_reply": "2023-03-03T09:44:34.817887Z",
     "shell.execute_reply.started": "2023-03-03T09:44:34.799873Z"
    },
    "tags": []
   },
   "outputs": [
    {
     "data": {
      "text/plain": [
       "2"
      ]
     },
     "execution_count": 47,
     "metadata": {},
     "output_type": "execute_result"
    }
   ],
   "source": [
    "6 // 3"
   ]
  },
  {
   "cell_type": "code",
   "execution_count": null,
   "id": "c0773249-aa9f-4f98-b1c5-520c771faef7",
   "metadata": {},
   "outputs": [],
   "source": [
    "#jfdg df;go kfd"
   ]
  },
  {
   "cell_type": "code",
   "execution_count": 52,
   "id": "12ab2fd9-2685-4a62-a1d7-2c952740fa36",
   "metadata": {
    "execution": {
     "iopub.execute_input": "2023-03-03T09:45:47.390914Z",
     "iopub.status.busy": "2023-03-03T09:45:47.390914Z",
     "iopub.status.idle": "2023-03-03T09:45:47.406228Z",
     "shell.execute_reply": "2023-03-03T09:45:47.405264Z",
     "shell.execute_reply.started": "2023-03-03T09:45:47.390914Z"
    },
    "tags": []
   },
   "outputs": [
    {
     "data": {
      "text/plain": [
       "1"
      ]
     },
     "execution_count": 52,
     "metadata": {},
     "output_type": "execute_result"
    }
   ],
   "source": [
    "67 % 6 "
   ]
  },
  {
   "cell_type": "code",
   "execution_count": 57,
   "id": "b9c768b3-c120-457c-9937-78d6fee0ec98",
   "metadata": {
    "execution": {
     "iopub.execute_input": "2023-03-03T18:58:56.464547Z",
     "iopub.status.busy": "2023-03-03T18:58:56.463546Z",
     "iopub.status.idle": "2023-03-03T18:58:56.479710Z",
     "shell.execute_reply": "2023-03-03T18:58:56.478705Z",
     "shell.execute_reply.started": "2023-03-03T18:58:56.464547Z"
    },
    "tags": []
   },
   "outputs": [
    {
     "data": {
      "text/plain": [
       "False"
      ]
     },
     "execution_count": 57,
     "metadata": {},
     "output_type": "execute_result"
    }
   ],
   "source": [
    "True and not True"
   ]
  },
  {
   "cell_type": "markdown",
   "id": "44d6cb92-5186-435a-8efd-cdaf7e2b609c",
   "metadata": {},
   "source": [
    "## Conditions - Selection Control "
   ]
  },
  {
   "cell_type": "code",
   "execution_count": 26,
   "id": "5ef3fc16-a125-47fa-8d9c-c922bc0ee642",
   "metadata": {
    "execution": {
     "iopub.execute_input": "2023-03-01T16:26:07.049119Z",
     "iopub.status.busy": "2023-03-01T16:26:07.048118Z",
     "iopub.status.idle": "2023-03-01T16:26:07.072655Z",
     "shell.execute_reply": "2023-03-01T16:26:07.071654Z",
     "shell.execute_reply.started": "2023-03-01T16:26:07.049119Z"
    }
   },
   "outputs": [
    {
     "name": "stdout",
     "output_type": "stream",
     "text": [
      "yes\n"
     ]
    }
   ],
   "source": [
    "if 10:\n",
    "  print(\"yes\")"
   ]
  },
  {
   "cell_type": "code",
   "execution_count": null,
   "id": "27e7c6f0-c515-447a-a588-6033737ea084",
   "metadata": {},
   "outputs": [],
   "source": []
  },
  {
   "cell_type": "code",
   "execution_count": 144,
   "id": "605159b5-8ccb-47c4-a8d8-618bc34c5f4e",
   "metadata": {},
   "outputs": [
    {
     "name": "stdout",
     "output_type": "stream",
     "text": [
      "Can neither Vote nor Drive\n"
     ]
    }
   ],
   "source": [
    "age = 17\n",
    "if age>=18:\n",
    "    print(\"Can Vote\")\n",
    "    if age>=21:\n",
    "        print(\"Can drive\")\n",
    "else:\n",
    "    print(\"Can neither Vote nor Drive\")"
   ]
  },
  {
   "cell_type": "code",
   "execution_count": 27,
   "id": "26c5e13e-4a0a-4428-94be-051f8d26ac90",
   "metadata": {
    "execution": {
     "iopub.execute_input": "2023-03-01T16:27:39.800245Z",
     "iopub.status.busy": "2023-03-01T16:27:39.799283Z",
     "iopub.status.idle": "2023-03-01T16:27:39.820368Z",
     "shell.execute_reply": "2023-03-01T16:27:39.819367Z",
     "shell.execute_reply.started": "2023-03-01T16:27:39.800245Z"
    }
   },
   "outputs": [
    {
     "name": "stdout",
     "output_type": "stream",
     "text": [
      "Can Drive\n"
     ]
    }
   ],
   "source": [
    "age = 22\n",
    "if age>=21:\n",
    "    print(\"Can Drive\")\n",
    "elif age>=18:\n",
    "    print(\"Can Vote\")\n",
    "else:\n",
    "    print(\"Can neither Vote nor Drive\")\n",
    "    "
   ]
  },
  {
   "cell_type": "code",
   "execution_count": 154,
   "id": "eb47711e-041d-4106-9676-712d1252feb3",
   "metadata": {},
   "outputs": [
    {
     "data": {
      "text/plain": [
       "True"
      ]
     },
     "execution_count": 154,
     "metadata": {},
     "output_type": "execute_result"
    }
   ],
   "source": [
    "#in operator\n",
    "name = \"ahmed\"\n",
    "DataScienceMembers  = [\"ahmed\", 'mohammed', 'someone else']\n",
    "name in DataScienceMembers"
   ]
  },
  {
   "cell_type": "code",
   "execution_count": 58,
   "id": "8836c8ad-1f0a-44b6-913a-0c58df2c7fdb",
   "metadata": {
    "execution": {
     "iopub.execute_input": "2023-03-03T18:59:40.266344Z",
     "iopub.status.busy": "2023-03-03T18:59:40.265343Z",
     "iopub.status.idle": "2023-03-03T18:59:40.284761Z",
     "shell.execute_reply": "2023-03-03T18:59:40.283799Z",
     "shell.execute_reply.started": "2023-03-03T18:59:40.266344Z"
    },
    "tags": []
   },
   "outputs": [
    {
     "name": "stdout",
     "output_type": "stream",
     "text": [
      "10\n"
     ]
    }
   ],
   "source": [
    "####### Ternary operator\n",
    "a, b = 10, 20\n",
    "min = a if a < b else b\n",
    "print(min)"
   ]
  },
  {
   "cell_type": "markdown",
   "id": "1c5408b5-a834-4245-badf-e2bec0a4b053",
   "metadata": {
    "tags": []
   },
   "source": [
    "#### task\n",
    "create a system for a credit card transactions\n",
    "- check if the card `is_valid`\n",
    "- if valid, check if the `credit` is sufficient for `total`\n",
    "- $$total = quantity * unitPrice$$\n",
    "- Return the remainder afterwards"
   ]
  },
  {
   "cell_type": "markdown",
   "id": "4a691960-cd2c-439c-96d3-23c097f63f5e",
   "metadata": {
    "tags": []
   },
   "source": [
    "#### solution"
   ]
  },
  {
   "cell_type": "code",
   "execution_count": 59,
   "id": "15489a50-cdec-421d-87a8-2ca21d7002c1",
   "metadata": {
    "execution": {
     "iopub.execute_input": "2023-03-03T19:00:21.810074Z",
     "iopub.status.busy": "2023-03-03T19:00:21.809064Z",
     "iopub.status.idle": "2023-03-03T19:00:21.822069Z",
     "shell.execute_reply": "2023-03-03T19:00:21.821068Z",
     "shell.execute_reply.started": "2023-03-03T19:00:21.810074Z"
    },
    "tags": []
   },
   "outputs": [
    {
     "name": "stdout",
     "output_type": "stream",
     "text": [
      "Invalid Card\n"
     ]
    }
   ],
   "source": [
    "# Inputs\n",
    "is_valid = False \n",
    "credit = 120\n",
    "quantity = 5\n",
    "unitPrice = 21\n",
    "\n",
    "# Code\n",
    "total = quantity * unitPrice\n",
    "if is_valid == True:\n",
    "    if total <= credit:\n",
    "        credit = credit - total\n",
    "        print(f\"Success! Your Current credit is {credit}\")\n",
    "    else:\n",
    "        print(\"not sufficient credit\")\n",
    "else:\n",
    "    print(\"Invalid Card\")\n"
   ]
  },
  {
   "cell_type": "markdown",
   "id": "ba8d65a0-77f0-4319-82c7-73d9feee4d7b",
   "metadata": {
    "tags": []
   },
   "source": [
    "#### Task"
   ]
  },
  {
   "cell_type": "code",
   "execution_count": 14,
   "id": "814d0233-1ea6-476e-92e2-6a0de3198fd4",
   "metadata": {
    "execution": {
     "iopub.execute_input": "2023-03-03T12:20:37.456871Z",
     "iopub.status.busy": "2023-03-03T12:20:37.454874Z",
     "iopub.status.idle": "2023-03-03T12:20:37.485432Z",
     "shell.execute_reply": "2023-03-03T12:20:37.484466Z",
     "shell.execute_reply.started": "2023-03-03T12:20:37.456871Z"
    },
    "tags": []
   },
   "outputs": [
    {
     "data": {
      "text/plain": [
       "\u001b[1;31mSignature:\u001b[0m   \u001b[0mhelp\u001b[0m\u001b[1;33m(\u001b[0m\u001b[1;33m*\u001b[0m\u001b[0margs\u001b[0m\u001b[1;33m,\u001b[0m \u001b[1;33m**\u001b[0m\u001b[0mkwds\u001b[0m\u001b[1;33m)\u001b[0m\u001b[1;33m\u001b[0m\u001b[1;33m\u001b[0m\u001b[0m\n",
       "\u001b[1;31mType:\u001b[0m        _Helper\n",
       "\u001b[1;31mString form:\u001b[0m Type help() for interactive help, or help(object) for help about object.\n",
       "\u001b[1;31mNamespace:\u001b[0m   Python builtin\n",
       "\u001b[1;31mFile:\u001b[0m        c:\\users\\dell\\anaconda3\\lib\\_sitebuiltins.py\n",
       "\u001b[1;31mSource:\u001b[0m     \n",
       "\u001b[1;32mclass\u001b[0m \u001b[0m_Helper\u001b[0m\u001b[1;33m(\u001b[0m\u001b[0mobject\u001b[0m\u001b[1;33m)\u001b[0m\u001b[1;33m:\u001b[0m\u001b[1;33m\n",
       "\u001b[0m    \u001b[1;34m\"\"\"Define the builtin 'help'.\n",
       "\n",
       "    This is a wrapper around pydoc.help that provides a helpful message\n",
       "    when 'help' is typed at the Python interactive prompt.\n",
       "\n",
       "    Calling help() at the Python prompt starts an interactive help session.\n",
       "    Calling help(thing) prints help for the python object 'thing'.\n",
       "    \"\"\"\u001b[0m\u001b[1;33m\n",
       "\u001b[0m\u001b[1;33m\n",
       "\u001b[0m    \u001b[1;32mdef\u001b[0m \u001b[0m__repr__\u001b[0m\u001b[1;33m(\u001b[0m\u001b[0mself\u001b[0m\u001b[1;33m)\u001b[0m\u001b[1;33m:\u001b[0m\u001b[1;33m\n",
       "\u001b[0m        \u001b[1;32mreturn\u001b[0m \u001b[1;34m\"Type help() for interactive help, \"\u001b[0m \\\n",
       "               \u001b[1;34m\"or help(object) for help about object.\"\u001b[0m\u001b[1;33m\n",
       "\u001b[0m    \u001b[1;32mdef\u001b[0m \u001b[0m__call__\u001b[0m\u001b[1;33m(\u001b[0m\u001b[0mself\u001b[0m\u001b[1;33m,\u001b[0m \u001b[1;33m*\u001b[0m\u001b[0margs\u001b[0m\u001b[1;33m,\u001b[0m \u001b[1;33m**\u001b[0m\u001b[0mkwds\u001b[0m\u001b[1;33m)\u001b[0m\u001b[1;33m:\u001b[0m\u001b[1;33m\n",
       "\u001b[0m        \u001b[1;32mimport\u001b[0m \u001b[0mpydoc\u001b[0m\u001b[1;33m\n",
       "\u001b[0m        \u001b[1;32mreturn\u001b[0m \u001b[0mpydoc\u001b[0m\u001b[1;33m.\u001b[0m\u001b[0mhelp\u001b[0m\u001b[1;33m(\u001b[0m\u001b[1;33m*\u001b[0m\u001b[0margs\u001b[0m\u001b[1;33m,\u001b[0m \u001b[1;33m**\u001b[0m\u001b[0mkwds\u001b[0m\u001b[1;33m)\u001b[0m\u001b[1;33m\u001b[0m\u001b[1;33m\u001b[0m\u001b[0m\n"
      ]
     },
     "metadata": {},
     "output_type": "display_data"
    }
   ],
   "source": [
    "help??"
   ]
  },
  {
   "cell_type": "markdown",
   "id": "aa226e9a-f9dd-4f3a-8bb5-1bf1d12fd963",
   "metadata": {},
   "source": [
    "## Looping - Iterating"
   ]
  },
  {
   "cell_type": "markdown",
   "id": "08631095-e029-4768-8db8-3bfb020f7ad5",
   "metadata": {},
   "source": [
    "### For Loop"
   ]
  },
  {
   "cell_type": "markdown",
   "id": "6f9f1891-6c8e-40ee-83da-8000afe4bd5e",
   "metadata": {},
   "source": [
    "you should consider looking into [range Function](https://cs.stanford.edu/people/nick/py/python-range.html)"
   ]
  },
  {
   "cell_type": "code",
   "execution_count": 243,
   "id": "2e1edad0-78f7-4813-becd-ebbf6ab796eb",
   "metadata": {},
   "outputs": [
    {
     "data": {
      "text/plain": [
       "[10, 15, 20, 25, 30, 35, 40, 45, 50, 55, 60, 65, 70, 75, 80, 85, 90, 95, 100]"
      ]
     },
     "execution_count": 243,
     "metadata": {},
     "output_type": "execute_result"
    }
   ],
   "source": [
    "list(range(10,101,5))"
   ]
  },
  {
   "cell_type": "code",
   "execution_count": 244,
   "id": "028053f0-3ca8-4968-8494-a514fd186936",
   "metadata": {},
   "outputs": [
    {
     "name": "stdout",
     "output_type": "stream",
     "text": [
      "0\n",
      "1\n",
      "2\n",
      "3\n",
      "4\n",
      "5\n",
      "6\n",
      "7\n",
      "8\n",
      "9\n",
      "10\n",
      "11\n",
      "12\n",
      "13\n",
      "14\n",
      "15\n",
      "16\n",
      "17\n",
      "18\n",
      "19\n"
     ]
    }
   ],
   "source": [
    "for i in range(20):\n",
    "    print(i)"
   ]
  },
  {
   "cell_type": "markdown",
   "id": "b7050216-3178-4bd9-baa9-836e644698ae",
   "metadata": {
    "tags": []
   },
   "source": [
    "##### While loop But it gets ugly "
   ]
  },
  {
   "cell_type": "code",
   "execution_count": 66,
   "id": "d145bbd3-4ea5-4681-aca5-2691e2a38991",
   "metadata": {
    "execution": {
     "iopub.execute_input": "2023-03-03T19:02:48.398631Z",
     "iopub.status.busy": "2023-03-03T19:02:48.397629Z",
     "iopub.status.idle": "2023-03-03T19:02:48.415583Z",
     "shell.execute_reply": "2023-03-03T19:02:48.414619Z",
     "shell.execute_reply.started": "2023-03-03T19:02:48.398631Z"
    },
    "tags": []
   },
   "outputs": [
    {
     "name": "stdout",
     "output_type": "stream",
     "text": [
      "20\n",
      "10.0\n",
      "5.0\n",
      "2.5\n",
      "1.25\n",
      "iterations: 5\n"
     ]
    }
   ],
   "source": [
    "X = 20\n",
    "x=X\n",
    "count = 0\n",
    "while x>1:\n",
    "    print(x)\n",
    "    x =x/2\n",
    "    count+=1\n",
    "print(f\"iterations: {count}\")\n"
   ]
  },
  {
   "cell_type": "code",
   "execution_count": 67,
   "id": "cc49983a-582a-439c-b687-ba0cc8c026d9",
   "metadata": {
    "execution": {
     "iopub.execute_input": "2023-03-03T19:02:48.909924Z",
     "iopub.status.busy": "2023-03-03T19:02:48.908922Z",
     "iopub.status.idle": "2023-03-03T19:02:48.918099Z",
     "shell.execute_reply": "2023-03-03T19:02:48.917504Z",
     "shell.execute_reply.started": "2023-03-03T19:02:48.909924Z"
    },
    "tags": []
   },
   "outputs": [
    {
     "name": "stdout",
     "output_type": "stream",
     "text": [
      "iterations: 5\n"
     ]
    }
   ],
   "source": [
    "#Does the same thing \n",
    "import math\n",
    "count = math.ceil(math.log2(X))\n",
    "print(f\"iterations: {count}\")\n"
   ]
  },
  {
   "cell_type": "code",
   "execution_count": 68,
   "id": "86b3bddc-3697-41b3-8f62-bbff00a8a25b",
   "metadata": {
    "execution": {
     "iopub.execute_input": "2023-03-03T19:02:55.126747Z",
     "iopub.status.busy": "2023-03-03T19:02:55.125731Z",
     "iopub.status.idle": "2023-03-03T19:02:55.133670Z",
     "shell.execute_reply": "2023-03-03T19:02:55.132786Z",
     "shell.execute_reply.started": "2023-03-03T19:02:55.126747Z"
    },
    "tags": []
   },
   "outputs": [
    {
     "name": "stdout",
     "output_type": "stream",
     "text": [
      "FDMKGMK\n",
      "SDJFS\n",
      "KGJJKDFG\n"
     ]
    }
   ],
   "source": [
    "for x in [\"fdmkgmk\", \"sdjfs\", \"kgjjkdfg\"]:\n",
    "    print(x.upper())"
   ]
  },
  {
   "cell_type": "code",
   "execution_count": 62,
   "id": "0550295c-a4d2-4623-8738-890bac7d2194",
   "metadata": {
    "execution": {
     "iopub.execute_input": "2023-03-03T12:01:18.632901Z",
     "iopub.status.busy": "2023-03-03T12:01:18.632901Z",
     "iopub.status.idle": "2023-03-03T12:01:18.650152Z",
     "shell.execute_reply": "2023-03-03T12:01:18.649182Z",
     "shell.execute_reply.started": "2023-03-03T12:01:18.632901Z"
    },
    "tags": []
   },
   "outputs": [
    {
     "data": {
      "text/plain": [
       "6"
      ]
     },
     "execution_count": 62,
     "metadata": {},
     "output_type": "execute_result"
    }
   ],
   "source": []
  },
  {
   "cell_type": "code",
   "execution_count": 70,
   "id": "8adc133e-1d28-40e3-a621-7ab5ea85e231",
   "metadata": {
    "execution": {
     "iopub.execute_input": "2023-03-03T19:03:20.197377Z",
     "iopub.status.busy": "2023-03-03T19:03:20.196382Z",
     "iopub.status.idle": "2023-03-03T19:03:20.235443Z",
     "shell.execute_reply": "2023-03-03T19:03:20.234442Z",
     "shell.execute_reply.started": "2023-03-03T19:03:20.197377Z"
    },
    "tags": []
   },
   "outputs": [
    {
     "name": "stdout",
     "output_type": "stream",
     "text": [
      "1\t2\t3\t4\t5\t6\t7\t8\t9\t10\t11\t12\t\n",
      "2\t4\t6\t8\t10\t12\t14\t16\t18\t20\t22\t24\t\n",
      "3\t6\t9\t12\t15\t18\t21\t24\t27\t30\t33\t36\t\n",
      "4\t8\t12\t16\t20\t24\t28\t32\t36\t40\t44\t48\t\n",
      "5\t10\t15\t20\t25\t30\t35\t40\t45\t50\t55\t60\t\n",
      "6\t12\t18\t24\t30\t36\t42\t48\t54\t60\t66\t72\t\n",
      "7\t14\t21\t28\t35\t42\t49\t56\t63\t70\t77\t84\t\n",
      "8\t16\t24\t32\t40\t48\t56\t64\t72\t80\t88\t96\t\n",
      "9\t18\t27\t36\t45\t54\t63\t72\t81\t90\t99\t108\t\n",
      "10\t20\t30\t40\t50\t60\t70\t80\t90\t100\t110\t120\t\n",
      "11\t22\t33\t44\t55\t66\t77\t88\t99\t110\t121\t132\t\n",
      "12\t24\t36\t48\t60\t72\t84\t96\t108\t120\t132\t144\t\n"
     ]
    }
   ],
   "source": [
    "#Multiplication Table\n",
    "for i in range(1,13):\n",
    "    for j in range(1,13):\n",
    "        print(i*j, end = \"\\t\") # end is the separator between two print statemtns\n",
    "    print()"
   ]
  },
  {
   "cell_type": "code",
   "execution_count": 356,
   "id": "b57a8c5b-faae-4ff5-af56-f85b74d81c62",
   "metadata": {},
   "outputs": [],
   "source": [
    "# pass / continue / break"
   ]
  },
  {
   "cell_type": "markdown",
   "id": "581db273-60cc-49b9-b366-1ec32cbabb02",
   "metadata": {},
   "source": [
    "### Comprehensions"
   ]
  },
  {
   "cell_type": "code",
   "execution_count": 6,
   "id": "0489b6ea-872d-4008-8b86-cb1b92498d60",
   "metadata": {
    "execution": {
     "iopub.execute_input": "2023-03-03T12:09:35.729742Z",
     "iopub.status.busy": "2023-03-03T12:09:35.729742Z",
     "iopub.status.idle": "2023-03-03T12:09:35.736002Z",
     "shell.execute_reply": "2023-03-03T12:09:35.734984Z",
     "shell.execute_reply.started": "2023-03-03T12:09:35.729742Z"
    },
    "tags": []
   },
   "outputs": [
    {
     "data": {
      "text/plain": [
       "[1, 9, 25, 49, 81, 121, 169, 225, 289, 361]"
      ]
     },
     "execution_count": 6,
     "metadata": {},
     "output_type": "execute_result"
    }
   ],
   "source": [
    "# even powers of x from 1 to 20\n",
    "[x**2 for x in range(21) if ((x ** 2) % 2)]"
   ]
  },
  {
   "cell_type": "code",
   "execution_count": 10,
   "id": "beb2a72d-1f5c-41cf-b399-515de4f005fa",
   "metadata": {
    "execution": {
     "iopub.execute_input": "2023-03-03T12:13:07.573394Z",
     "iopub.status.busy": "2023-03-03T12:13:07.572427Z",
     "iopub.status.idle": "2023-03-03T12:13:07.591712Z",
     "shell.execute_reply": "2023-03-03T12:13:07.590746Z",
     "shell.execute_reply.started": "2023-03-03T12:13:07.573394Z"
    },
    "tags": []
   },
   "outputs": [
    {
     "name": "stdout",
     "output_type": "stream",
     "text": [
      "154\n"
     ]
    }
   ],
   "source": [
    "lst = [1, 3, 3, 1, 14, 2, 2, 4, 5, 20, 100]\n",
    "total = 0\n",
    "for num in lst[1:]:\n",
    "    total += num\n",
    "print(total)\n"
   ]
  },
  {
   "cell_type": "code",
   "execution_count": 7,
   "id": "41fbe342-4a91-4417-b5c9-2865bfeb7aca",
   "metadata": {
    "execution": {
     "iopub.execute_input": "2023-03-03T12:09:49.918969Z",
     "iopub.status.busy": "2023-03-03T12:09:49.916972Z",
     "iopub.status.idle": "2023-03-03T12:09:49.930895Z",
     "shell.execute_reply": "2023-03-03T12:09:49.930895Z",
     "shell.execute_reply.started": "2023-03-03T12:09:49.917972Z"
    }
   },
   "outputs": [
    {
     "data": {
      "text/plain": [
       "{0, 4, 16, 36, 64, 100, 144, 196, 256, 324, 400}"
      ]
     },
     "execution_count": 7,
     "metadata": {},
     "output_type": "execute_result"
    }
   ],
   "source": [
    "{x**2 for x in range(21) if not x**2%2}"
   ]
  },
  {
   "cell_type": "code",
   "execution_count": 71,
   "id": "75ca925c-8d60-40dc-a615-f43c9f80575f",
   "metadata": {
    "execution": {
     "iopub.execute_input": "2023-03-03T19:04:01.708314Z",
     "iopub.status.busy": "2023-03-03T19:04:01.707319Z",
     "iopub.status.idle": "2023-03-03T19:04:01.726436Z",
     "shell.execute_reply": "2023-03-03T19:04:01.725469Z",
     "shell.execute_reply.started": "2023-03-03T19:04:01.708314Z"
    },
    "tags": []
   },
   "outputs": [
    {
     "data": {
      "text/plain": [
       "<generator object <genexpr> at 0x000002358F6DBE60>"
      ]
     },
     "execution_count": 71,
     "metadata": {},
     "output_type": "execute_result"
    }
   ],
   "source": [
    "(x**2 for x in range(21) if not x**2%2) ## Generators ar advanced topics"
   ]
  },
  {
   "cell_type": "markdown",
   "id": "e2df1131-c408-4183-8243-f511bb83a9c5",
   "metadata": {},
   "source": [
    "### Functions"
   ]
  },
  {
   "cell_type": "markdown",
   "id": "effc1135-d9c9-4e97-ab22-6dc812af5204",
   "metadata": {},
   "source": [
    "functions in python takes combinations of:\n",
    "- positional(must be passed to the function call)\n",
    "- keyword(has default value) arguments, and not nessecary\n",
    "```python\n",
    "def func(required, not_required = 5):\n",
    "    return required * not_required\n",
    "func(3) # returns 3 * 5\n",
    "func(5,not_required = 15) # returns 5 * 15\n",
    "```\n",
    "\n",
    "look at [args and kwargs](https://www.geeksforgeeks.org/args-kwargs-python/)"
   ]
  },
  {
   "cell_type": "code",
   "execution_count": 72,
   "id": "0b654f01-ac4e-4b10-84c7-8db658a47e7a",
   "metadata": {
    "execution": {
     "iopub.execute_input": "2023-03-03T19:04:04.247155Z",
     "iopub.status.busy": "2023-03-03T19:04:04.246154Z",
     "iopub.status.idle": "2023-03-03T19:04:04.259172Z",
     "shell.execute_reply": "2023-03-03T19:04:04.257910Z",
     "shell.execute_reply.started": "2023-03-03T19:04:04.247155Z"
    },
    "tags": []
   },
   "outputs": [],
   "source": [
    "def func(a,b,c,d):\n",
    "    return a+b+c"
   ]
  },
  {
   "cell_type": "code",
   "execution_count": 304,
   "id": "13488c24-4da9-4cf8-91b0-491afd24d3bb",
   "metadata": {},
   "outputs": [
    {
     "data": {
      "text/plain": [
       "35"
      ]
     },
     "execution_count": 304,
     "metadata": {},
     "output_type": "execute_result"
    }
   ],
   "source": [
    "func(10,12,13,4)"
   ]
  },
  {
   "cell_type": "code",
   "execution_count": 305,
   "id": "c65a969a-6aae-4f38-8759-576b77ddea10",
   "metadata": {},
   "outputs": [],
   "source": [
    "def func(a , b=10):\n",
    "    return a+b"
   ]
  },
  {
   "cell_type": "code",
   "execution_count": 309,
   "id": "272aa9f3-1423-46e3-bccc-6600452509a2",
   "metadata": {},
   "outputs": [
    {
     "data": {
      "text/plain": [
       "5"
      ]
     },
     "execution_count": 309,
     "metadata": {},
     "output_type": "execute_result"
    }
   ],
   "source": [
    "func(5,0)"
   ]
  },
  {
   "cell_type": "code",
   "execution_count": 310,
   "id": "bd98f5cf-b729-4b29-a2d1-af451b124b6d",
   "metadata": {},
   "outputs": [],
   "source": [
    "def func(args):\n",
    "    s = 0\n",
    "    for i in args:\n",
    "        s += i\n",
    "    return s"
   ]
  },
  {
   "cell_type": "code",
   "execution_count": 311,
   "id": "40d92bab-0b48-40be-9057-594ab42f1cc1",
   "metadata": {},
   "outputs": [
    {
     "data": {
      "text/plain": [
       "73"
      ]
     },
     "execution_count": 311,
     "metadata": {},
     "output_type": "execute_result"
    }
   ],
   "source": [
    "func((1,2,3,54,6,7))"
   ]
  },
  {
   "cell_type": "code",
   "execution_count": 318,
   "id": "c527fbad-6d1e-43ca-a84b-45cf5397f555",
   "metadata": {},
   "outputs": [
    {
     "data": {
      "text/plain": [
       "0"
      ]
     },
     "execution_count": 318,
     "metadata": {},
     "output_type": "execute_result"
    }
   ],
   "source": [
    "func(())"
   ]
  },
  {
   "cell_type": "code",
   "execution_count": 320,
   "id": "eb3d9d99-509c-4196-8890-99ee43279454",
   "metadata": {},
   "outputs": [],
   "source": [
    "def func(*args):\n",
    "    s = 0\n",
    "    for i in args:\n",
    "        s += i\n",
    "    return s"
   ]
  },
  {
   "cell_type": "code",
   "execution_count": 329,
   "id": "d474765e-25bd-4601-bb70-52ba2ee36484",
   "metadata": {},
   "outputs": [],
   "source": [
    "def keys_to_dict(**kwargs):\n",
    "    return kwargs"
   ]
  },
  {
   "cell_type": "code",
   "execution_count": 330,
   "id": "a32d7103-0aeb-46c7-9948-aa8a9c77c1b3",
   "metadata": {},
   "outputs": [
    {
     "data": {
      "text/plain": [
       "{'fjfsdf': True, 'mgdjg': False, 'fkmgdmfkg': 12, 'kjfgnd': ['fghfg', 2]}"
      ]
     },
     "execution_count": 330,
     "metadata": {},
     "output_type": "execute_result"
    }
   ],
   "source": [
    "keys_to_dict(fjfsdf = True, mgdjg = False, fkmgdmfkg = 12, kjfgnd = [\"fghfg\", 2])"
   ]
  },
  {
   "cell_type": "code",
   "execution_count": null,
   "id": "013448cf-7783-4815-b7ef-9bdfa256ea9d",
   "metadata": {},
   "outputs": [],
   "source": [
    "def func(x, *args, **kwargs):\n",
    "    "
   ]
  },
  {
   "cell_type": "code",
   "execution_count": 340,
   "id": "7b1ccedf-b3eb-456f-ae00-3690f4aeabb4",
   "metadata": {},
   "outputs": [],
   "source": [
    "def x(x):\n",
    "    pass"
   ]
  },
  {
   "cell_type": "code",
   "execution_count": 342,
   "id": "8e95c179-8d5f-4d21-85fa-fceeee33cbf6",
   "metadata": {},
   "outputs": [
    {
     "data": {
      "text/plain": [
       "NoneType"
      ]
     },
     "execution_count": 342,
     "metadata": {},
     "output_type": "execute_result"
    }
   ],
   "source": [
    "type(x(0))"
   ]
  },
  {
   "cell_type": "markdown",
   "id": "f221a207-42a5-435e-b7a0-d01ea01440e1",
   "metadata": {},
   "source": [
    "lambda function is a function that defines the parameters and outputs in one line for concise code"
   ]
  },
  {
   "cell_type": "code",
   "execution_count": 73,
   "id": "657352d1-131e-482f-9dd7-518e2c4235ad",
   "metadata": {
    "execution": {
     "iopub.execute_input": "2023-03-03T19:10:04.344100Z",
     "iopub.status.busy": "2023-03-03T19:10:04.343102Z",
     "iopub.status.idle": "2023-03-03T19:10:04.356555Z",
     "shell.execute_reply": "2023-03-03T19:10:04.354556Z",
     "shell.execute_reply.started": "2023-03-03T19:10:04.344100Z"
    },
    "tags": []
   },
   "outputs": [],
   "source": [
    "#anonymous function\n",
    "sq1 = lambda x: x**2\n",
    "def sq2(x):\n",
    "    return x**2"
   ]
  },
  {
   "cell_type": "code",
   "execution_count": 74,
   "id": "786ed48e-fda8-4a40-8e8c-ab950c21fa94",
   "metadata": {
    "execution": {
     "iopub.execute_input": "2023-03-03T19:10:05.676611Z",
     "iopub.status.busy": "2023-03-03T19:10:05.675609Z",
     "iopub.status.idle": "2023-03-03T19:10:05.696863Z",
     "shell.execute_reply": "2023-03-03T19:10:05.695897Z",
     "shell.execute_reply.started": "2023-03-03T19:10:05.676611Z"
    },
    "tags": []
   },
   "outputs": [
    {
     "data": {
      "text/plain": [
       "<function __main__.<lambda>(x)>"
      ]
     },
     "execution_count": 74,
     "metadata": {},
     "output_type": "execute_result"
    }
   ],
   "source": [
    "sq1"
   ]
  },
  {
   "cell_type": "code",
   "execution_count": 75,
   "id": "98990d7b-5735-4db1-bf3d-3911cf77f98e",
   "metadata": {
    "execution": {
     "iopub.execute_input": "2023-03-03T19:10:06.613597Z",
     "iopub.status.busy": "2023-03-03T19:10:06.612597Z",
     "iopub.status.idle": "2023-03-03T19:10:06.625595Z",
     "shell.execute_reply": "2023-03-03T19:10:06.624593Z",
     "shell.execute_reply.started": "2023-03-03T19:10:06.613597Z"
    },
    "tags": []
   },
   "outputs": [
    {
     "data": {
      "text/plain": [
       "<function __main__.sq2(x)>"
      ]
     },
     "execution_count": 75,
     "metadata": {},
     "output_type": "execute_result"
    }
   ],
   "source": [
    "sq2"
   ]
  },
  {
   "cell_type": "code",
   "execution_count": null,
   "id": "6d628479-b606-4c9c-9c0c-807a195a4cf2",
   "metadata": {},
   "outputs": [],
   "source": []
  },
  {
   "cell_type": "markdown",
   "id": "4a206392-919c-415f-9580-9ae70b3d0b3e",
   "metadata": {
    "tags": []
   },
   "source": [
    "### Map, Filter, <strike>Reduce</strike>"
   ]
  },
  {
   "cell_type": "code",
   "execution_count": 368,
   "id": "df0b3ff8-2782-4849-8ce0-70702c8863bb",
   "metadata": {},
   "outputs": [
    {
     "data": {
      "text/plain": [
       "['NASSER', 'ABDELGAWAD', 'IBRAHIM', 'MAHMOUD']"
      ]
     },
     "execution_count": 368,
     "metadata": {},
     "output_type": "execute_result"
    }
   ],
   "source": [
    "def func(x):\n",
    "    return x.upper()\n",
    "members = ['nasser', 'abdelgawad', 'ibrahim', 'mahmoud']\n",
    "list(map(func,members ))"
   ]
  },
  {
   "cell_type": "code",
   "execution_count": 370,
   "id": "5c2f8e13-184a-4362-85d4-0b93c7bffdf8",
   "metadata": {},
   "outputs": [
    {
     "data": {
      "text/plain": [
       "[1, 4, 9, 16, 25, 36, 49, 64, 81, 100]"
      ]
     },
     "execution_count": 370,
     "metadata": {},
     "output_type": "execute_result"
    }
   ],
   "source": [
    "def sq(x):\n",
    "    return x**2 # return x*x\n",
    "list(map(sq,range(1,11) ))"
   ]
  },
  {
   "cell_type": "code",
   "execution_count": 377,
   "id": "c2da10a7-bab2-46b5-b373-7922bd41531c",
   "metadata": {},
   "outputs": [
    {
     "data": {
      "text/plain": [
       "['Nasser', 'nader', 'nada', 'nadia', 'nady']"
      ]
     },
     "execution_count": 377,
     "metadata": {},
     "output_type": "execute_result"
    }
   ],
   "source": [
    "def func(x):\n",
    "    return x.lower().startswith('n')\n",
    "members = ['Nasser', 'abdelgawad', 'ibrahim', 'mahmoud', 'nader', 'nada', 'nadia', 'nady']\n",
    "list(filter(func,members ))"
   ]
  },
  {
   "cell_type": "code",
   "execution_count": 378,
   "id": "681c2e82-669d-44ac-adbf-93158ba08753",
   "metadata": {},
   "outputs": [
    {
     "data": {
      "text/plain": [
       "['Nasser', 'nader', 'nada', 'nadia', 'nady']"
      ]
     },
     "execution_count": 378,
     "metadata": {},
     "output_type": "execute_result"
    }
   ],
   "source": [
    "list(filter( lambda x:x.lower().startswith('n'),members ))"
   ]
  },
  {
   "cell_type": "markdown",
   "id": "295df5de-5272-461a-ac99-5060fb93c42b",
   "metadata": {},
   "source": [
    "### package managing"
   ]
  },
  {
   "cell_type": "markdown",
   "id": "77942a9f-f45c-4eaf-bf42-e004da2aa034",
   "metadata": {},
   "source": [
    "Python packages and modules are collections of functions, classes, and variables that can be used in Python programs. A module is a single file that contains code and functions that can be imported and used in other programs. A package is a collection of modules that are organized in a directory hierarchy.\n",
    "\n",
    "Python packages and modules provide a way to reuse code and make it easier to maintain and update. They allow developers to write code once and use it in multiple projects, saving time and effort. Some popular Python packages include NumPy, Pandas, Matplotlib, and SciPy."
   ]
  },
  {
   "cell_type": "markdown",
   "id": "fcf17853-dca1-4649-b5a0-1ab842dcaae2",
   "metadata": {},
   "source": [
    "```python \n",
    "from module_name.package import function\n",
    "import module_longname as short_name\n",
    "```"
   ]
  },
  {
   "cell_type": "code",
   "execution_count": 32,
   "id": "5e67eaf5-d0fd-4ce9-8b81-b251bfecc251",
   "metadata": {
    "execution": {
     "iopub.execute_input": "2023-03-03T18:26:10.804143Z",
     "iopub.status.busy": "2023-03-03T18:26:10.803137Z",
     "iopub.status.idle": "2023-03-03T18:26:10.819778Z",
     "shell.execute_reply": "2023-03-03T18:26:10.818810Z",
     "shell.execute_reply.started": "2023-03-03T18:26:10.804143Z"
    },
    "tags": []
   },
   "outputs": [
    {
     "data": {
      "text/plain": [
       "3.141592653589793"
      ]
     },
     "execution_count": 32,
     "metadata": {},
     "output_type": "execute_result"
    }
   ],
   "source": [
    "#ex\n",
    "from math import pi\n",
    "pi"
   ]
  },
  {
   "cell_type": "code",
   "execution_count": 31,
   "id": "7c17597c-17b9-4263-983b-4369d7718865",
   "metadata": {
    "execution": {
     "iopub.execute_input": "2023-03-03T18:18:26.331246Z",
     "iopub.status.busy": "2023-03-03T18:18:26.330233Z",
     "iopub.status.idle": "2023-03-03T18:18:26.338015Z",
     "shell.execute_reply": "2023-03-03T18:18:26.336882Z",
     "shell.execute_reply.started": "2023-03-03T18:18:26.331246Z"
    },
    "tags": []
   },
   "outputs": [],
   "source": [
    "lst = [1, 2, 3,4 ,5,6, 7, 8, 9]"
   ]
  },
  {
   "cell_type": "code",
   "execution_count": 29,
   "id": "0d744d6a-5cf1-4247-bfdf-ec86cfee30db",
   "metadata": {
    "execution": {
     "iopub.execute_input": "2023-03-03T18:18:05.180950Z",
     "iopub.status.busy": "2023-03-03T18:18:05.180950Z",
     "iopub.status.idle": "2023-03-03T18:18:05.214699Z",
     "shell.execute_reply": "2023-03-03T18:18:05.213698Z",
     "shell.execute_reply.started": "2023-03-03T18:18:05.180950Z"
    },
    "tags": []
   },
   "outputs": [
    {
     "data": {
      "text/plain": [
       "9"
      ]
     },
     "execution_count": 29,
     "metadata": {},
     "output_type": "execute_result"
    }
   ],
   "source": [
    "import utils as ut\n",
    "ut.find_max(lst)"
   ]
  },
  {
   "cell_type": "code",
   "execution_count": 30,
   "id": "6e02d06d-a37e-4347-8e0d-0924c80b70e1",
   "metadata": {
    "execution": {
     "iopub.execute_input": "2023-03-03T18:18:17.299221Z",
     "iopub.status.busy": "2023-03-03T18:18:17.298221Z",
     "iopub.status.idle": "2023-03-03T18:18:17.321640Z",
     "shell.execute_reply": "2023-03-03T18:18:17.320640Z",
     "shell.execute_reply.started": "2023-03-03T18:18:17.299221Z"
    },
    "tags": []
   },
   "outputs": [
    {
     "data": {
      "text/plain": [
       "9"
      ]
     },
     "execution_count": 30,
     "metadata": {},
     "output_type": "execute_result"
    }
   ],
   "source": [
    "import utils \n",
    "utils."
   ]
  },
  {
   "cell_type": "code",
   "execution_count": null,
   "id": "ea7b8bc3-c36f-41a5-9a22-9c6b508630d3",
   "metadata": {},
   "outputs": [],
   "source": [
    "from utils import find_max # you can add add more than one using commas\n",
    "find_max(lst)"
   ]
  },
  {
   "cell_type": "code",
   "execution_count": null,
   "id": "45d34f45-5d99-47ec-b895-a2aaa585e0f2",
   "metadata": {},
   "outputs": [],
   "source": [
    "from utils import * # adds all the functions and paramters from a module (not recommended) "
   ]
  },
  {
   "cell_type": "markdown",
   "id": "193aa34c-75d6-44ff-8db9-71e3b3728ee3",
   "metadata": {},
   "source": [
    "### file handling"
   ]
  },
  {
   "cell_type": "markdown",
   "id": "400c58ce-fe0b-414d-8e85-c05f63d81ec9",
   "metadata": {},
   "source": [
    "[Reference](https://phoenixnap.com/kb/file-handling-in-python) \n",
    "\n",
    "Read Modes \n",
    "- `r` - Read - Default value. Opens a file for reading, error if the file does not exist\n",
    "- `a` - Append - Opens a file for appending, creates the file if it does not exist\n",
    "- `w` - Write - Opens a file for writing, creates the file if it does not exist\n",
    "- `x` - Create - Creates the specified file, returns an error if the file exists\n",
    "- `+` This will open a file for reading and writing (updating)\n",
    "\n",
    "Parse Modes\n",
    "- `t` - Text - Default value. Text mode\n",
    "- `b` - Binary - Binary mode (e.g. images)"
   ]
  },
  {
   "cell_type": "code",
   "execution_count": 78,
   "id": "a0e65362-07a5-4a58-9517-926441c61d93",
   "metadata": {
    "execution": {
     "iopub.execute_input": "2023-03-03T19:12:16.287692Z",
     "iopub.status.busy": "2023-03-03T19:12:16.287692Z",
     "iopub.status.idle": "2023-03-03T19:12:16.306157Z",
     "shell.execute_reply": "2023-03-03T19:12:16.305161Z",
     "shell.execute_reply.started": "2023-03-03T19:12:16.287692Z"
    },
    "tags": []
   },
   "outputs": [],
   "source": [
    "file = open(\"file1.txt\", 'w').close() # Creating file"
   ]
  },
  {
   "cell_type": "code",
   "execution_count": 85,
   "id": "5e656bcf-55dc-4d29-97ef-1d574ca294f3",
   "metadata": {
    "execution": {
     "iopub.execute_input": "2023-03-03T19:14:17.582549Z",
     "iopub.status.busy": "2023-03-03T19:14:17.581509Z",
     "iopub.status.idle": "2023-03-03T19:14:17.600559Z",
     "shell.execute_reply": "2023-03-03T19:14:17.599559Z",
     "shell.execute_reply.started": "2023-03-03T19:14:17.582549Z"
    },
    "tags": []
   },
   "outputs": [],
   "source": [
    "file = open(\"file1.txt\", 'a+')\n",
    "for i in range(100):\n",
    "    file.write(f\"{i}\\n\") # strip: removes unwanted spaces\n",
    "file.close()"
   ]
  },
  {
   "cell_type": "markdown",
   "id": "f445768a-8ca1-4295-b174-c33e31a3da70",
   "metadata": {},
   "source": [
    "you don't want to care about closing files ? \n",
    "look into [context manager](https://realpython.com/python-with-statement/)"
   ]
  },
  {
   "cell_type": "code",
   "execution_count": 87,
   "id": "405866de-22b8-4938-bd03-137c1db5ae06",
   "metadata": {
    "execution": {
     "iopub.execute_input": "2023-03-03T19:14:54.658686Z",
     "iopub.status.busy": "2023-03-03T19:14:54.658686Z",
     "iopub.status.idle": "2023-03-03T19:14:54.675822Z",
     "shell.execute_reply": "2023-03-03T19:14:54.674827Z",
     "shell.execute_reply.started": "2023-03-03T19:14:54.658686Z"
    },
    "tags": []
   },
   "outputs": [],
   "source": [
    "with open(\"file.txt\", \"w+\") as f:\n",
    "    for i in range(100):\n",
    "        f.write(f\"{i+1}- Hello world \\n\")"
   ]
  },
  {
   "cell_type": "markdown",
   "id": "86db3ac6-4f27-4448-ae1b-83d46edaa62a",
   "metadata": {},
   "source": [
    "### Error Handling"
   ]
  },
  {
   "cell_type": "markdown",
   "id": "c02897ae-aba5-471e-a784-957522e7e668",
   "metadata": {},
   "source": [
    "What is an exception ?"
   ]
  },
  {
   "cell_type": "code",
   "execution_count": 81,
   "id": "19b0adcb-4513-4ec2-9375-e8d997a32a6e",
   "metadata": {},
   "outputs": [
    {
     "name": "stdout",
     "output_type": "stream",
     "text": [
      "99\n",
      "Finally\n"
     ]
    }
   ],
   "source": [
    "l = ['ahmed', 'mahmoud', 99]\n",
    "print(l[3])"
   ]
  },
  {
   "cell_type": "code",
   "execution_count": 29,
   "id": "a0d47be9-4005-477f-b5da-2846ab41a337",
   "metadata": {
    "execution": {
     "iopub.execute_input": "2023-03-03T12:39:48.975590Z",
     "iopub.status.busy": "2023-03-03T12:39:48.973590Z",
     "iopub.status.idle": "2023-03-03T12:39:48.983098Z",
     "shell.execute_reply": "2023-03-03T12:39:48.981592Z",
     "shell.execute_reply.started": "2023-03-03T12:39:48.975590Z"
    },
    "tags": []
   },
   "outputs": [
    {
     "name": "stdout",
     "output_type": "stream",
     "text": [
      "ZeroDivisionError\n"
     ]
    }
   ],
   "source": [
    "x = 0\n",
    "y = 10\n",
    "\n",
    "try: \n",
    "  div = y/x\n",
    "  print(div)\n",
    "except ZeroDivisionError:\n",
    "  print(\"ZeroDivisionError\")\n",
    "\n"
   ]
  },
  {
   "cell_type": "code",
   "execution_count": 37,
   "id": "e7206219-2d43-457f-b238-1ab4b9b25bc6",
   "metadata": {
    "execution": {
     "iopub.execute_input": "2023-03-03T12:43:51.700889Z",
     "iopub.status.busy": "2023-03-03T12:43:51.699891Z",
     "iopub.status.idle": "2023-03-03T12:43:51.723896Z",
     "shell.execute_reply": "2023-03-03T12:43:51.720893Z",
     "shell.execute_reply.started": "2023-03-03T12:43:51.700889Z"
    },
    "tags": []
   },
   "outputs": [
    {
     "data": {
      "text/plain": [
       "6"
      ]
     },
     "execution_count": 37,
     "metadata": {},
     "output_type": "execute_result"
    }
   ],
   "source": [
    "file.write(\"hello \")"
   ]
  },
  {
   "cell_type": "code",
   "execution_count": 38,
   "id": "35e4cb54-c787-40e3-8405-d55e52f20b64",
   "metadata": {
    "execution": {
     "iopub.execute_input": "2023-03-03T12:44:52.385290Z",
     "iopub.status.busy": "2023-03-03T12:44:52.384290Z",
     "iopub.status.idle": "2023-03-03T12:44:52.395291Z",
     "shell.execute_reply": "2023-03-03T12:44:52.393287Z",
     "shell.execute_reply.started": "2023-03-03T12:44:52.385290Z"
    },
    "tags": []
   },
   "outputs": [
    {
     "data": {
      "text/plain": [
       "''"
      ]
     },
     "execution_count": 38,
     "metadata": {},
     "output_type": "execute_result"
    }
   ],
   "source": [
    "file.read()"
   ]
  },
  {
   "cell_type": "code",
   "execution_count": 34,
   "id": "ae813d7c-c02d-46f8-8240-56fae14854cc",
   "metadata": {
    "execution": {
     "iopub.execute_input": "2023-03-03T12:43:07.681061Z",
     "iopub.status.busy": "2023-03-03T12:43:07.680059Z",
     "iopub.status.idle": "2023-03-03T12:43:07.699256Z",
     "shell.execute_reply": "2023-03-03T12:43:07.698257Z",
     "shell.execute_reply.started": "2023-03-03T12:43:07.681061Z"
    },
    "tags": []
   },
   "outputs": [],
   "source": [
    "file = open(\"example.txt\", \"a+\")"
   ]
  },
  {
   "cell_type": "code",
   "execution_count": 40,
   "id": "7b0673d6-3eee-422c-8e09-a71f2c460d9b",
   "metadata": {
    "execution": {
     "iopub.execute_input": "2023-03-03T12:46:08.373230Z",
     "iopub.status.busy": "2023-03-03T12:46:08.373230Z",
     "iopub.status.idle": "2023-03-03T12:46:08.391234Z",
     "shell.execute_reply": "2023-03-03T12:46:08.390233Z",
     "shell.execute_reply.started": "2023-03-03T12:46:08.373230Z"
    },
    "tags": []
   },
   "outputs": [],
   "source": [
    "file.close()"
   ]
  },
  {
   "cell_type": "code",
   "execution_count": null,
   "id": "2e7387db-551b-4e38-8f60-e51d43a6b5ef",
   "metadata": {},
   "outputs": [],
   "source": [
    "try:\n",
    "    print(l[2])\n",
    "except IndexError:\n",
    "    print(\"Unreachable Index\")"
   ]
  },
  {
   "cell_type": "code",
   "execution_count": null,
   "id": "4601e7ac-9962-4f57-a3ff-1d23d67a6aa2",
   "metadata": {},
   "outputs": [],
   "source": [
    "try:\n",
    "    print(l[2])\n",
    "except IndexError:\n",
    "    print(\"Unreachable Index\")\n",
    "finally:\n",
    "    print(\"Finally\")"
   ]
  },
  {
   "cell_type": "code",
   "execution_count": 93,
   "id": "e86eadce-daf1-4766-aa95-bccea141d7a6",
   "metadata": {},
   "outputs": [
    {
     "name": "stdout",
     "output_type": "stream",
     "text": [
      "0.125\n",
      "Finally\n"
     ]
    }
   ],
   "source": [
    "try:\n",
    "    print(1/8)\n",
    "except:\n",
    "    print(\"Didide by Zero error\")\n",
    "finally:\n",
    "    print(\"Finally\")"
   ]
  },
  {
   "cell_type": "markdown",
   "id": "3f8a7cba-f247-49e8-ab0c-bae6354aa7e7",
   "metadata": {},
   "source": [
    "more notebooks: https://github.com/jupyter/jupyter/wiki"
   ]
  },
  {
   "cell_type": "markdown",
   "id": "f5e37499-d882-411c-954c-b373306c69da",
   "metadata": {},
   "source": [
    "# Thank you "
   ]
  }
 ],
 "metadata": {
  "kernelspec": {
   "display_name": "Python 3 (ipykernel)",
   "language": "python",
   "name": "python3"
  },
  "language_info": {
   "codemirror_mode": {
    "name": "ipython",
    "version": 3
   },
   "file_extension": ".py",
   "mimetype": "text/x-python",
   "name": "python",
   "nbconvert_exporter": "python",
   "pygments_lexer": "ipython3",
   "version": "3.10.4"
  }
 },
 "nbformat": 4,
 "nbformat_minor": 5
}
