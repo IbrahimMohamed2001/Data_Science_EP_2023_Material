{
 "cells": [
  {
   "cell_type": "markdown",
   "id": "b610a0a1",
   "metadata": {},
   "source": [
    "***\n",
    "# <font color=\"red\"><b>NumPy</b></font>\n"
   ]
  },
  {
   "cell_type": "markdown",
   "id": "55807340",
   "metadata": {},
   "source": [
    "***\n",
    "## Introduction\n",
    "***\n",
    "### What is NumPy?\n",
    "\n",
    "**NumPy** stands for Numerical Python and it's a fundamental package for scientific computing in Python. NumPy provides Python with an extensive math library capable of performing numerical computations effectively and efficiently. \n",
    "It is particularly useful for large-scale array operations, such as mathematical and logical operations, linear algebra, Fourier transform, and random number generation.\n",
    "***\n",
    "### What is the difference between \"NumPy Arrays\" and \"Python Lists\"?\n",
    "\n",
    "- __NumPy arrays are homogeneous__, meaning that all elements in the array must have the same data type. This allows for faster computation and less memory usage compared to lists. \n",
    "- __NumPy arrays are stored in contiguous blocks of memory__, making it more efficient for indexing and slicing operations.\n",
    "- __NumPy provides a wide range of mathematical functions and operators that work on arrays__, making it easier to perform complex calculations on large data sets.\n",
    "- __NumPy has built-in support for broadcasting__, a feature that allows operations to be performed on arrays of different shapes and sizes without the need for explicit loops.\n",
    "\n",
    "\n",
    "|Characteristics ->|Homogeneity|Contiguity|Element-Wise Operations|\n",
    "|-|-|-|-|\n",
    "|__Python Lists__|Heterogeneous|Non-contiguous|Do Not Support|\n",
    "|__NumPy Arrays__|Homogeneous|Contiguous|Support|\n",
    "\n",
    "***\n",
    "\n",
    "### Libraries and frameworks built on top of NumPy:\n",
    "\n",
    "- #### <font color=\"red\"><b>Pandas</b></font>:\n",
    " a data analysis library that uses NumPy arrays as the underlying data structure and provides tools for data manipulation, aggregation, and visualization.\n",
    "- #### <font color=\"red\"><b>Scikit-learn</b></font>:\n",
    "a machine learning library that uses NumPy arrays as the primary data structure and provides a wide range of supervised and unsupervised learning algorithms.\n",
    "Overall, NumPy provides a powerful and efficient way to work with numerical data in Python and is a fundamental building block for many scientific and machine learning applications.\n",
    "- #### <font color=\"red\"><b>SciPy</b></font>:\n",
    "a library for scientific computing that builds on top of NumPy and provides additional functionality for optimization, interpolation, signal processing, and more.\n",
    "We will use the first two in our workshop \n"
   ]
  },
  {
   "cell_type": "markdown",
   "id": "e8b8008d",
   "metadata": {},
   "source": [
    "***\n",
    "***\n",
    "***\n",
    "***\n",
    "\n",
    "## Creating NumPy ndarrays\n",
    "At the core of NumPy is the **ndarray**, where *nd* stands for n-dimensional. An ndarray is a multidimensional array of elements all of the same type. In other words, an ndarray is a grid that can take on many shapes and can hold either numbers or strings. In many Machine Learning problems you will often find yourself using ndarrays in many different ways. For instance, you might use an ndarray to hold the pixel values of an image that will be fed into a Neural Network for image classification.\n",
    "\n",
    "But before we can dive in and start using NumPy to create ndarrays we need to import it into Python. We can import packages into Python using the `import` command and it has become a convention to import NumPy as `np`. Therefore, you can import NumPy by typing the following command in your Jupyter notebook:"
   ]
  },
  {
   "cell_type": "code",
   "execution_count": 1,
   "id": "4ecf65c5",
   "metadata": {},
   "outputs": [],
   "source": [
    "import numpy as np"
   ]
  },
  {
   "cell_type": "markdown",
   "id": "ab34fbb2",
   "metadata": {},
   "source": [
    "There are several ways to create ndarrays in NumPy. In the following lessons we will see two ways to create ndarrays:\n",
    "\n",
    "1. Using regular Python lists\n",
    "2. Using built-in NumPy functions\n",
    "\n",
    "In this section, we will create ndarrays by providing Python lists to the NumPy `np.array()` function. This can create some confusion for beginners, but it is important to remember that `np.array()` is *NOT* a class, it is just a function that returns an ndarray. We should note that for the purposes of clarity, the examples throughout these lessons will use small and simple ndarrays. Let's start by creating 1-Dimensional (1D) ndarrays."
   ]
  },
  {
   "cell_type": "code",
   "execution_count": 2,
   "id": "e004c332",
   "metadata": {},
   "outputs": [
    {
     "name": "stdout",
     "output_type": "stream",
     "text": [
      "x =  [1 2 3 4 5]\n"
     ]
    }
   ],
   "source": [
    "# We import NumPy into Python\n",
    "import numpy as np\n",
    "\n",
    "# We create a 1D ndarray that contains only integers\n",
    "x = np.array([1, 2, 3, 4, 5])\n",
    "\n",
    "# Let's print the ndarray we just created using the print() command\n",
    "print('x = ', x)"
   ]
  },
  {
   "cell_type": "markdown",
   "id": "b69ac0e5",
   "metadata": {},
   "source": [
    "## Rank of an Array (numpy.ndarray.ndim)\n",
    "Syntax:\n",
    "`ndarray.ndim`\n",
    "\n",
    "It returns the number of array dimensions."
   ]
  },
  {
   "cell_type": "markdown",
   "id": "0a49364d",
   "metadata": {},
   "source": [
    "Let's pause for a second to introduce some useful terminology. We refer to 1D arrays as *rank 1* arrays. In general *N*-Dimensional arrays have rank *N*. Therefore, we refer to a 2D array as a rank 2 array."
   ]
  },
  {
   "cell_type": "code",
   "execution_count": 3,
   "id": "cc0ef8d8",
   "metadata": {},
   "outputs": [
    {
     "data": {
      "text/plain": [
       "1"
      ]
     },
     "execution_count": 3,
     "metadata": {},
     "output_type": "execute_result"
    }
   ],
   "source": [
    "# 1-D array\n",
    "x = np.array([1, 2, 3])\n",
    "x.ndim"
   ]
  },
  {
   "cell_type": "code",
   "execution_count": 4,
   "id": "f416cfc6",
   "metadata": {},
   "outputs": [
    {
     "data": {
      "text/plain": [
       "2"
      ]
     },
     "execution_count": 4,
     "metadata": {},
     "output_type": "execute_result"
    }
   ],
   "source": [
    "# 2-D array\n",
    "Y = np.array([[1,2,3],[4,5,6],[7,8,9], [10,11,12]])\n",
    "Y.ndim"
   ]
  },
  {
   "cell_type": "code",
   "execution_count": 5,
   "id": "b068701e",
   "metadata": {},
   "outputs": [
    {
     "data": {
      "text/plain": [
       "3"
      ]
     },
     "execution_count": 5,
     "metadata": {},
     "output_type": "execute_result"
    }
   ],
   "source": [
    "# Here the`zeros()` is an inbuilt function that you'll study on the next page. \n",
    "# The tuple (2, 3, 4( passed as an argument represents the shape of the ndarray\n",
    "y = np.zeros((2, 3, 4))\n",
    "y.ndim"
   ]
  },
  {
   "cell_type": "markdown",
   "id": "22874613",
   "metadata": {},
   "source": [
    "### numpy.ndarray.shape\n",
    "Syntax: `ndarray.shape`\n",
    "\n",
    "It returns a tuple representing the array dimensions. Refer more details [here.](https://numpy.org/doc/stable/reference/generated/numpy.ndarray.shape.html#numpy-ndarray-shape)"
   ]
  },
  {
   "cell_type": "markdown",
   "id": "053388c7",
   "metadata": {},
   "source": [
    "Another important property of arrays is their [*shape.*](https://numpy.org/devdocs/reference/generated/numpy.shape.html) The shape of an array is the size along each of its dimensions. For example, the shape of a rank 2 array will correspond to the number of *rows* and *columns* of the array. As you will see, NumPy ndarrays have *attributes* that allow us to get information about them in a very intuitive way. For example, the shape of an ndarray can be obtained using the `.shape` attribute. The shape attribute returns a tuple of N positive integers that specify the sizes of each dimension."
   ]
  },
  {
   "cell_type": "markdown",
   "id": "49a91858",
   "metadata": {},
   "source": [
    "### numpy.dtype\n",
    "The type tells us the data-type of the elements. Remember, a NumPy array is homogeneous, meaning all elements will have the same data-type. In the example below, we will create a rank 1 array and learn how to obtain its shape, its type, and the data-type (*dtype*) of its elements.\n",
    "\n",
    "#### Example 1.a - Using a 1-D Array of Integers"
   ]
  },
  {
   "cell_type": "code",
   "execution_count": 6,
   "id": "8fd4e1c3",
   "metadata": {},
   "outputs": [
    {
     "name": "stdout",
     "output_type": "stream",
     "text": [
      "x =  [1 2 3 4 5]\n",
      "x has dimensions: (5,)\n",
      "x is an object of type: <class 'numpy.ndarray'>\n",
      "The elements in x are of type: int32\n"
     ]
    }
   ],
   "source": [
    "# We create a 1D ndarray that contains only integers\n",
    "x = np.array([1, 2, 3, 4, 5])\n",
    "\n",
    "# We print information about x\n",
    "print('x = ', x)\n",
    "print('x has dimensions:', x.shape)\n",
    "print('x is an object of type:', type(x))\n",
    "print('The elements in x are of type:', x.dtype)"
   ]
  },
  {
   "cell_type": "markdown",
   "id": "62dc8fba",
   "metadata": {},
   "source": [
    "We can see that the shape attribute returns the tuple `(5,)` telling us that `x` is of rank 1 (i.e. `x` only has 1 dimension ) and it has 5 elements. The `type()` function tells us that `x` is indeed a NumPy ndarray. Finally, the `.dtype` attribute tells us that the elements of x are stored in memory as *signed 32-bit integers*. Another great advantage of NumPy is that it can handle more data-types than Python lists. You can check out all the different data types NumPy supports in the following link:\n",
    "[NumPy Data Types](https://docs.scipy.org/doc/numpy-1.13.0/user/basics.types.html)\n",
    "As mentioned earlier, ndarrays can also hold strings. Let's see how we can create a rank 1 ndarray of strings in the same manner as before, by providing the `np.array()` function a Python list of strings.\n",
    "\n",
    "#### Example 1.b - Using 1-D Array of Strings"
   ]
  },
  {
   "cell_type": "code",
   "execution_count": 7,
   "id": "db3ff089",
   "metadata": {},
   "outputs": [
    {
     "name": "stdout",
     "output_type": "stream",
     "text": [
      "x =  ['Hello' 'World']\n",
      "x has dimensions: (2,)\n",
      "x is an object of type: <class 'numpy.ndarray'>\n",
      "The elements in x are of type: <U5\n"
     ]
    }
   ],
   "source": [
    "# We create a rank 1 ndarray that only contains strings\n",
    "x = np.array(['Hello', 'World'])\n",
    "\n",
    "# We print information about x\n",
    "print('x = ', x)\n",
    "print('x has dimensions:', x.shape)\n",
    "print('x is an object of type:', type(x))\n",
    "print('The elements in x are of type:', x.dtype)"
   ]
  },
  {
   "cell_type": "markdown",
   "id": "62eda80c",
   "metadata": {},
   "source": [
    "As we can see the shape attribute tells us that `x` now has only 2 elements, and even though `x` now holds strings, the `type()` function tells us that `x` is still an ndarray as before. In this case however, the `.dtype` attribute tells us that the elements in `x` are stored in memory as Unicode strings of 5 characters.\n",
    "\n",
    "It is important to remember that one big difference between Python lists and ndarrays, is that unlike Python lists, all the elements of an ndarray must be of the same type. So, while we can create Python lists with both integers and strings, we can't mix types in ndarrays. If you provide the `np.array()` function with a Python list that has both integers and strings, NumPy will interpret all elements as strings. We can see this in the next example:\n",
    "#### Example 1.c - Using a 1-D Array of Mixed Datatype"
   ]
  },
  {
   "cell_type": "code",
   "execution_count": 8,
   "id": "e1268240",
   "metadata": {},
   "outputs": [
    {
     "name": "stdout",
     "output_type": "stream",
     "text": [
      "x =  ['1' '2' 'World']\n",
      "x has dimensions: (3,)\n",
      "x is an object of type: <class 'numpy.ndarray'>\n",
      "The elements in x are of type: <U11\n"
     ]
    }
   ],
   "source": [
    "# We create a rank 1 ndarray from a Python list that contains integers and strings\n",
    "x = np.array([1, 2, 'World'])\n",
    "\n",
    "# We print information about x\n",
    "print('x = ', x)\n",
    "print('x has dimensions:', x.shape)\n",
    "print('x is an object of type:', type(x))\n",
    "print('The elements in x are of type:', x.dtype)"
   ]
  },
  {
   "cell_type": "markdown",
   "id": "21a1aeb5",
   "metadata": {},
   "source": [
    "We can see that even though the Python list had mixed data types, the elements in x are all of the same type, namely, Unicode strings of 21 characters. We won't be using ndarrays with strings for the remaining of this introduction to NumPy, but it's important to remember that ndarrays can hold strings as well.\n",
    "\n",
    "### Using a 1-D Array to Demonstrate Upcasting in Numeric datatype\n",
    "\n",
    "Up till now, we have only created ndarrays with integers and strings. We saw that when we create an ndarray with only integers, NumPy will automatically assign the dtype int64 to its elements. Let's see what happens when we create ndarrays with floats and integers.\n",
    "\n",
    "#### Example 1.d - Using a 1-D Array of Int and Float"
   ]
  },
  {
   "cell_type": "code",
   "execution_count": 9,
   "id": "acfc02ec",
   "metadata": {},
   "outputs": [
    {
     "name": "stdout",
     "output_type": "stream",
     "text": [
      "The elements in x are of type: int32\n",
      "The elements in y are of type: float64\n",
      "The elements in z are of type: float64\n"
     ]
    }
   ],
   "source": [
    "# We create a rank 1 ndarray that contains integers\n",
    "x = np.array([1,2,3])\n",
    "\n",
    "# We create a rank 1 ndarray that contains floats\n",
    "y = np.array([1.0,2.0,3.0])\n",
    "\n",
    "# We create a rank 1 ndarray that contains integers and floats\n",
    "z = np.array([1, 2.5, 4])\n",
    "\n",
    "# We print the dtype of each ndarray\n",
    "print('The elements in x are of type:', x.dtype)\n",
    "print('The elements in y are of type:', y.dtype)\n",
    "print('The elements in z are of type:', z.dtype)"
   ]
  },
  {
   "cell_type": "markdown",
   "id": "1dba3b5a",
   "metadata": {},
   "source": [
    "We can see that when we create an ndarray with only floats, NumPy stores the elements in memory as 64-bit floating point numbers (float64). However, notice that when we create an ndarray with both floats and integers, as we did with the z ndarray above, NumPy assigns its elements a float64 dtype as well. This is called upcasting. Since all the elements of an ndarray must be of the same type, in this case NumPy upcasts the integers in z to floats in order to avoid losing precision in numerical computations.\n",
    "\n",
    "### Using a 1-D Array of Float, and specifying the dtype of each element\n",
    "Even though NumPy automatically selects the dtype of the ndarray, NumPy also allows you to specify the particular dtype you want to assign to the elements of the ndarray. You can specify the dtype when you create the ndarray using the keyword dtype in the np.array() function. Let's see an example:\n",
    "#### Example 1.e - Using a 1-D Array of Float, and specifying the datatype of each element as int64"
   ]
  },
  {
   "cell_type": "code",
   "execution_count": 10,
   "id": "9b84a907",
   "metadata": {},
   "outputs": [
    {
     "name": "stdout",
     "output_type": "stream",
     "text": [
      "x =  [1 2 3 4 5]\n",
      "The elements in x are of type: int64\n"
     ]
    }
   ],
   "source": [
    "# We create a rank 1 ndarray of floats but set the dtype to int64\n",
    "x = np.array([1.5, 2.2, 3.7, 4.0, 5.9], dtype = np.int64)\n",
    "\n",
    "# We print the dtype x\n",
    "print('x = ', x)\n",
    "print('The elements in x are of type:', x.dtype)"
   ]
  },
  {
   "cell_type": "markdown",
   "id": "a2193158",
   "metadata": {},
   "source": [
    "We can see that even though we created the ndarray with floats, by specifying the dtype to be int64, NumPy converted the floating point numbers into integers by removing their decimals. Specifying the data type of the ndarray can be useful in cases when you don't want NumPy to accidentally choose the wrong data type, or when you only need certain amount of precision in your calculations and you want to save memory.\n",
    "\n",
    "### numpy.ndarray.size and Creating a 2-D array\n",
    "Another useful attribute is NumPy.size, which returns the number of elements in the array. Let us now look at how we can create a rank 2 ndarray from a nested Python list.\n",
    "\n",
    "#### Example 2 - Using a 2-D Array (Rank #2 Array)"
   ]
  },
  {
   "cell_type": "code",
   "execution_count": 11,
   "id": "d1ff9b50",
   "metadata": {},
   "outputs": [
    {
     "name": "stdout",
     "output_type": "stream",
     "text": [
      "Y = \n",
      " [[ 1  2  3]\n",
      " [ 4  5  6]\n",
      " [ 7  8  9]\n",
      " [10 11 12]]\n",
      "Y has dimensions: (4, 3)\n",
      "Y has a total of 12 elements\n",
      "Y is an object of type: <class 'numpy.ndarray'>\n",
      "The elements in Y are of type: int32\n"
     ]
    }
   ],
   "source": [
    "# We create a rank 2 ndarray that only contains integers\n",
    "Y = np.array([[1,2,3],[4,5,6],[7,8,9], [10,11,12]])\n",
    "\n",
    "print('Y = \\n', Y)\n",
    "\n",
    "# We print information about Y\n",
    "print('Y has dimensions:', Y.shape)\n",
    "print('Y has a total of', Y.size, 'elements')\n",
    "print('Y is an object of type:', type(Y))\n",
    "print('The elements in Y are of type:', Y.dtype)"
   ]
  },
  {
   "cell_type": "markdown",
   "id": "2373bcbe",
   "metadata": {},
   "source": [
    "We can see that now the shape attribute returns the tuple (4,3) telling us that Y is of rank 2 and it has 4 rows and 3 columns. The .size attribute tells us that Y has a total of 12 elements.\n",
    "\n",
    "Notice that when NumPy creates an ndarray it automatically assigns its dtype based on the type of the elements you used to create the ndarray.\n",
    "\n",
    "### Save the NumPy array to a File\n",
    "Once you create an ndarray, you may want to save it to a file to be read later or to be used by another program. NumPy provides a way to save the arrays into files for later use - let's see how this is done.\n",
    "\n",
    "#### Example 3 - Save the NumPy array to a File"
   ]
  },
  {
   "cell_type": "code",
   "execution_count": 12,
   "id": "ac24636f",
   "metadata": {},
   "outputs": [],
   "source": [
    "# We create a rank 1 ndarray\n",
    "x = np.array([1, 2, 3, 4, 5])\n",
    "\n",
    "# We save x into the current directory as \n",
    "np.save('my_array', x)"
   ]
  },
  {
   "cell_type": "markdown",
   "id": "bed7b46e",
   "metadata": {},
   "source": [
    "The above saves the `x` ndarray into a file named `my_array.npy`. You can *load* the saved ndarray into a variable by using the `load()` function."
   ]
  },
  {
   "cell_type": "code",
   "execution_count": 13,
   "id": "071bed5f",
   "metadata": {},
   "outputs": [
    {
     "name": "stdout",
     "output_type": "stream",
     "text": [
      "\n",
      "y =  [1 2 3 4 5]\n",
      "\n",
      "y is an object of type: <class 'numpy.ndarray'>\n",
      "The elements in y are of type: int32\n"
     ]
    }
   ],
   "source": [
    "# We load the saved array from our current directory into variable y\n",
    "y = np.load('my_array.npy')\n",
    "\n",
    "# We print y\n",
    "print()\n",
    "print('y = ', y)\n",
    "print()\n",
    "\n",
    "# We print information about the ndarray we loaded\n",
    "print('y is an object of type:', type(y))\n",
    "print('The elements in y are of type:', y.dtype)"
   ]
  },
  {
   "cell_type": "markdown",
   "id": "a4c39f44",
   "metadata": {},
   "source": [
    "When loading an array from a file, make sure you include the name of the file together with the extension `.npy`, otherwise you will get an error."
   ]
  },
  {
   "cell_type": "markdown",
   "id": "e0085fd5",
   "metadata": {},
   "source": [
    "### Using Built-in Functions to Create ndarrays"
   ]
  },
  {
   "cell_type": "markdown",
   "id": "5d590656",
   "metadata": {},
   "source": [
    "One great time-saving feature of NumPy is its ability to create ndarrays using built-in functions. These functions allow us to create certain kinds of ndarrays with just one line of code. Below we will see a few of the most useful built-in functions for creating ndarrays that you will come across when doing AI programming.\n",
    "\n",
    "Let's start by creating an ndarray with a specified shape that is full of zeros. We can do this by using the `np.zeros()` function. The function `np.zeros(shape)` creates an ndarray full of `zeros` with the given `shape`. So, for example, if you wanted to create a rank 2 array with 3 rows and 4 columns, you will pass the shape to the function in the form of `(rows, columns)`, as in the example below:\n",
    "\n",
    "#### Example 1. Create a Numpy array of zeros with a desired shape"
   ]
  },
  {
   "cell_type": "code",
   "execution_count": 14,
   "id": "615b8b6a",
   "metadata": {},
   "outputs": [
    {
     "name": "stdout",
     "output_type": "stream",
     "text": [
      "\n",
      "X = \n",
      " [[0. 0. 0. 0.]\n",
      " [0. 0. 0. 0.]\n",
      " [0. 0. 0. 0.]]\n",
      "\n",
      "X has dimensions: (3, 4)\n",
      "X is an object of type: <class 'numpy.ndarray'>\n",
      "The elements in X are of type: float64\n"
     ]
    }
   ],
   "source": [
    "import numpy as np\n",
    "# We create a 3 x 4 ndarray full of zeros. \n",
    "X = np.zeros((3,4))\n",
    "\n",
    "# We print X\n",
    "print()\n",
    "print('X = \\n', X)\n",
    "print()\n",
    "\n",
    "# We print information about X\n",
    "print('X has dimensions:', X.shape)\n",
    "print('X is an object of type:', type(X))\n",
    "print('The elements in X are of type:', X.dtype)"
   ]
  },
  {
   "cell_type": "markdown",
   "id": "a1b679b1",
   "metadata": {},
   "source": [
    "As we can see, the `np.zeros()` function creates by default an array with dtype float64. If desired, the data type can be changed by using the keyword `dtype`.\n",
    "\n",
    "Similarly, we can create an ndarray with a specified shape that is full of *ones*. We can do this by using the `np.ones()` function. Just like the np.zeros() function, the np.ones() function takes as an argument the shape of the ndarray you want to make. Let's see an example:\n",
    "\n",
    "#### Example 2. Create a Numpy array of ones"
   ]
  },
  {
   "cell_type": "code",
   "execution_count": 15,
   "id": "d101e3bb",
   "metadata": {},
   "outputs": [
    {
     "name": "stdout",
     "output_type": "stream",
     "text": [
      "\n",
      "X = \n",
      " [[1. 1.]\n",
      " [1. 1.]\n",
      " [1. 1.]]\n",
      "\n",
      "X has dimensions: (3, 2)\n",
      "X is an object of type: <class 'numpy.ndarray'>\n",
      "The elements in X are of type: float64\n"
     ]
    }
   ],
   "source": [
    "# We create a 3 x 2 ndarray full of ones. \n",
    "X = np.ones((3,2))\n",
    "\n",
    "# We print X\n",
    "print()\n",
    "print('X = \\n', X)\n",
    "print()\n",
    "\n",
    "# We print information about X\n",
    "print('X has dimensions:', X.shape)\n",
    "print('X is an object of type:', type(X))\n",
    "print('The elements in X are of type:', X.dtype) "
   ]
  },
  {
   "cell_type": "markdown",
   "id": "08d9ff31",
   "metadata": {},
   "source": [
    "As we can see, the `np.ones()` function also creates by default an array with dtype float64. If desired, the data type can be changed by using the keyword `dtype`.\n",
    "\n",
    "We can also create an ndarray with a specified shape that is full of any number we want. We can do this by using the `np.full()` function. The `np.full(shape, constant value)` function takes two arguments. The first argument is the `shape` of the ndarray you want to make and the second is the `constant value` you want to populate the array with. Let's see an example:\n",
    "\n",
    "#### Example 3. Create a Numpy array of constants"
   ]
  },
  {
   "cell_type": "code",
   "execution_count": 16,
   "id": "f57bb535",
   "metadata": {},
   "outputs": [
    {
     "name": "stdout",
     "output_type": "stream",
     "text": [
      "\n",
      "X = \n",
      " [[5 5 5]\n",
      " [5 5 5]]\n",
      "\n",
      "X has dimensions: (2, 3)\n",
      "X is an object of type: <class 'numpy.ndarray'>\n",
      "The elements in X are of type: int32\n"
     ]
    }
   ],
   "source": [
    "# We create a 2 x 3 ndarray full of fives. \n",
    "X = np.full((2,3), 5) \n",
    "\n",
    "# We print X\n",
    "print()\n",
    "print('X = \\n', X)\n",
    "print()\n",
    "\n",
    "# We print information about X\n",
    "print('X has dimensions:', X.shape)\n",
    "print('X is an object of type:', type(X))\n",
    "print('The elements in X are of type:', X.dtype)"
   ]
  },
  {
   "cell_type": "markdown",
   "id": "bf8d7dba",
   "metadata": {},
   "source": [
    "The `np.full()` function creates by default an array with the same data type as the constant value used to fill in the array. If desired, the data type can be changed by using the keyword `dtype`.\n",
    "\n",
    "As you will learn later, a fundamental array in Linear Algebra is the Identity Matrix. An Identity matrix is a square matrix that has only 1s in its main diagonal and zeros everywhere else. The function `np.eye(N)` creates a square `N x N` ndarray corresponding to the Identity matrix. Since all Identity Matrices are square, the `np.eye()` function only takes a single integer as an argument. Let's see an example:\n",
    "\n",
    "#### Example 4 a. Create a Numpy array of an Identity matrix"
   ]
  },
  {
   "cell_type": "code",
   "execution_count": 17,
   "id": "f8bdd150",
   "metadata": {},
   "outputs": [
    {
     "name": "stdout",
     "output_type": "stream",
     "text": [
      "\n",
      "X = \n",
      " [[1. 0. 0. 0. 0.]\n",
      " [0. 1. 0. 0. 0.]\n",
      " [0. 0. 1. 0. 0.]\n",
      " [0. 0. 0. 1. 0.]\n",
      " [0. 0. 0. 0. 1.]]\n",
      "\n",
      "X has dimensions: (5, 5)\n",
      "X is an object of type: <class 'numpy.ndarray'>\n",
      "The elements in X are of type: float64\n"
     ]
    }
   ],
   "source": [
    "# We create a 5 x 5 Identity matrix. \n",
    "X = np.eye(5)\n",
    "\n",
    "# We print X\n",
    "print()\n",
    "print('X = \\n', X)\n",
    "print()\n",
    "\n",
    "# We print information about X\n",
    "print('X has dimensions:', X.shape)\n",
    "print('X is an object of type:', type(X))\n",
    "print('The elements in X are of type:', X.dtype)  "
   ]
  },
  {
   "cell_type": "markdown",
   "id": "5be4bbf7",
   "metadata": {},
   "source": [
    "As we can see, the `np.eye()` function also creates by default an array with `dtype` float64. If desired, the data type can be changed by using the keyword dtype. You will learn all about Identity Matrices and their use in the Linear Algebra section of this course. We can also create diagonal matrices by using the `np.diag()` function. A diagonal matrix is a square matrix that only has values in its main diagonal. The `np.diag()` function creates an ndarray corresponding to a diagonal matrix , as shown in the example below:\n",
    "#### Example 4 b. Create a Numpy array of constants"
   ]
  },
  {
   "cell_type": "code",
   "execution_count": 18,
   "id": "f7072dd6",
   "metadata": {},
   "outputs": [
    {
     "name": "stdout",
     "output_type": "stream",
     "text": [
      "\n",
      "X = \n",
      " [[10  0  0  0]\n",
      " [ 0 20  0  0]\n",
      " [ 0  0 30  0]\n",
      " [ 0  0  0 50]]\n",
      "\n"
     ]
    }
   ],
   "source": [
    "# Create a 4 x 4 diagonal matrix that contains the numbers 10,20,30, and 50\n",
    "# on its main diagonal\n",
    "X = np.diag([10,20,30,50])\n",
    "\n",
    "# We print X\n",
    "print()\n",
    "print('X = \\n', X)\n",
    "print()"
   ]
  },
  {
   "cell_type": "markdown",
   "id": "e787891c",
   "metadata": {},
   "source": [
    "### numpy.arange\n",
    "Syntax:\n",
    "\n",
    "`numpy.arange([start, ]stop, [step, ]dtype=None)`\n",
    "\n",
    "It returns evenly spaced values within a given interval. Details about the optional arguments are available [here.](https://numpy.org/doc/stable/reference/generated/numpy.arange.html)\n",
    "\n",
    "NumPy also allows you to create ndarrays that have evenly spaced values within a given interval. NumPy's `np.arange()` function is very versatile and can be used with either one, two, or three arguments. Below we will see examples of each case and how they are used to create different kinds of ndarrays.\n",
    "\n",
    "Let's start by using `np.arange()` with only one argument. When used with only one argument, `np.arange(N)` will create a rank 1 ndarray with consecutive integers between `0` and `N - 1`. Therefore, notice that if I want an array to have integers between 0 and 9, I have to use N = 10, *NOT* N = 9, as in the example below:\n",
    "\n",
    "#### Example 5. Create a Numpy array of evenly spaced values in a given range, using `arange(stop_val)`"
   ]
  },
  {
   "cell_type": "code",
   "execution_count": 19,
   "id": "853968df",
   "metadata": {},
   "outputs": [
    {
     "name": "stdout",
     "output_type": "stream",
     "text": [
      "\n",
      "x =  [0 1 2 3 4 5 6 7 8 9]\n",
      "\n",
      "x has dimensions: (10,)\n",
      "x is an object of type: <class 'numpy.ndarray'>\n",
      "The elements in x are of type: int32\n"
     ]
    }
   ],
   "source": [
    "# We create a rank 1 ndarray that has sequential integers from 0 to 9\n",
    "x = np.arange(10)\n",
    "\n",
    "# We print the ndarray\n",
    "print()\n",
    "print('x = ', x)\n",
    "print()\n",
    "\n",
    "# We print information about the ndarray\n",
    "print('x has dimensions:', x.shape)\n",
    "print('x is an object of type:', type(x))\n",
    "print('The elements in x are of type:', x.dtype)"
   ]
  },
  {
   "cell_type": "markdown",
   "id": "78538d03",
   "metadata": {},
   "source": [
    "When used with two arguments, `np.arange(start,stop)` will create a rank 1 ndarray with evenly spaced values within the half-open interval `[start, stop)`. This means the evenly spaced numbers will include `start` but *exclude* `stop`. Let's see an example\n",
    "\n",
    "#### Example 6. Create a Numpy array using arange(start_val, stop_val)"
   ]
  },
  {
   "cell_type": "code",
   "execution_count": 20,
   "id": "f514fca6",
   "metadata": {},
   "outputs": [
    {
     "name": "stdout",
     "output_type": "stream",
     "text": [
      "\n",
      "x =  [4 5 6 7 8 9]\n",
      "\n",
      "x has dimensions: (6,)\n",
      "x is an object of type: <class 'numpy.ndarray'>\n",
      "The elements in x are of type: int32\n"
     ]
    }
   ],
   "source": [
    "# We create a rank 1 ndarray that has sequential integers from 4 to 9. \n",
    "x = np.arange(4,10)\n",
    "\n",
    "# We print the ndarray\n",
    "print()\n",
    "print('x = ', x)\n",
    "print()\n",
    "\n",
    "# We print information about the ndarray\n",
    "print('x has dimensions:', x.shape)\n",
    "print('x is an object of type:', type(x))\n",
    "print('The elements in x are of type:', x.dtype) "
   ]
  },
  {
   "cell_type": "markdown",
   "id": "294fd5b0",
   "metadata": {},
   "source": [
    "As we can see, the function `np.arange(4,10)` generates a sequence of integers with 4 inclusive and 10 exclusive.\n",
    "\n",
    "Finally, when used with three arguments, `np.arange(start,stop,step)` will create a rank 1 ndarray with evenly spaced values within the half-open interval `[start, stop)` with `step` being the distance between two adjacent values. Let's see an example:\n",
    "\n",
    "#### Example 7. Create a Numpy array using `arange(start_val, stop_val, step_size)`"
   ]
  },
  {
   "cell_type": "code",
   "execution_count": 21,
   "id": "5d52b254",
   "metadata": {},
   "outputs": [
    {
     "name": "stdout",
     "output_type": "stream",
     "text": [
      "\n",
      "x =  [ 1  4  7 10 13]\n",
      "\n",
      "x has dimensions: (5,)\n",
      "x is an object of type: <class 'numpy.ndarray'>\n",
      "The elements in x are of type: int32\n"
     ]
    }
   ],
   "source": [
    "# We create a rank 1 ndarray that has evenly spaced integers from 1 to 13 in steps of 3.\n",
    "x = np.arange(1,14,3)\n",
    "\n",
    "# We print the ndarray\n",
    "print()\n",
    "print('x = ', x)\n",
    "print()\n",
    "\n",
    "# We print information about the ndarray\n",
    "print('x has dimensions:', x.shape)\n",
    "print('x is an object of type:', type(x))\n",
    "print('The elements in x are of type:', x.dtype) "
   ]
  },
  {
   "cell_type": "markdown",
   "id": "f2ed880a",
   "metadata": {},
   "source": [
    "We can see that `x` has sequential integers between 1 and 13 but the difference between all adjacent values is 3.\n",
    "\n",
    "### numpy.linspace\n",
    "Syntax:\n",
    "\n",
    "`numpy.linspace(start, stop, num=50, endpoint=True, retstep=False, dtype=None, axis=0)`\n",
    "\n",
    "It returns `num` evenly spaced values calculated over the interval `[start, stop]`. Details about the optional arguments are available [here.](https://numpy.org/doc/stable/reference/generated/numpy.linspace.html)\n",
    "\n",
    "Even though the `np.arange()` function allows for non-integer steps, such as 0.3, the output is usually inconsistent, due to the finite floating point precision. For this reason, in the cases where non-integer steps are required, it is usually better to use the function `np.linspace()`. The `np.linspace(start, stop, N)` function returns `N` evenly spaced numbers over the closed interval `[start, stop]`. This means that both the `start` and the `stop` values are included. We should also note the `np.linspace()` function needs to be called with at least two arguments in the form `np.linspace(start,stop)`. In this case, the default number of elements in the specified interval will be *N= 50*. The reason `np.linspace()` works better than the `np.arange()` function, is that `np.linspace()` uses the number of elements we want in a particular interval, instead of the step between values. Let's see some examples:\n",
    "\n",
    "#### Example 8. Create a Numpy array using `linspace(start, stop, n)`, with `stop` inclusive."
   ]
  },
  {
   "cell_type": "code",
   "execution_count": 22,
   "id": "f6483e19",
   "metadata": {},
   "outputs": [
    {
     "name": "stdout",
     "output_type": "stream",
     "text": [
      "\n",
      "x = \n",
      " [ 0.          2.77777778  5.55555556  8.33333333 11.11111111 13.88888889\n",
      " 16.66666667 19.44444444 22.22222222 25.        ]\n",
      "\n",
      "x has dimensions: (10,)\n",
      "x is an object of type: <class 'numpy.ndarray'>\n",
      "The elements in x are of type: float64\n"
     ]
    }
   ],
   "source": [
    "# We create a rank 1 ndarray that has 10 integers evenly spaced between 0 and 25.\n",
    "x = np.linspace(0,25,10)\n",
    "\n",
    "# We print the ndarray\n",
    "print()\n",
    "print('x = \\n', x)\n",
    "print()\n",
    "\n",
    "# We print information about the ndarray\n",
    "print('x has dimensions:', x.shape)\n",
    "print('x is an object of type:', type(x))\n",
    "print('The elements in x are of type:', x.dtype) "
   ]
  },
  {
   "cell_type": "markdown",
   "id": "128741f8",
   "metadata": {},
   "source": [
    "As we can see from the above example, the function `np.linspace(0,25,10)` returns an ndarray with `10` evenly spaced numbers in the closed interval `[0, 25]`. We can also see that both the start and end points, `0` and `25` in this case, are included. However, you can let the endpoint of the interval be excluded (just like in the np.arange() function) by setting the keyword `endpoint = False` in the `np.linspace()` function. Let's create the same `x` ndarray we created above but now with the endpoint excluded:\n",
    "\n",
    "#### Example 9. Create a Numpy array using `linspace(start, stop, n)`, with `stop` excluded."
   ]
  },
  {
   "cell_type": "code",
   "execution_count": 23,
   "id": "8fb5f4f9",
   "metadata": {},
   "outputs": [
    {
     "name": "stdout",
     "output_type": "stream",
     "text": [
      "\n",
      "x =  [ 0.   2.5  5.   7.5 10.  12.5 15.  17.5 20.  22.5]\n",
      "\n",
      "x has dimensions: (10,)\n",
      "x is an object of type: <class 'numpy.ndarray'>\n",
      "The elements in x are of type: float64\n"
     ]
    }
   ],
   "source": [
    "# We create a rank 1 ndarray that has 10 integers evenly spaced between 0 and 25,\n",
    "# with 25 excluded.\n",
    "x = np.linspace(0,25,10, endpoint = False)\n",
    "\n",
    "# We print the ndarray\n",
    "print()\n",
    "print('x = ', x)\n",
    "print()\n",
    "\n",
    "# We print information about the ndarray\n",
    "print('x has dimensions:', x.shape)\n",
    "print('x is an object of type:', type(x))\n",
    "print('The elements in x are of type:', x.dtype)"
   ]
  },
  {
   "cell_type": "markdown",
   "id": "65939dab",
   "metadata": {},
   "source": [
    "### numpy.reshape - This is a Function.\n",
    "Syntax:\n",
    "\n",
    "`numpy.reshape(array, newshape, order='C')[source]`\n",
    "\n",
    "It gives a new shape to an array without changing its data. More details about the arguments are available [here.](https://numpy.org/doc/stable/reference/generated/numpy.reshape.html#numpy.reshape)\n",
    "\n",
    "So far, we have only used the built-in functions `np.arange()` and `np.linspace()` to create rank 1 ndarrays. However, we can use these functions to create rank 2 ndarrays of any shape by combining them with the `np.reshape()` function. The `np.reshape(ndarray, new_shape)` function converts the given `ndarray` into the specified `new_shape`. It is important to note that the `new_shape` should be compatible with the number of elements in the given `ndarray`. For example, you can convert a rank 1 ndarray with 6 elements, into a 3 x 2 rank 2 ndarray, or a 2 x 3 rank 2 ndarray, since both of these rank 2 arrays will have a total of 6 elements. However, you can't reshape the rank 1 ndarray with 6 elements into a 3 x 3 rank 2 ndarray, since this rank 2 array will have 9 elements, which is greater than the number of elements in the original ndarray. Let's see some examples:\n",
    "\n",
    "#### Example 10. Create a Numpy array by feeding the output of `arange()` function as an argument to the `reshape()` function."
   ]
  },
  {
   "cell_type": "code",
   "execution_count": 24,
   "id": "004212a3",
   "metadata": {},
   "outputs": [
    {
     "name": "stdout",
     "output_type": "stream",
     "text": [
      "\n",
      "Original x =  [ 0  1  2  3  4  5  6  7  8  9 10 11 12 13 14 15 16 17 18 19]\n",
      "\n",
      "\n",
      "Reshaped x = \n",
      " [[ 0  1  2  3  4]\n",
      " [ 5  6  7  8  9]\n",
      " [10 11 12 13 14]\n",
      " [15 16 17 18 19]]\n",
      "\n",
      "x has dimensions: (4, 5)\n",
      "x is an object of type: <class 'numpy.ndarray'>\n",
      "The elements in x are of type: int32\n"
     ]
    }
   ],
   "source": [
    "# We create a rank 1 ndarray with sequential integers from 0 to 19\n",
    "x = np.arange(20)\n",
    "\n",
    "# We print x\n",
    "print()\n",
    "print('Original x = ', x)\n",
    "print()\n",
    "\n",
    "# We reshape x into a 4 x 5 ndarray \n",
    "x = np.reshape(x, (4,5))\n",
    "\n",
    "# We print the reshaped x\n",
    "print()\n",
    "print('Reshaped x = \\n', x)\n",
    "print()\n",
    "\n",
    "# We print information about the reshaped x\n",
    "print('x has dimensions:', x.shape)\n",
    "print('x is an object of type:', type(x))\n",
    "print('The elements in x are of type:', x.dtype) "
   ]
  },
  {
   "cell_type": "markdown",
   "id": "c495b7b8",
   "metadata": {},
   "source": [
    "### numpy.ndarray.reshape - This one is a Method.\n",
    "Syntax:\n",
    "\n",
    "`ndarray.reshape(shape, order='C')`\n",
    "\n",
    "It returns an array containing the same data with a new shape. More details about the arguments are available [here.](https://numpy.org/doc/stable/reference/generated/numpy.ndarray.reshape.html#numpy.ndarray.reshape)\n",
    "\n",
    "> **Need clarity between a Method versus Function?** - Refer to [this](https://stackoverflow.com/questions/155609/whats-the-difference-between-a-method-and-a-function?rq=1) discussion on StackOverflow\n",
    "\n",
    "One great feature about NumPy, is that some functions can also be applied as methods. This allows us to apply different functions in sequence in just one line of code. ndarray methods are similar to ndarray attributes in that they are both applied using dot notation (`.`). Let's see how we can accomplish the same result as in the above example, but in just one line of code:\n",
    "\n",
    "#### Example 11. Create a Numpy array by calling the `reshape()` function from the output of `arange()` function."
   ]
  },
  {
   "cell_type": "code",
   "execution_count": 25,
   "id": "8851e6bf",
   "metadata": {},
   "outputs": [
    {
     "name": "stdout",
     "output_type": "stream",
     "text": [
      "\n",
      "Y = \n",
      " [[ 0  1  2  3  4]\n",
      " [ 5  6  7  8  9]\n",
      " [10 11 12 13 14]\n",
      " [15 16 17 18 19]]\n",
      "\n",
      "Y has dimensions: (4, 5)\n",
      "Y is an object of type: <class 'numpy.ndarray'>\n",
      "The elements in Y are of type: int32\n"
     ]
    }
   ],
   "source": [
    "# We create a a rank 1 ndarray with sequential integers from 0 to 19 and\n",
    "# reshape it to a 4 x 5 array \n",
    "Y = np.arange(20).reshape(4, 5)\n",
    "\n",
    "# We print Y\n",
    "print()\n",
    "print('Y = \\n', Y)\n",
    "print()\n",
    "\n",
    "# We print information about Y\n",
    "print('Y has dimensions:', Y.shape)\n",
    "print('Y is an object of type:', type(Y))\n",
    "print('The elements in Y are of type:', Y.dtype) "
   ]
  },
  {
   "cell_type": "markdown",
   "id": "fe452b66",
   "metadata": {},
   "source": [
    "As we can see, we get the exact same result as before. Notice that when we use `reshape()` as a method, it's applied as `ndarray.reshape(new_shape)`. This converts the `ndarray` into the specified shape `new_shape`. As before, it is important to note that the `new_shape` should be compatible with the number of elements in `ndarray`. In the example above, the function `np.arange(20)` creates an ndarray and serves as the `ndarray` to be reshaped by the `reshape()` method. Therefore, when using `reshape()` as a method, we don't need to pass the `ndarray` as an argument to the `reshape()` function, instead we only need to pass the `new_shape` argument.\n",
    "\n",
    "In the same manner, we can also combine `reshape()` with `np.linspace()` to create rank 2 arrays, as shown in the next example.\n",
    "\n",
    "#### Example 12. Create a rank 2 Numpy array by using the `reshape()` function."
   ]
  },
  {
   "cell_type": "code",
   "execution_count": 26,
   "id": "8ecc38f4",
   "metadata": {},
   "outputs": [
    {
     "name": "stdout",
     "output_type": "stream",
     "text": [
      "\n",
      "X = \n",
      " [[ 0.  5.]\n",
      " [10. 15.]\n",
      " [20. 25.]\n",
      " [30. 35.]\n",
      " [40. 45.]]\n",
      "\n",
      "X has dimensions: (5, 2)\n",
      "X is an object of type: <class 'numpy.ndarray'>\n",
      "The elements in X are of type: float64\n"
     ]
    }
   ],
   "source": [
    "# We create a rank 1 ndarray with 10 integers evenly spaced between 0 and 50,\n",
    "# with 50 excluded. We then reshape it to a 5 x 2 ndarray\n",
    "X = np.linspace(0,50,10, endpoint=False).reshape(5,2)\n",
    "\n",
    "# We print X\n",
    "print()\n",
    "print('X = \\n', X)\n",
    "print()\n",
    "\n",
    "# We print information about X\n",
    "print('X has dimensions:', X.shape)\n",
    "print('X is an object of type:', type(X))\n",
    "print('The elements in X are of type:', X.dtype)"
   ]
  },
  {
   "cell_type": "markdown",
   "id": "b4636fd8",
   "metadata": {},
   "source": [
    "The last type of ndarrays we are going to create are *random* ndarrays. Random ndarrays are arrays that contain random numbers. Often in Machine Learning, you need to create random matrices, for example, when initializing the weights of a Neural Network. NumPy offers a variety of random functions to help us create random ndarrays of any shape.\n",
    "\n",
    "Let's start by using the `np.random.random(shape)` function to create an ndarray of the given `shape` with random floats in the half-open interval [0.0, 1.0).\n",
    "\n",
    "#### Example 13. Create a Numpy array using the `numpy.random.random()` function."
   ]
  },
  {
   "cell_type": "code",
   "execution_count": 27,
   "id": "d1ecd6a4",
   "metadata": {},
   "outputs": [
    {
     "name": "stdout",
     "output_type": "stream",
     "text": [
      "\n",
      "X = \n",
      " [[0.96922373 0.45609978 0.57311819]\n",
      " [0.33259544 0.16347475 0.57510035]\n",
      " [0.31934182 0.29575826 0.26206007]]\n",
      "\n",
      "X has dimensions: (3, 3)\n",
      "X is an object of type: <class 'numpy.ndarray'>\n",
      "The elements in x are of type: float64\n"
     ]
    }
   ],
   "source": [
    "# We create a 3 x 3 ndarray with random floats in the half-open interval [0.0, 1.0).\n",
    "X = np.random.random((3,3))\n",
    "\n",
    "# We print X\n",
    "print()\n",
    "print('X = \\n', X)\n",
    "print()\n",
    "\n",
    "# We print information about X\n",
    "print('X has dimensions:', X.shape)\n",
    "print('X is an object of type:', type(X))\n",
    "print('The elements in x are of type:', X.dtype)"
   ]
  },
  {
   "cell_type": "markdown",
   "id": "4a63cd95",
   "metadata": {},
   "source": [
    "NumPy also allows us to create ndarrays with random integers within a particular interval. The function `np.random.randint(start, stop, size = shape)` creates an ndarray of the given `shape` with random integers in the half-open interval `[start, stop)`. Let's see an example:\n",
    "\n",
    "#### Example 14. Create a Numpy array using the `numpy.random.randint()` function."
   ]
  },
  {
   "cell_type": "code",
   "execution_count": 28,
   "id": "c3707ec3",
   "metadata": {},
   "outputs": [
    {
     "name": "stdout",
     "output_type": "stream",
     "text": [
      "\n",
      "X = \n",
      " [[11  7]\n",
      " [ 6 14]\n",
      " [ 6  7]]\n",
      "\n",
      "X has dimensions: (3, 2)\n",
      "X is an object of type: <class 'numpy.ndarray'>\n",
      "The elements in X are of type: int32\n"
     ]
    }
   ],
   "source": [
    "# We create a 3 x 2 ndarray with random integers in the half-open interval [4, 15).\n",
    "X = np.random.randint(4,15,size=(3,2))\n",
    "\n",
    "# We print X\n",
    "print()\n",
    "print('X = \\n', X)\n",
    "print()\n",
    "\n",
    "# We print information about X\n",
    "print('X has dimensions:', X.shape)\n",
    "print('X is an object of type:', type(X))\n",
    "print('The elements in X are of type:', X.dtype)"
   ]
  },
  {
   "attachments": {
    "unnamed-chunk-27-1.png": {
     "image/png": "[encoded data removed]"
    }
   },
   "cell_type": "markdown",
   "id": "13b0291b",
   "metadata": {},
   "source": [
    "![unnamed-chunk-27-1.png](attachment:unnamed-chunk-27-1.png)\n",
    "___"
   ]
  },
  {
   "attachments": {
    "unnamed-chunk-28-1.png": {
     "image/png": "[encoded data removed]"
    }
   },
   "cell_type": "markdown",
   "id": "ca847edc",
   "metadata": {},
   "source": [
    "![unnamed-chunk-28-1.png](attachment:unnamed-chunk-28-1.png)\n",
    "___"
   ]
  },
  {
   "attachments": {
    "unnamed-chunk-29-1.png": {
     "image/png": "[encoded data removed]"
    }
   },
   "cell_type": "markdown",
   "id": "d4d9cb33",
   "metadata": {},
   "source": [
    "![unnamed-chunk-29-1.png](attachment:unnamed-chunk-29-1.png)\n",
    "___"
   ]
  },
  {
   "cell_type": "markdown",
   "id": "0929ddc9",
   "metadata": {},
   "source": [
    "In some cases, you may need to create ndarrays with random numbers that satisfy certain statistical properties. For example, you may want the random numbers in the ndarray to have an average of 0. NumPy allows you create random ndarrays with numbers drawn from various probability distributions. The function `np.random.normal(mean, standard deviation, size=shape)`, for example, creates an ndarray with the given `shape` that contains random numbers picked from a `normal` (Gaussian) distribution with the given `mean` and `standard deviation`. Let's create a 1,000 x 1,000 ndarray of random floating point numbers drawn from a normal distribution with a mean (average) of zero and a standard deviation of 0.1.\n",
    "\n",
    "#### Example 15. Create a Numpy array of \"Normal\" distributed random numbers, using the `numpy.random.normal()` function."
   ]
  },
  {
   "cell_type": "code",
   "execution_count": 29,
   "id": "81a5a284",
   "metadata": {},
   "outputs": [
    {
     "name": "stdout",
     "output_type": "stream",
     "text": [
      "\n",
      "X = \n",
      " [[-0.00804378  0.05761234  0.06939333 ... -0.15222408  0.04886551\n",
      "   0.10512516]\n",
      " [-0.14045543 -0.06037875 -0.12307925 ...  0.00814854 -0.04297072\n",
      "   0.07140591]\n",
      " [ 0.05718457 -0.06199066  0.12542577 ...  0.24025469 -0.09863953\n",
      "  -0.28663031]\n",
      " ...\n",
      " [-0.17198057 -0.01679807  0.08444958 ... -0.05637395  0.0239489\n",
      "   0.12541879]\n",
      " [-0.06479346 -0.08747579 -0.23444793 ... -0.0473869  -0.07365825\n",
      "  -0.14577563]\n",
      " [-0.06016148 -0.02785608 -0.05037464 ... -0.07589442 -0.15104264\n",
      "   0.05053314]]\n",
      "\n",
      "X has dimensions: (1000, 1000)\n",
      "X is an object of type: <class 'numpy.ndarray'>\n",
      "The elements in X are of type: float64\n",
      "The elements in X have a mean of: -9.815034977526211e-05\n",
      "The maximum value in X is: 0.47396969474445116\n",
      "The minimum value in X is: -0.48271598423390705\n",
      "X has 500514 negative numbers\n",
      "X has 499486 positive numbers\n"
     ]
    }
   ],
   "source": [
    "# We create a 1000 x 1000 ndarray of random floats drawn from normal (Gaussian) distribution\n",
    "# with a mean of zero and a standard deviation of 0.1.\n",
    "X = np.random.normal(0, 0.1, size=(1000,1000))\n",
    "\n",
    "# We print X\n",
    "print()\n",
    "print('X = \\n', X)\n",
    "print()\n",
    "\n",
    "# We print information about X\n",
    "print('X has dimensions:', X.shape)\n",
    "print('X is an object of type:', type(X))\n",
    "print('The elements in X are of type:', X.dtype)\n",
    "print('The elements in X have a mean of:', X.mean())\n",
    "print('The maximum value in X is:', X.max())\n",
    "print('The minimum value in X is:', X.min())\n",
    "print('X has', (X < 0).sum(), 'negative numbers')\n",
    "print('X has', (X > 0).sum(), 'positive numbers')"
   ]
  },
  {
   "cell_type": "markdown",
   "id": "1ba7cbc9",
   "metadata": {},
   "source": [
    "As we can see, the average of the random numbers in the ndarray is close to zero, both the maximum and minimum values in `X` are symmetric about zero (the average), and we have about the same amount of positive and negative numbers."
   ]
  },
  {
   "cell_type": "markdown",
   "id": "d7d2691d",
   "metadata": {},
   "source": [
    "### Accessing, Deleting, and Inserting Elements Into ndarrays\n",
    "\n",
    "Now that you know how to create a variety of ndarrays, we will now see how NumPy allows us to effectively manipulate the data within the ndarrays. NumPy ndarrays are mutable, meaning that the elements in ndarrays can be changed after the ndarray has been created. NumPy ndarrays can also be sliced, which means that ndarrays can be split in many different ways. This allows us, for example, to retrieve any subset of the ndarray that we want. Often in Machine Learning you will use slicing to separate data, as for example when dividing a data set into training, cross validation, and testing sets.\n",
    "\n",
    "We will start by looking at how the elements of an ndarray can be accessed or modified by indexing. Elements can be accessed using indices inside square brackets, [ ]. NumPy allows you to use both positive and negative indices to access elements in the ndarray. Positive indices are used to access elements from the beginning of the array, while negative indices are used to access elements from the end of the array. Let's see how we can access elements in rank 1 ndarrays:\n",
    "\n",
    "#### Example 1. Access individual elements of 1-D array"
   ]
  },
  {
   "cell_type": "code",
   "execution_count": 30,
   "id": "9fe973bc",
   "metadata": {},
   "outputs": [
    {
     "name": "stdout",
     "output_type": "stream",
     "text": [
      "\n",
      "x =  [1 2 3 4 5]\n",
      "\n",
      "This is First Element in x: 1\n",
      "This is Second Element in x: 2\n",
      "This is Fifth (Last) Element in x: 5\n",
      "\n",
      "This is First Element in x: 1\n",
      "This is Second Element in x: 2\n",
      "This is Fifth (Last) Element in x: 5\n"
     ]
    }
   ],
   "source": [
    "import numpy as np\n",
    "\n",
    "# We create a rank 1 ndarray that contains integers from 1 to 5\n",
    "x = np.array([1, 2, 3, 4, 5])\n",
    "\n",
    "# We print x\n",
    "print()\n",
    "print('x = ', x)\n",
    "print()\n",
    "\n",
    "# Let's access some elements with positive indices\n",
    "print('This is First Element in x:', x[0]) \n",
    "print('This is Second Element in x:', x[1])\n",
    "print('This is Fifth (Last) Element in x:', x[4])\n",
    "print()\n",
    "\n",
    "# Let's access the same elements with negative indices\n",
    "print('This is First Element in x:', x[-5])\n",
    "print('This is Second Element in x:', x[-4])\n",
    "print('This is Fifth (Last) Element in x:', x[-1])"
   ]
  },
  {
   "cell_type": "markdown",
   "id": "35fe69d2",
   "metadata": {},
   "source": [
    "Notice that to access the first element in the ndarray we have to use the index 0 not 1. Also notice, that the same element can be accessed using both positive and negative indices. As mentioned earlier, positive indices are used to access elements from the beginning of the array, while negative indices are used to access elements from the end of the array.\n",
    "\n",
    "Now let's see how we can change the elements in rank 1 ndarrays. We do this by accessing the element we want to change and then using the `=` sign to assign the new value:\n",
    "\n",
    "#### Example 2. Modify an element of 1-D array"
   ]
  },
  {
   "cell_type": "code",
   "execution_count": 31,
   "id": "61480b65",
   "metadata": {},
   "outputs": [
    {
     "name": "stdout",
     "output_type": "stream",
     "text": [
      "\n",
      "Original:\n",
      " x =  [1 2 3 4 5]\n",
      "\n",
      "Modified:\n",
      " x =  [ 1  2  3 20  5]\n"
     ]
    }
   ],
   "source": [
    "# We create a rank 1 ndarray that contains integers from 1 to 5\n",
    "x = np.array([1, 2, 3, 4, 5])\n",
    "\n",
    "# We print the original x\n",
    "print()\n",
    "print('Original:\\n x = ', x)\n",
    "print()\n",
    "\n",
    "# We change the fourth element in x from 4 to 20\n",
    "x[3] = 20\n",
    "\n",
    "# We print x after it was modified \n",
    "print('Modified:\\n x = ', x)"
   ]
  },
  {
   "cell_type": "markdown",
   "id": "d084d43d",
   "metadata": {},
   "source": [
    "Similarly, we can also access and modify specific elements of rank 2 ndarrays. To access elements in rank 2 ndarrays we need to provide 2 indices in the form `[row, column]`. Let's see some examples.\n",
    "\n",
    "#### Example 3. Access individual elements of 2-D array"
   ]
  },
  {
   "cell_type": "code",
   "execution_count": 32,
   "id": "f11c0aef",
   "metadata": {},
   "outputs": [
    {
     "name": "stdout",
     "output_type": "stream",
     "text": [
      "\n",
      "X = \n",
      " [[1 2 3]\n",
      " [4 5 6]\n",
      " [7 8 9]]\n",
      "\n",
      "This is (0,0) Element in X: 1\n",
      "This is (0,1) Element in X: 2\n",
      "This is (2,2) Element in X: 9\n"
     ]
    }
   ],
   "source": [
    "# We create a 3 x 3 rank 2 ndarray that contains integers from 1 to 9\n",
    "X = np.array([[1,2,3],[4,5,6],[7,8,9]])\n",
    "\n",
    "# We print X\n",
    "print()\n",
    "print('X = \\n', X)\n",
    "print()\n",
    "\n",
    "# Let's access some elements in X\n",
    "print('This is (0,0) Element in X:', X[0,0])\n",
    "print('This is (0,1) Element in X:', X[0,1])\n",
    "print('This is (2,2) Element in X:', X[2,2])"
   ]
  },
  {
   "cell_type": "markdown",
   "id": "ed4d8476",
   "metadata": {},
   "source": [
    "Remember that the index `[0, 0]` refers to the element in the first row, first column.\n",
    "\n",
    "Elements in rank 2 ndarrays can be modified in the same way as with rank 1 ndarrays. Let's see an example:\n",
    "\n",
    "#### Example 4. Modify an element of 2-D array"
   ]
  },
  {
   "cell_type": "code",
   "execution_count": 33,
   "id": "141ede04",
   "metadata": {},
   "outputs": [
    {
     "name": "stdout",
     "output_type": "stream",
     "text": [
      "\n",
      "Original:\n",
      " X = \n",
      " [[1 2 3]\n",
      " [4 5 6]\n",
      " [7 8 9]]\n",
      "\n",
      "Modified:\n",
      " X = \n",
      " [[20  2  3]\n",
      " [ 4  5  6]\n",
      " [ 7  8  9]]\n"
     ]
    }
   ],
   "source": [
    "# We create a 3 x 3 rank 2 ndarray that contains integers from 1 to 9\n",
    "X = np.array([[1,2,3],[4,5,6],[7,8,9]])\n",
    "\n",
    "# We print the original x\n",
    "print()\n",
    "print('Original:\\n X = \\n', X)\n",
    "print()\n",
    "\n",
    "# We change the (0,0) element in X from 1 to 20\n",
    "X[0,0] = 20\n",
    "\n",
    "# We print X after it was modified \n",
    "print('Modified:\\n X = \\n', X)"
   ]
  },
  {
   "cell_type": "markdown",
   "id": "e160df66",
   "metadata": {},
   "source": [
    "Now, let's take a look at how we can add and delete elements from ndarrays. We can delete elements using the `np.delete(ndarray, elements, axis)` function. This function `deletes` the given list of `elements` from the given `ndarray` along the specified `axis`. For rank 1 ndarrays the `axis` keyword is not required. For rank 2 ndarrays, axis = 0 is used to select rows, and `axis = 1` is used to select columns. Let's see some examples:\n",
    "\n",
    "#### Example 5. Delete elements"
   ]
  },
  {
   "cell_type": "code",
   "execution_count": 34,
   "id": "e37460de",
   "metadata": {},
   "outputs": [
    {
     "name": "stdout",
     "output_type": "stream",
     "text": [
      "\n",
      "Original x =  [1 2 3 4 5]\n",
      "\n",
      "Modified x =  [2 3 4]\n",
      "\n",
      "Original Y = \n",
      " [[1 2 3]\n",
      " [4 5 6]\n",
      " [7 8 9]]\n",
      "\n",
      "w = \n",
      " [[4 5 6]\n",
      " [7 8 9]]\n",
      "\n",
      "v = \n",
      " [[2]\n",
      " [5]\n",
      " [8]]\n"
     ]
    }
   ],
   "source": [
    "# We create a rank 1 ndarray \n",
    "x = np.array([1, 2, 3, 4, 5])\n",
    "\n",
    "# We create a rank 2 ndarray\n",
    "Y = np.array([[1,2,3],[4,5,6],[7,8,9]])\n",
    "\n",
    "# We print x\n",
    "print()\n",
    "print('Original x = ', x)\n",
    "\n",
    "# We delete the first and last element of x\n",
    "x = np.delete(x, [0,4])\n",
    "\n",
    "# We print x with the first and last element deleted\n",
    "print()\n",
    "print('Modified x = ', x)\n",
    "\n",
    "# We print Y\n",
    "print()\n",
    "print('Original Y = \\n', Y)\n",
    "\n",
    "# We delete the first row of y\n",
    "w = np.delete(Y, 0, axis=0)\n",
    "\n",
    "# We delete the first and last column of y\n",
    "v = np.delete(Y, [0,2], axis=1)\n",
    "\n",
    "# We print w\n",
    "print()\n",
    "print('w = \\n', w)\n",
    "\n",
    "# We print v\n",
    "print()\n",
    "print('v = \\n', v)"
   ]
  },
  {
   "cell_type": "markdown",
   "id": "8facd059",
   "metadata": {},
   "source": [
    "### numpy.append\n",
    "Syntax:\n",
    "\n",
    "`numpy.append(array, values, axis=None)`\n",
    "\n",
    "It appends values to the end of an array. Refer [here](https://numpy.org/doc/stable/reference/generated/numpy.append.html) for more details about additional arguments.\n",
    "\n",
    "Now, let's see how we can append values to ndarrays. We can append values to ndarrays using the `np.append(ndarray, elements, axis)` function. This function appends the given list of `elements` to `ndarray` along the specified `axis`. Let's see some examples:\n",
    "\n",
    "#### Example 6. Append elements"
   ]
  },
  {
   "cell_type": "code",
   "execution_count": 35,
   "id": "1179ffd0",
   "metadata": {},
   "outputs": [
    {
     "name": "stdout",
     "output_type": "stream",
     "text": [
      "\n",
      "Original x =  [1 2 3 4 5]\n",
      "\n",
      "x =  [1 2 3 4 5 6]\n",
      "\n",
      "x =  [1 2 3 4 5 6 7 8]\n",
      "\n",
      "Original Y = \n",
      " [[1 2 3]\n",
      " [4 5 6]]\n",
      "\n",
      "v = \n",
      " [[1 2 3]\n",
      " [4 5 6]\n",
      " [7 8 9]]\n",
      "\n",
      "q = \n",
      " [[ 1  2  3  9]\n",
      " [ 4  5  6 10]]\n"
     ]
    }
   ],
   "source": [
    "# We create a rank 1 ndarray \n",
    "x = np.array([1, 2, 3, 4, 5])\n",
    "\n",
    "# We create a rank 2 ndarray \n",
    "Y = np.array([[1,2,3],[4,5,6]])\n",
    "\n",
    "# We print x\n",
    "print()\n",
    "print('Original x = ', x)\n",
    "\n",
    "# We append the integer 6 to x\n",
    "x = np.append(x, 6)\n",
    "\n",
    "# We print x\n",
    "print()\n",
    "print('x = ', x)\n",
    "\n",
    "# We append the integer 7 and 8 to x\n",
    "x = np.append(x, [7,8])\n",
    "\n",
    "# We print x\n",
    "print()\n",
    "print('x = ', x)\n",
    "\n",
    "# We print Y\n",
    "print()\n",
    "print('Original Y = \\n', Y)\n",
    "\n",
    "# We append a new row containing 7,8,9 to y\n",
    "v = np.append(Y, [[7,8,9]], axis=0)\n",
    "\n",
    "# We append a new column containing 9 and 10 to y\n",
    "q = np.append(Y,[[9],[10]], axis=1)\n",
    "\n",
    "# We print v\n",
    "print()\n",
    "print('v = \\n', v)\n",
    "\n",
    "# We print q\n",
    "print()\n",
    "print('q = \\n', q)"
   ]
  },
  {
   "cell_type": "markdown",
   "id": "10413e70",
   "metadata": {},
   "source": [
    "Notice that when appending rows or columns to rank 2 ndarrays the rows or columns must have the correct shape, so as to match the shape of the rank 2 ndarray.\n",
    "\n",
    "Now let's see now how we can insert values to ndarrays. We can insert values to ndarrays using the `np.insert(ndarray, index, elements, axis)` function. This function inserts the given list of `elements` to `ndarray` right before the given `index` along the specified `axis`. Let's see some examples:\n",
    "\n",
    "#### Example 7. Insert elements"
   ]
  },
  {
   "cell_type": "code",
   "execution_count": 36,
   "id": "ec0b9018",
   "metadata": {},
   "outputs": [
    {
     "name": "stdout",
     "output_type": "stream",
     "text": [
      "\n",
      "Original x =  [1 2 5 6 7]\n",
      "\n",
      "x =  [1 2 3 4 5 6 7]\n",
      "\n",
      "Original Y = \n",
      " [[1 2 3]\n",
      " [7 8 9]]\n",
      "\n",
      "w = \n",
      " [[1 2 3]\n",
      " [4 5 6]\n",
      " [7 8 9]]\n",
      "\n",
      "v = \n",
      " [[1 5 2 3]\n",
      " [7 5 8 9]]\n"
     ]
    }
   ],
   "source": [
    "# We create a rank 1 ndarray \n",
    "x = np.array([1, 2, 5, 6, 7])\n",
    "\n",
    "# We create a rank 2 ndarray \n",
    "Y = np.array([[1,2,3],[7,8,9]])\n",
    "\n",
    "# We print x\n",
    "print()\n",
    "print('Original x = ', x)\n",
    "\n",
    "# We insert the integer 3 and 4 between 2 and 5 in x. \n",
    "x = np.insert(x,2,[3,4])\n",
    "\n",
    "# We print x with the inserted elements\n",
    "print()\n",
    "print('x = ', x)\n",
    "\n",
    "# We print Y\n",
    "print()\n",
    "print('Original Y = \\n', Y)\n",
    "\n",
    "# We insert a row between the first and last row of y\n",
    "w = np.insert(Y,1,[4,5,6],axis=0)\n",
    "\n",
    "# We insert a column full of 5s between the first and second column of y\n",
    "v = np.insert(Y,1,5, axis=1)\n",
    "\n",
    "# We print w\n",
    "print()\n",
    "print('w = \\n', w)\n",
    "\n",
    "# We print v\n",
    "print()\n",
    "print('v = \\n', v)"
   ]
  },
  {
   "cell_type": "markdown",
   "id": "570f82b1",
   "metadata": {},
   "source": [
    "### numpy.hstack and numpy.vstack\n",
    "Syntax:\n",
    "\n",
    "`numpy.hstack(sequence_of_ndarray)`\n",
    "\n",
    "It returns a stacked array formed by stacking the given arrays in sequence horizontally (column-wise). See the in-depth details [here](https://numpy.org/doc/stable/reference/generated/numpy.vstack.html).\n",
    "\n",
    "`numpy.vstack(sequence_of_ndarray)`\n",
    "\n",
    "It returns a stacked array formed by stacking the given arrays, will be at least 2-D, in sequence vertically (row-wise). See the in-depth details [here](https://numpy.org/doc/stable/reference/generated/numpy.vstack.html).\n",
    "\n",
    "NumPy also allows us to stack ndarrays on top of each other, or to stack them side by side. The stacking is done using either the `np.vstack()` function for vertical stacking, or the `np.hstack()` function for horizontal stacking. It is important to note that in order to stack ndarrays, the shape of the ndarrays must match. Let's see some examples:\n",
    "\n",
    "#### Example 8. Stack arrays"
   ]
  },
  {
   "cell_type": "code",
   "execution_count": 37,
   "id": "45deaf1e",
   "metadata": {},
   "outputs": [
    {
     "name": "stdout",
     "output_type": "stream",
     "text": [
      "\n",
      "x =  [1 2]\n",
      "\n",
      "Y = \n",
      " [[3 4]\n",
      " [5 6]]\n",
      "\n",
      "z = \n",
      " [[1 2]\n",
      " [3 4]\n",
      " [5 6]]\n",
      "\n",
      "w = \n",
      " [[3 4 1]\n",
      " [5 6 2]]\n"
     ]
    }
   ],
   "source": [
    "# We create a rank 1 ndarray \n",
    "x = np.array([1,2])\n",
    "\n",
    "# We create a rank 2 ndarray \n",
    "Y = np.array([[3,4],[5,6]])\n",
    "\n",
    "# We print x\n",
    "print()\n",
    "print('x = ', x)\n",
    "\n",
    "# We print Y\n",
    "print()\n",
    "print('Y = \\n', Y)\n",
    "\n",
    "# We stack x on top of Y\n",
    "z = np.vstack((x,Y))\n",
    "\n",
    "# We stack x on the right of Y. We need to reshape x in order to stack it on the right of Y. \n",
    "w = np.hstack((Y,x.reshape(2,1)))\n",
    "\n",
    "# We print z\n",
    "print()\n",
    "print('z = \\n', z)\n",
    "\n",
    "# We print w\n",
    "print()\n",
    "print('w = \\n', w)"
   ]
  },
  {
   "cell_type": "code",
   "execution_count": null,
   "id": "bef92929",
   "metadata": {},
   "outputs": [],
   "source": []
  },
  {
   "cell_type": "markdown",
   "id": "d27a3b58",
   "metadata": {},
   "source": [
    "### Slicing ndarrays\n",
    "\n",
    "As we mentioned earlier, in addition to being able to access individual elements one at a time, NumPy provides a way to access subsets of ndarrays. This is known as *slicing*. Slicing is performed by combining indices with the colon `:` symbol inside the square brackets. In general you will come across three types of slicing:\n",
    "\n",
    "1. `ndarray[start:end]`\n",
    "\n",
    "2. `ndarray[start:]`\n",
    "\n",
    "3. `ndarray[:end]`\n",
    "\n",
    "The first method is used to select elements between the `start` and `end` indices. The second method is used to select all elements from the `start` index till the last index. The third method is used to select all elements from the first index till the `end` index. We should note that in methods one and three, the end index is *excluded*. We should also note that since ndarrays can be multidimensional, when doing slicing you usually have to specify a slice for each dimension of the array.\n",
    "\n",
    "We will now see some examples of how to use the above methods to select different subsets of a rank 2 ndarray.\n",
    "\n",
    "#### Example 1. Slicing in a 2-D ndarray"
   ]
  },
  {
   "cell_type": "code",
   "execution_count": 38,
   "id": "7833627b",
   "metadata": {},
   "outputs": [
    {
     "name": "stdout",
     "output_type": "stream",
     "text": [
      "\n",
      "X = \n",
      " [[ 0  1  2  3  4]\n",
      " [ 5  6  7  8  9]\n",
      " [10 11 12 13 14]\n",
      " [15 16 17 18 19]]\n",
      "\n",
      "Z = \n",
      " [[ 7  8  9]\n",
      " [12 13 14]\n",
      " [17 18 19]]\n",
      "\n",
      "W = \n",
      " [[ 7  8  9]\n",
      " [12 13 14]\n",
      " [17 18 19]]\n",
      "\n",
      "Y = \n",
      " [[ 2  3  4]\n",
      " [ 7  8  9]\n",
      " [12 13 14]]\n",
      "\n",
      "v =  [10 11 12 13 14]\n",
      "\n",
      "q =  [ 2  7 12 17]\n",
      "\n",
      "R = \n",
      " [[ 2]\n",
      " [ 7]\n",
      " [12]\n",
      " [17]]\n"
     ]
    }
   ],
   "source": [
    "import numpy as np\n",
    "# We create a 4 x 5 ndarray that contains integers from 0 to 19\n",
    "X = np.arange(20).reshape(4, 5)\n",
    "\n",
    "# We print X\n",
    "print()\n",
    "print('X = \\n', X)\n",
    "print()\n",
    "\n",
    "# We select all the elements that are in the 2nd through 4th rows and in the 3rd to 5th columns\n",
    "Z = X[1:4,2:5]\n",
    "\n",
    "# We print Z\n",
    "print('Z = \\n', Z)\n",
    "\n",
    "# We can select the same elements as above using method 2\n",
    "W = X[1:,2:5]\n",
    "\n",
    "# We print W\n",
    "print()\n",
    "print('W = \\n', W)\n",
    "\n",
    "# We select all the elements that are in the 1st through 3rd rows and in the 3rd to 4th columns\n",
    "Y = X[:3,2:5]\n",
    "\n",
    "# We print Y\n",
    "print()\n",
    "print('Y = \\n', Y)\n",
    "\n",
    "# We select all the elements in the 3rd row\n",
    "v = X[2,:]\n",
    "\n",
    "# We print v\n",
    "print()\n",
    "print('v = ', v)\n",
    "\n",
    "# We select all the elements in the 3rd column\n",
    "q = X[:,2]\n",
    "\n",
    "# We print q\n",
    "print()\n",
    "print('q = ', q)\n",
    "\n",
    "# We select all the elements in the 3rd column but return a rank 2 ndarray\n",
    "R = X[:,2:3]\n",
    "\n",
    "# We print R\n",
    "print()\n",
    "print('R = \\n', R)"
   ]
  },
  {
   "cell_type": "markdown",
   "id": "db721d6a",
   "metadata": {},
   "source": [
    "Notice that when we selected all the elements in the 3rd column, variable `q` above, the slice returned a rank 1 ndarray instead of a rank 2 ndarray. However, slicing `X` in a slightly different way, variable `R` above, we can actually get a rank 2 ndarray instead.\n",
    "\n",
    "It is important to note that when we perform slices on ndarrays and save them into new variables, as we did above, the data is not copied into the new variable. This is one feature that often causes confusion for beginners. Therefore, we will look at this in a bit more detail.\n",
    "\n",
    "In the above examples, when we make assignments, such as:\n",
    "\n",
    "`Z = X[1:4,2:5]`\n",
    "\n",
    "the slice of the original array `X` is not copied in the variable `Z`. Rather, `X` and `Z` are now just two different names for the same ndarray. We say that slicing only creates a view of the original array. This means that if you make changes in `Z` you will be in effect changing the elements in `X` as well. Let's see this with an example:\n",
    "\n",
    "#### Example 2. Slicing and editing elements in a 2-D ndarray"
   ]
  },
  {
   "cell_type": "code",
   "execution_count": 39,
   "id": "ae121181",
   "metadata": {},
   "outputs": [
    {
     "name": "stdout",
     "output_type": "stream",
     "text": [
      "\n",
      "X = \n",
      " [[ 0  1  2  3  4]\n",
      " [ 5  6  7  8  9]\n",
      " [10 11 12 13 14]\n",
      " [15 16 17 18 19]]\n",
      "\n",
      "\n",
      "Z = \n",
      " [[ 7  8  9]\n",
      " [12 13 14]\n",
      " [17 18 19]]\n",
      "\n",
      "\n",
      "X = \n",
      " [[  0   1   2   3   4]\n",
      " [  5   6   7   8   9]\n",
      " [ 10  11  12  13  14]\n",
      " [ 15  16  17  18 555]]\n",
      "\n"
     ]
    }
   ],
   "source": [
    "# We create a 4 x 5 ndarray that contains integers from 0 to 19\n",
    "X = np.arange(20).reshape(4, 5)\n",
    "\n",
    "# We print X\n",
    "print()\n",
    "print('X = \\n', X)\n",
    "print()\n",
    "\n",
    "# We select all the elements that are in the 2nd through 4th rows and in the 3rd to 4th columns\n",
    "Z = X[1:4,2:5]\n",
    "\n",
    "# We print Z\n",
    "print()\n",
    "print('Z = \\n', Z)\n",
    "print()\n",
    "\n",
    "# We change the last element in Z to 555\n",
    "Z[2,2] = 555\n",
    "\n",
    "# We print X\n",
    "print()\n",
    "print('X = \\n', X)\n",
    "print()"
   ]
  },
  {
   "cell_type": "markdown",
   "id": "e9b408ed",
   "metadata": {},
   "source": [
    "We can clearly see in the above example that if we make changes to `Z`, `X` changes as well.\n",
    "\n",
    "### numpy.ndarray.copy\n",
    "Syntax:\n",
    "\n",
    "`ndarray.copy(order='C')`\n",
    "\n",
    "It returns a copy of the array. More details about the arguments are available [here](https://numpy.org/doc/stable/reference/generated/numpy.ndarray.copy.html).\n",
    "\n",
    "However, if we want to create a new ndarray that contains a copy of the values in the slice we need to use the `np.copy()` function. The `np.copy(ndarray)` function creates a copy of the given `ndarray`. This function can also be used as a method, in the same way as we did before with the reshape function. Let's do the same example we did before but now with copies of the arrays. We'll use `copy` both as a function and as a method.\n",
    "\n",
    "#### Example 3. Demonstrate the `copy()` function"
   ]
  },
  {
   "cell_type": "code",
   "execution_count": 40,
   "id": "295cff7c",
   "metadata": {},
   "outputs": [
    {
     "name": "stdout",
     "output_type": "stream",
     "text": [
      "\n",
      "X = \n",
      " [[ 0  1  2  3  4]\n",
      " [ 5  6  7  8  9]\n",
      " [10 11 12 13 14]\n",
      " [15 16 17 18 19]]\n",
      "\n",
      "\n",
      "X = \n",
      " [[ 0  1  2  3  4]\n",
      " [ 5  6  7  8  9]\n",
      " [10 11 12 13 14]\n",
      " [15 16 17 18 19]]\n",
      "\n",
      "Z = \n",
      " [[  7   8   9]\n",
      " [ 12  13  14]\n",
      " [ 17  18 555]]\n",
      "\n",
      "W = \n",
      " [[  7   8   9]\n",
      " [ 12  13  14]\n",
      " [ 17  18 444]]\n"
     ]
    }
   ],
   "source": [
    "# We create a 4 x 5 ndarray that contains integers from 0 to 19\n",
    "X = np.arange(20).reshape(4, 5)\n",
    "\n",
    "# We print X\n",
    "print()\n",
    "print('X = \\n', X)\n",
    "print()\n",
    "\n",
    "# create a copy of the slice using the np.copy() function\n",
    "Z = np.copy(X[1:4,2:5])\n",
    "\n",
    "#  create a copy of the slice using the copy as a method\n",
    "W = X[1:4,2:5].copy()\n",
    "\n",
    "# We change the last element in Z to 555\n",
    "Z[2,2] = 555\n",
    "\n",
    "# We change the last element in W to 444\n",
    "W[2,2] = 444\n",
    "\n",
    "# We print X\n",
    "print()\n",
    "print('X = \\n', X)\n",
    "\n",
    "# We print Z\n",
    "print()\n",
    "print('Z = \\n', Z)\n",
    "\n",
    "# We print W\n",
    "print()\n",
    "print('W = \\n', W)"
   ]
  },
  {
   "cell_type": "markdown",
   "id": "9d516571",
   "metadata": {},
   "source": [
    "We can clearly see that by using the `copy` command, we are creating new ndarrays that are completely independent of each other.\n",
    "\n",
    "It is often useful to use one ndarray to make slices, select, or change elements in another ndarray. Let's see some examples:\n",
    "\n",
    "#### Example 4 a. Use an array as indices to either make slices, select, or change elements"
   ]
  },
  {
   "cell_type": "code",
   "execution_count": 41,
   "id": "06221c53",
   "metadata": {},
   "outputs": [
    {
     "name": "stdout",
     "output_type": "stream",
     "text": [
      "\n",
      "X = \n",
      " [[ 0  1  2  3  4]\n",
      " [ 5  6  7  8  9]\n",
      " [10 11 12 13 14]\n",
      " [15 16 17 18 19]]\n",
      "\n",
      "indices =  [1 3]\n",
      "\n",
      "\n",
      "Y = \n",
      " [[ 5  6  7  8  9]\n",
      " [15 16 17 18 19]]\n",
      "\n",
      "Z = \n",
      " [[ 1  3]\n",
      " [ 6  8]\n",
      " [11 13]\n",
      " [16 18]]\n"
     ]
    }
   ],
   "source": [
    "# We create a 4 x 5 ndarray that contains integers from 0 to 19\n",
    "X = np.arange(20).reshape(4, 5)\n",
    "\n",
    "# We create a rank 1 ndarray that will serve as indices to select elements from X\n",
    "indices = np.array([1,3])\n",
    "\n",
    "# We print X\n",
    "print()\n",
    "print('X = \\n', X)\n",
    "print()\n",
    "\n",
    "# We print indices\n",
    "print('indices = ', indices)\n",
    "print()\n",
    "\n",
    "# We use the indices ndarray to select the 2nd and 4th row of X\n",
    "Y = X[indices,:]\n",
    "\n",
    "# We use the indices ndarray to select the 2nd and 4th column of X\n",
    "Z = X[:, indices]\n",
    "\n",
    "# We print Y\n",
    "print()\n",
    "print('Y = \\n', Y)\n",
    "\n",
    "# We print Z\n",
    "print()\n",
    "print('Z = \\n', Z)"
   ]
  },
  {
   "cell_type": "markdown",
   "id": "41d39e7c",
   "metadata": {},
   "source": [
    "#### Example 4 b. Use an array as indices to extract specific rows from a rank 2 ndarray."
   ]
  },
  {
   "cell_type": "code",
   "execution_count": 42,
   "id": "6fa55f9b",
   "metadata": {},
   "outputs": [
    {
     "name": "stdout",
     "output_type": "stream",
     "text": [
      "Shape of X is:  (50, 5)\n"
     ]
    }
   ],
   "source": [
    "import numpy as np\n",
    "# Let's create a rank 2 ndarray\n",
    "X = np.random.randint(1,20, size=(50,5))\n",
    "print(\"Shape of X is: \", X.shape)"
   ]
  },
  {
   "cell_type": "code",
   "execution_count": 43,
   "id": "e19e7d6a",
   "metadata": {},
   "outputs": [
    {
     "name": "stdout",
     "output_type": "stream",
     "text": [
      "Random 10 indices are:  [13 26 21 37 42 45 24 43 20 35]\n"
     ]
    }
   ],
   "source": [
    "# Create a rank 1 ndarray that contains a randomly chosen 10 values between `0` to `len(X)` (50)\n",
    "# The row_indices would represent the indices of rows of X\n",
    "row_indices = np.random.randint(0,50, size=10)\n",
    "print(\"Random 10 indices are: \", row_indices)"
   ]
  },
  {
   "cell_type": "code",
   "execution_count": 44,
   "id": "f92760b9",
   "metadata": {},
   "outputs": [
    {
     "name": "stdout",
     "output_type": "stream",
     "text": [
      "[[18  5  6 14  6]\n",
      " [11  2  7 18 10]\n",
      " [ 4  4  6  6 12]\n",
      " [ 7 19  3  7  7]\n",
      " [11 11 18  1  9]\n",
      " [ 7  8  6  3  4]\n",
      " [18 18  7 15 19]\n",
      " [15 13  6  4 11]\n",
      " [12 17  4 11  3]\n",
      " [14 11  1  9 15]]\n",
      "[[11 11 18  1  9]\n",
      " [ 7  8  6  3  4]\n",
      " [18 18  7 15 19]\n",
      " [15 13  6  4 11]]\n"
     ]
    }
   ],
   "source": [
    "# To Do 1 - Print those rows of X whose indices are represented by entire row_indices ndarray\n",
    "# Hint - Use the row_indices ndarray to select specified rows of X\n",
    "X_subset = X[row_indices, :]\n",
    "print(X_subset)\n",
    "\n",
    "# To Do 2 - Print those rows of X whose indices are present in row_indices[4:8]\n",
    "X_subset = X[row_indices[4:8], :]\n",
    "print(X_subset)"
   ]
  },
  {
   "cell_type": "markdown",
   "id": "5885d310",
   "metadata": {},
   "source": [
    "### numpy.diag\n",
    "Syntax:\n",
    "\n",
    "`numpy.diag(array, k=0)`\n",
    "\n",
    "It extracts or constructs the diagonal elements. More details about the arguments are available [here](https://numpy.org/doc/stable/reference/generated/numpy.diag.html).\n",
    "\n",
    "NumPy also offers built-in functions to select specific elements within ndarrays. For example, the `np.diag(ndarray, k=N)` function extracts the elements along the `diagonal` defined by `N`. As default is `k=0`, which refers to the main diagonal. Values of `k > 0` are used to select elements in diagonals above the main diagonal, and values of `k < 0` are used to select elements in diagonals below the main diagonal. Let's see an example:\n",
    "\n",
    "#### Example 5. Demonstrate the `diag()` function"
   ]
  },
  {
   "cell_type": "code",
   "execution_count": 45,
   "id": "620cbe11",
   "metadata": {},
   "outputs": [
    {
     "name": "stdout",
     "output_type": "stream",
     "text": [
      "\n",
      "X = \n",
      " [[ 0  1  2  3  4]\n",
      " [ 5  6  7  8  9]\n",
      " [10 11 12 13 14]\n",
      " [15 16 17 18 19]\n",
      " [20 21 22 23 24]]\n",
      "\n",
      "z = [ 0  6 12 18 24]\n",
      "\n",
      "y = [ 1  7 13 19]\n",
      "\n",
      "w =  [ 5 11 17 23]\n"
     ]
    }
   ],
   "source": [
    "# We create a 4 x 5 ndarray that contains integers from 0 to 24\n",
    "X = np.arange(25).reshape(5, 5)\n",
    "\n",
    "# We print X\n",
    "print()\n",
    "print('X = \\n', X)\n",
    "print()\n",
    "\n",
    "# We print the elements in the main diagonal of X\n",
    "print('z =', np.diag(X))\n",
    "print()\n",
    "\n",
    "# We print the elements above the main diagonal of X\n",
    "print('y =', np.diag(X, k=1))\n",
    "print()\n",
    "\n",
    "# We print the elements below the main diagonal of X\n",
    "print('w = ', np.diag(X, k=-1))"
   ]
  },
  {
   "cell_type": "markdown",
   "id": "f66a2e5c",
   "metadata": {},
   "source": [
    "### numpy.unique\n",
    "Syntax:\n",
    "\n",
    "`numpy.unique(array, return_index=False, return_inverse=False, return_counts=False, axis=None)`\n",
    "\n",
    "It returns the sorted unique elements of an array. Details about additional optional arguments are available [here](https://numpy.org/doc/stable/reference/generated/numpy.unique.html).\n",
    "\n",
    "It is often useful to extract only the unique elements in an ndarray. We can find the unique elements in an ndarray by using the `np.unique()` function. The `np.unique(ndarray)` function returns the `unique` elements in the given `ndarray`, as in the example below:\n",
    "\n",
    "#### Example 6. Demonstrate the `unique()` function"
   ]
  },
  {
   "cell_type": "code",
   "execution_count": 46,
   "id": "a70f7903",
   "metadata": {},
   "outputs": [
    {
     "name": "stdout",
     "output_type": "stream",
     "text": [
      "\n",
      "X = \n",
      " [[1 2 3]\n",
      " [5 2 8]\n",
      " [1 2 3]]\n",
      "\n",
      "The unique elements in X are: [1 2 3 5 8]\n"
     ]
    }
   ],
   "source": [
    "# Create 3 x 3 ndarray with repeated values\n",
    "X = np.array([[1,2,3],[5,2,8],[1,2,3]])\n",
    "\n",
    "# We print X\n",
    "print()\n",
    "print('X = \\n', X)\n",
    "print()\n",
    "\n",
    "# We print the unique elements of X \n",
    "print('The unique elements in X are:',np.unique(X))"
   ]
  },
  {
   "cell_type": "code",
   "execution_count": null,
   "id": "e703b084",
   "metadata": {},
   "outputs": [],
   "source": []
  },
  {
   "cell_type": "markdown",
   "id": "4f18f687",
   "metadata": {},
   "source": [
    "### Boolean Indexing, Set Operations, and Sorting\n",
    "\n",
    "Up to now we have seen how to make slices and select elements of an ndarray using indices. This is useful when we know the exact indices of the elements we want to select. However, there are many situations in which we don't know the indices of the elements we want to select. For example, suppose we have a 10,000 x 10,000 ndarray of random integers ranging from 1 to 15,000 and we only want to select those integers that are less than 20. *Boolean* indexing can help us in these cases, by allowing us select elements using logical arguments instead of explicit indices. Let's see some examples:\n",
    "\n",
    "#### Example 1. Boolean indexing"
   ]
  },
  {
   "cell_type": "code",
   "execution_count": 47,
   "id": "91e455fd",
   "metadata": {},
   "outputs": [
    {
     "name": "stdout",
     "output_type": "stream",
     "text": [
      "\n",
      "Original X = \n",
      " [[ 0  1  2  3  4]\n",
      " [ 5  6  7  8  9]\n",
      " [10 11 12 13 14]\n",
      " [15 16 17 18 19]\n",
      " [20 21 22 23 24]]\n",
      "\n",
      "The elements in X that are greater than 10: [11 12 13 14 15 16 17 18 19 20 21 22 23 24]\n",
      "The elements in X that less than or equal to 7: [0 1 2 3 4 5 6 7]\n",
      "The elements in X that are between 10 and 17: [11 12 13 14 15 16]\n",
      "\n",
      "X = \n",
      " [[ 0  1  2  3  4]\n",
      " [ 5  6  7  8  9]\n",
      " [10 -1 -1 -1 -1]\n",
      " [-1 -1 17 18 19]\n",
      " [20 21 22 23 24]]\n",
      "\n"
     ]
    }
   ],
   "source": [
    "import numpy as np\n",
    "\n",
    "# We create a 5 x 5 ndarray that contains integers from 0 to 24\n",
    "X = np.arange(25).reshape(5, 5)\n",
    "\n",
    "# We print X\n",
    "print()\n",
    "print('Original X = \\n', X)\n",
    "print()\n",
    "\n",
    "# We use Boolean indexing to select elements in X:\n",
    "print('The elements in X that are greater than 10:', X[X > 10])\n",
    "print('The elements in X that less than or equal to 7:', X[X <= 7])\n",
    "print('The elements in X that are between 10 and 17:', X[(X > 10) & (X < 17)])\n",
    "\n",
    "# We use Boolean indexing to assign the elements that are between 10 and 17 the value of -1\n",
    "X[(X > 10) & (X < 17)] = -1\n",
    "\n",
    "# We print X\n",
    "print()\n",
    "print('X = \\n', X)\n",
    "print()"
   ]
  },
  {
   "cell_type": "markdown",
   "id": "4494fd8d",
   "metadata": {},
   "source": [
    "In addition to Boolean Indexing NumPy also allows for set operations. This useful when comparing ndarrays, for example, to find common elements between two ndarrays. Let's see some examples:\n",
    "\n",
    "#### Example 2. Set operations"
   ]
  },
  {
   "cell_type": "code",
   "execution_count": 48,
   "id": "cfe7b1d3",
   "metadata": {},
   "outputs": [
    {
     "name": "stdout",
     "output_type": "stream",
     "text": [
      "\n",
      "x =  [1 2 3 4 5]\n",
      "\n",
      "y =  [6 7 2 8 4]\n",
      "\n",
      "The elements that are both in x and y: [2 4]\n",
      "The elements that are in x that are not in y: [1 3 5]\n",
      "All the elements of x and y: [1 2 3 4 5 6 7 8]\n"
     ]
    }
   ],
   "source": [
    "# We create a rank 1 ndarray\n",
    "x = np.array([1,2,3,4,5])\n",
    "\n",
    "# We create a rank 1 ndarray\n",
    "y = np.array([6,7,2,8,4])\n",
    "\n",
    "# We print x\n",
    "print()\n",
    "print('x = ', x)\n",
    "\n",
    "# We print y\n",
    "print()\n",
    "print('y = ', y)\n",
    "\n",
    "# We use set operations to compare x and y:\n",
    "print()\n",
    "print('The elements that are both in x and y:', np.intersect1d(x,y))\n",
    "print('The elements that are in x that are not in y:', np.setdiff1d(x,y))\n",
    "print('All the elements of x and y:',np.union1d(x,y))"
   ]
  },
  {
   "cell_type": "markdown",
   "id": "e7603b8c",
   "metadata": {},
   "source": [
    "### numpy.ndarray.sort method\n",
    "\n",
    "Syntax:\n",
    "\n",
    "`ndarray.sort(axis=-1, kind=None, order=None)`\n",
    "\n",
    "The method above sorts an array in-place. All arguments are optional, see the details [here](https://numpy.org/doc/stable/reference/generated/numpy.ndarray.sort.html).\n",
    "\n",
    "Like with other functions we saw before, the `sort` can be used as a method as well as a function. The difference lies in how the data is stored in memory in this case.\n",
    "\n",
    ">When `numpy.sort()` is used as a function, it sorts the ndrrays out of place, meaning, that it doesn't change the original ndarray being sorted.\n",
    "\n",
    ">On the other hand, when you use `numpy.ndarray.sort()` as a method, `ndarray.sort()` sorts the ndarray in place, meaning, that the original array will be changed to the sorted one.\n",
    "Let's see some examples:\n",
    "\n",
    "#### Example 3. Sort arrays using sort() function"
   ]
  },
  {
   "cell_type": "code",
   "execution_count": 49,
   "id": "b15fb9c2",
   "metadata": {},
   "outputs": [
    {
     "name": "stdout",
     "output_type": "stream",
     "text": [
      "\n",
      "Original x =  [6 5 5 8 9 8 6 3 6 4]\n",
      "\n",
      "Sorted x (out of place): [3 4 5 5 6 6 6 8 8 9]\n",
      "\n",
      "x after sorting: [6 5 5 8 9 8 6 3 6 4]\n"
     ]
    }
   ],
   "source": [
    "# We create an unsorted rank 1 ndarray\n",
    "x = np.random.randint(1,11,size=(10,))\n",
    "\n",
    "# We print x\n",
    "print()\n",
    "print('Original x = ', x)\n",
    "\n",
    "# We sort x and print the sorted array using sort as a function.\n",
    "print()\n",
    "print('Sorted x (out of place):', np.sort(x))\n",
    "\n",
    "# When we sort out of place the original array remains intact. To see this we print x again\n",
    "print()\n",
    "print('x after sorting:', x)"
   ]
  },
  {
   "cell_type": "markdown",
   "id": "16d9381e",
   "metadata": {},
   "source": [
    "Notice that `np.sort()` sorts the array but, if the ndarray being sorted has repeated values, `np.sort()` leaves those values in the sorted array. However, if desired, we can use the `unique()` function. Let's see how we can sort the unique elements of `x` above:"
   ]
  },
  {
   "cell_type": "code",
   "execution_count": 50,
   "id": "574db6e6",
   "metadata": {},
   "outputs": [
    {
     "name": "stdout",
     "output_type": "stream",
     "text": [
      "[3 4 5 6 8 9]\n"
     ]
    }
   ],
   "source": [
    "# Returns the sorted unique elements of an array\n",
    "print(np.unique(x))"
   ]
  },
  {
   "cell_type": "markdown",
   "id": "6b5b9795",
   "metadata": {},
   "source": [
    "Finally, let's see how we can sort ndarrays in place, by using sort as a method:\n",
    "\n",
    "#### Example 4. Sort rank-1 arrays using sort() method"
   ]
  },
  {
   "cell_type": "code",
   "execution_count": 51,
   "id": "e1a09baf",
   "metadata": {},
   "outputs": [
    {
     "name": "stdout",
     "output_type": "stream",
     "text": [
      "\n",
      "Original x =  [10  8  1  4  3  5  2  1  3  8]\n",
      "\n",
      "x after sorting: [ 1  1  2  3  3  4  5  8  8 10]\n"
     ]
    }
   ],
   "source": [
    "# We create an unsorted rank 1 ndarray\n",
    "x = np.random.randint(1,11,size=(10,))\n",
    "\n",
    "# We print x\n",
    "print()\n",
    "print('Original x = ', x)\n",
    "\n",
    "# We sort x and print the sorted array using sort as a method.\n",
    "x.sort()\n",
    "\n",
    "# When we sort in place the original array is changed to the sorted array. To see this we print x again\n",
    "print()\n",
    "print('x after sorting:', x)"
   ]
  },
  {
   "cell_type": "markdown",
   "id": "27bf6008",
   "metadata": {},
   "source": [
    "### numpy.sort function\n",
    "Syntax:\n",
    "\n",
    "`numpy.sort(array, axis=-1, kind=None, order=None)`\n",
    "\n",
    "It returns a sorted copy of an array. The `axis` denotes the axis along which to sort. It can take values in the range `-1` to `(ndim-1)`. Axis can take the following possible values for a given 2-D ndarray:\n",
    "\n",
    ">If nothing is specified, the default value is `axis = -1`, which sorts along the **last** axis. In the case of a given 2-D ndarray, the last axis value is `1`.\n",
    "\n",
    ">If explicitly `axis = None` is specified, the array is flattened before sorting. It will return a 1-D array.\n",
    "\n",
    ">If `axis = 0` is specified for a given 2-D array - For one column at a time, the function will sort all rows, without disturbing other elements. *In the final output, you will see that each column has been sorted individually.*\n",
    "\n",
    ">The output of `axis = 1` for a given 2-D array is vice-versa for `axis = 0`. In the final output, *you will see that each row has been sorted individually.*\n",
    "\n",
    "**Tip**: As mentioned in [this](https://stackoverflow.com/questions/25773245/ambiguity-in-pandas-dataframe-numpy-array-axis-definition) discussion, you can read `axis = 0` as **\"down\"** and `axis = 1` as **\"across\"** the given 2-D array, to have a correct usage of axis in your methods/functions.\n",
    "\n",
    "Refer [here](https://numpy.org/doc/stable/reference/generated/numpy.sort.html) for details about the optional arguments.\n",
    "\n",
    "When sorting rank 2 ndarrays, we need to specify to the `np.sort()` function whether we are sorting by rows or columns. This is done by using the `axis` keyword. Let's see some examples:\n",
    "\n",
    "#### Example 5. Sort rank-2 arrays by specific axis."
   ]
  },
  {
   "cell_type": "code",
   "execution_count": 52,
   "id": "7b476dd6",
   "metadata": {},
   "outputs": [
    {
     "name": "stdout",
     "output_type": "stream",
     "text": [
      "\n",
      "Original X = \n",
      " [[ 2  8  5  4  2]\n",
      " [ 9  1  6  8  4]\n",
      " [ 2  5  4  9  8]\n",
      " [ 2 10  3  7  5]\n",
      " [ 4 10 10  6  1]]\n",
      "\n",
      "\n",
      "X with sorted columns :\n",
      " [[ 2  1  3  4  1]\n",
      " [ 2  5  4  6  2]\n",
      " [ 2  8  5  7  4]\n",
      " [ 4 10  6  8  5]\n",
      " [ 9 10 10  9  8]]\n",
      "\n",
      "X with sorted rows :\n",
      " [[ 2  2  4  5  8]\n",
      " [ 1  4  6  8  9]\n",
      " [ 2  4  5  8  9]\n",
      " [ 2  3  5  7 10]\n",
      " [ 1  4  6 10 10]]\n"
     ]
    }
   ],
   "source": [
    "# We create an unsorted rank 2 ndarray\n",
    "X = np.random.randint(1,11,size=(5,5))\n",
    "\n",
    "# We print X\n",
    "print()\n",
    "print('Original X = \\n', X)\n",
    "print()\n",
    "\n",
    "# We sort the columns of X and print the sorted array\n",
    "print()\n",
    "print('X with sorted columns :\\n', np.sort(X, axis = 0))\n",
    "\n",
    "# We sort the rows of X and print the sorted array\n",
    "print()\n",
    "print('X with sorted rows :\\n', np.sort(X, axis = 1))"
   ]
  },
  {
   "cell_type": "code",
   "execution_count": null,
   "id": "bff91e88",
   "metadata": {},
   "outputs": [],
   "source": []
  },
  {
   "cell_type": "markdown",
   "id": "9befd855",
   "metadata": {},
   "source": [
    "### Arithmetic operations and Broadcasting\n",
    "\n",
    "We have reached the last lesson in this Introduction to NumPy. In this last lesson we will see how NumPy does arithmetic operations on ndarrays. NumPy allows element-wise operations on ndarrays as well as matrix operations. In this lesson we will only be looking at element-wise operations on ndarrays. In order to do element-wise operations, NumPy sometimes uses something called Broadcasting. *Broadcasting* is the term used to describe how NumPy handles element-wise arithmetic operations with ndarrays of different shapes. For example, broadcasting is used implicitly when doing arithmetic operations between scalars and ndarrays.\n",
    "\n",
    "Let's start by doing element-wise addition, subtraction, multiplication, and division, between ndarrays. To do this, NumPy provides a functional approach, where we use functions such as `np.add()`, or by using arithmetic symbols, such as `+`, that resembles more how we write mathematical equations. Both forms will do the same operation, the only difference is that if you use the function approach, the functions usually have options that you can tweak using keywords. It is important to note that when performing element-wise operations, the shapes of the ndarrays being operated on, must have the same shape or be broadcastable. We'll explain more about this later in this lesson. Let's start by performing element-wise arithmetic operations on rank 1 ndarrays:\n",
    "\n",
    "#### Example 1. Element-wise arithmetic operations on 1-D arrays"
   ]
  },
  {
   "cell_type": "code",
   "execution_count": 53,
   "id": "9e882ae2",
   "metadata": {},
   "outputs": [
    {
     "name": "stdout",
     "output_type": "stream",
     "text": [
      "\n",
      "x =  [1 2 3 4]\n",
      "\n",
      "y =  [5.5 6.5 7.5 8.5]\n",
      "\n",
      "x + y =  [ 6.5  8.5 10.5 12.5]\n",
      "add(x,y) =  [ 6.5  8.5 10.5 12.5]\n",
      "\n",
      "x - y =  [-4.5 -4.5 -4.5 -4.5]\n",
      "subtract(x,y) =  [-4.5 -4.5 -4.5 -4.5]\n",
      "\n",
      "x * y =  [ 5.5 13.  22.5 34. ]\n",
      "multiply(x,y) =  [ 5.5 13.  22.5 34. ]\n",
      "\n",
      "x / y =  [0.18181818 0.30769231 0.4        0.47058824]\n",
      "divide(x,y) =  [0.18181818 0.30769231 0.4        0.47058824]\n"
     ]
    }
   ],
   "source": [
    "import numpy as np\n",
    "\n",
    "# We create two rank 1 ndarrays\n",
    "x = np.array([1,2,3,4])\n",
    "y = np.array([5.5,6.5,7.5,8.5])\n",
    "\n",
    "# We print x\n",
    "print()\n",
    "print('x = ', x)\n",
    "\n",
    "# We print y\n",
    "print()\n",
    "print('y = ', y)\n",
    "print()\n",
    "\n",
    "# We perfrom basic element-wise operations using arithmetic symbols and functions\n",
    "print('x + y = ', x + y)\n",
    "print('add(x,y) = ', np.add(x,y))\n",
    "print()\n",
    "print('x - y = ', x - y)\n",
    "print('subtract(x,y) = ', np.subtract(x,y))\n",
    "print()\n",
    "print('x * y = ', x * y)\n",
    "print('multiply(x,y) = ', np.multiply(x,y))\n",
    "print()\n",
    "print('x / y = ', x / y)\n",
    "print('divide(x,y) = ', np.divide(x,y))"
   ]
  },
  {
   "cell_type": "markdown",
   "id": "35a2fa2e",
   "metadata": {},
   "source": [
    "We can also perform the same element-wise arithmetic operations on rank 2 ndarrays. Again, remember that in order to do these operations the shapes of the ndarrays being operated on, must have the same shape or be broadcastable.\n",
    "\n",
    "#### Example 2. Element-wise arithmetic operations on a 2-D array (Same shape)"
   ]
  },
  {
   "cell_type": "code",
   "execution_count": 54,
   "id": "987298bf",
   "metadata": {},
   "outputs": [
    {
     "name": "stdout",
     "output_type": "stream",
     "text": [
      "\n",
      "X = \n",
      " [[1 2]\n",
      " [3 4]]\n",
      "\n",
      "Y = \n",
      " [[5.5 6.5]\n",
      " [7.5 8.5]]\n",
      "\n",
      "X + Y = \n",
      " [[ 6.5  8.5]\n",
      " [10.5 12.5]]\n",
      "\n",
      "add(X,Y) = \n",
      " [[ 6.5  8.5]\n",
      " [10.5 12.5]]\n",
      "\n",
      "X - Y = \n",
      " [[-4.5 -4.5]\n",
      " [-4.5 -4.5]]\n",
      "\n",
      "subtract(X,Y) = \n",
      " [[-4.5 -4.5]\n",
      " [-4.5 -4.5]]\n",
      "\n",
      "X * Y = \n",
      " [[ 5.5 13. ]\n",
      " [22.5 34. ]]\n",
      "\n",
      "multiply(X,Y) = \n",
      " [[ 5.5 13. ]\n",
      " [22.5 34. ]]\n",
      "\n",
      "X / Y = \n",
      " [[0.18181818 0.30769231]\n",
      " [0.4        0.47058824]]\n",
      "\n",
      "divide(X,Y) = \n",
      " [[0.18181818 0.30769231]\n",
      " [0.4        0.47058824]]\n"
     ]
    }
   ],
   "source": [
    "# We create two rank 2 ndarrays\n",
    "X = np.array([1,2,3,4]).reshape(2,2)\n",
    "Y = np.array([5.5,6.5,7.5,8.5]).reshape(2,2)\n",
    "\n",
    "# We print X\n",
    "print()\n",
    "print('X = \\n', X)\n",
    "\n",
    "# We print Y\n",
    "print()\n",
    "print('Y = \\n', Y)\n",
    "print()\n",
    "\n",
    "# We perform basic element-wise operations using arithmetic symbols and functions\n",
    "print('X + Y = \\n', X + Y)\n",
    "print()\n",
    "print('add(X,Y) = \\n', np.add(X,Y))\n",
    "print()\n",
    "print('X - Y = \\n', X - Y)\n",
    "print()\n",
    "print('subtract(X,Y) = \\n', np.subtract(X,Y))\n",
    "print()\n",
    "print('X * Y = \\n', X * Y)\n",
    "print()\n",
    "print('multiply(X,Y) = \\n', np.multiply(X,Y))\n",
    "print()\n",
    "print('X / Y = \\n', X / Y)\n",
    "print()\n",
    "print('divide(X,Y) = \\n', np.divide(X,Y))"
   ]
  },
  {
   "cell_type": "markdown",
   "id": "094c11b9",
   "metadata": {},
   "source": [
    "We can also apply mathematical functions, such as `sqrt(x)`, to all elements of an ndarray at once.\n",
    "\n",
    "#### Example 3. Additional mathematical functions"
   ]
  },
  {
   "cell_type": "code",
   "execution_count": 55,
   "id": "dbb45a35",
   "metadata": {},
   "outputs": [
    {
     "name": "stdout",
     "output_type": "stream",
     "text": [
      "\n",
      "x =  [1 2 3 4]\n",
      "\n",
      "EXP(x) = [ 2.71828183  7.3890561  20.08553692 54.59815003]\n",
      "\n",
      "SQRT(x) = [1.         1.41421356 1.73205081 2.        ]\n",
      "\n",
      "POW(x,2) = [ 1  4  9 16]\n"
     ]
    }
   ],
   "source": [
    "# We create a rank 1 ndarray\n",
    "x = np.array([1,2,3,4])\n",
    "\n",
    "# We print x\n",
    "print()\n",
    "print('x = ', x)\n",
    "\n",
    "# We apply different mathematical functions to all elements of x\n",
    "print()\n",
    "print('EXP(x) =', np.exp(x))\n",
    "print()\n",
    "print('SQRT(x) =',np.sqrt(x))\n",
    "print()\n",
    "print('POW(x,2) =',np.power(x,2)) # We raise all elements to the power of 2"
   ]
  },
  {
   "cell_type": "markdown",
   "id": "e78666c5",
   "metadata": {},
   "source": [
    "Another great feature of NumPy is that it has a wide variety of statistical functions. Statistical functions provide us with statistical information about the elements in an ndarray.\n",
    "\n",
    "> **Note** - Most of the statistical operations can be done using either a function or an equivalent method. For example, both [numpy.mean](https://numpy.org/doc/stable/reference/generated/numpy.mean.html) function and [numpy.ndarray.mean](https://numpy.org/doc/stable/reference/generated/numpy.ndarray.mean.html#:~:text=method%20ndarray.,mean%20for%20full%20documentation.) method will return the arithmetic mean of the array elements along the given axis.\n",
    "\n",
    "Let's see some examples showing a variety of statistical operations:\n",
    "\n",
    "#### Example 4. Statistical functions"
   ]
  },
  {
   "cell_type": "code",
   "execution_count": 56,
   "id": "86da241e",
   "metadata": {},
   "outputs": [
    {
     "name": "stdout",
     "output_type": "stream",
     "text": [
      "\n",
      "X = \n",
      " [[1 2]\n",
      " [3 4]]\n",
      "\n",
      "Average of all elements in X: 2.5\n",
      "Average of all elements in the columns of X: [2. 3.]\n",
      "Average of all elements in the rows of X: [1.5 3.5]\n",
      "\n",
      "Sum of all elements in X: 10\n",
      "Sum of all elements in the columns of X: [4 6]\n",
      "Sum of all elements in the rows of X: [3 7]\n",
      "\n",
      "Standard Deviation of all elements in X: 1.118033988749895\n",
      "Standard Deviation of all elements in the columns of X: [1. 1.]\n",
      "Standard Deviation of all elements in the rows of X: [0.5 0.5]\n",
      "\n",
      "Median of all elements in X: 2.5\n",
      "Median of all elements in the columns of X: [2. 3.]\n",
      "Median of all elements in the rows of X: [1.5 3.5]\n",
      "\n",
      "Maximum value of all elements in X: 4\n",
      "Maximum value of all elements in the columns of X: [3 4]\n",
      "Maximum value of all elements in the rows of X: [2 4]\n",
      "\n",
      "Minimum value of all elements in X: 1\n",
      "Minimum value of all elements in the columns of X: [1 2]\n",
      "Minimum value of all elements in the rows of X: [1 3]\n"
     ]
    }
   ],
   "source": [
    "# We create a 2 x 2 ndarray\n",
    "X = np.array([[1,2], [3,4]])\n",
    "\n",
    "# We print x\n",
    "print()\n",
    "print('X = \\n', X)\n",
    "print()\n",
    "\n",
    "print('Average of all elements in X:', X.mean())\n",
    "print('Average of all elements in the columns of X:', X.mean(axis=0))\n",
    "print('Average of all elements in the rows of X:', X.mean(axis=1))\n",
    "print()\n",
    "print('Sum of all elements in X:', X.sum())\n",
    "print('Sum of all elements in the columns of X:', X.sum(axis=0))\n",
    "print('Sum of all elements in the rows of X:', X.sum(axis=1))\n",
    "print()\n",
    "print('Standard Deviation of all elements in X:', X.std())\n",
    "print('Standard Deviation of all elements in the columns of X:', X.std(axis=0))\n",
    "print('Standard Deviation of all elements in the rows of X:', X.std(axis=1))\n",
    "print()\n",
    "print('Median of all elements in X:', np.median(X))\n",
    "print('Median of all elements in the columns of X:', np.median(X,axis=0))\n",
    "print('Median of all elements in the rows of X:', np.median(X,axis=1))\n",
    "print()\n",
    "print('Maximum value of all elements in X:', X.max())\n",
    "print('Maximum value of all elements in the columns of X:', X.max(axis=0))\n",
    "print('Maximum value of all elements in the rows of X:', X.max(axis=1))\n",
    "print()\n",
    "print('Minimum value of all elements in X:', X.min())\n",
    "print('Minimum value of all elements in the columns of X:', X.min(axis=0))\n",
    "print('Minimum value of all elements in the rows of X:', X.min(axis=1))"
   ]
  },
  {
   "cell_type": "markdown",
   "id": "eaa0d02f",
   "metadata": {},
   "source": [
    "Finally, let's see how NumPy can add single numbers to all the elements of an ndarray without the use of complicated loops.\n",
    "\n",
    "#### Example 5. Change value of all elements of an array"
   ]
  },
  {
   "cell_type": "code",
   "execution_count": 57,
   "id": "8efd1893",
   "metadata": {},
   "outputs": [
    {
     "name": "stdout",
     "output_type": "stream",
     "text": [
      "\n",
      "X = \n",
      " [[1 2]\n",
      " [3 4]]\n",
      "\n",
      "3 * X = \n",
      " [[ 3  6]\n",
      " [ 9 12]]\n",
      "\n",
      "3 + X = \n",
      " [[4 5]\n",
      " [6 7]]\n",
      "\n",
      "X - 3 = \n",
      " [[-2 -1]\n",
      " [ 0  1]]\n",
      "\n",
      "X / 3 = \n",
      " [[0.33333333 0.66666667]\n",
      " [1.         1.33333333]]\n"
     ]
    }
   ],
   "source": [
    "# We create a 2 x 2 ndarray\n",
    "X = np.array([[1,2], [3,4]])\n",
    "\n",
    "# We print x\n",
    "print()\n",
    "print('X = \\n', X)\n",
    "print()\n",
    "\n",
    "print('3 * X = \\n', 3 * X)\n",
    "print()\n",
    "print('3 + X = \\n', 3 + X)\n",
    "print()\n",
    "print('X - 3 = \\n', X - 3)\n",
    "print()\n",
    "print('X / 3 = \\n', X / 3)"
   ]
  },
  {
   "cell_type": "markdown",
   "id": "37e3f0dd",
   "metadata": {},
   "source": [
    "In the examples above, NumPy is working behind the scenes to broadcast `3` along the ndarray so that they have the same shape. This allows us to add 3 to each element of `X` with just one line of code.\n",
    "\n",
    "Subject to certain constraints, Numpy can do the same for two ndarrays of different shapes, as we can see below.\n",
    "\n",
    "#### Example 6. Arithmetic operations on 2-D arrays (Compatible shape)"
   ]
  },
  {
   "cell_type": "code",
   "execution_count": 58,
   "id": "7cff0ba5",
   "metadata": {},
   "outputs": [
    {
     "name": "stdout",
     "output_type": "stream",
     "text": [
      "\n",
      "x =  [1 2 3]\n",
      "\n",
      "\n",
      "Y = \n",
      " [[1 2 3]\n",
      " [4 5 6]\n",
      " [7 8 9]]\n",
      "\n",
      "\n",
      "Z = \n",
      " [[1]\n",
      " [2]\n",
      " [3]]\n",
      "\n",
      "x + Y = \n",
      " [[ 2  4  6]\n",
      " [ 5  7  9]\n",
      " [ 8 10 12]]\n",
      "\n",
      "Z + Y = \n",
      " [[ 2  3  4]\n",
      " [ 6  7  8]\n",
      " [10 11 12]]\n"
     ]
    }
   ],
   "source": [
    "# We create a rank 1 ndarray\n",
    "x = np.array([1,2,3])\n",
    "\n",
    "# We create a 3 x 3 ndarray\n",
    "Y = np.array([[1,2,3],[4,5,6],[7,8,9]])\n",
    "\n",
    "# We create a 3 x 1 ndarray\n",
    "Z = np.array([1,2,3]).reshape(3,1)\n",
    "\n",
    "# We print x\n",
    "print()\n",
    "print('x = ', x)\n",
    "print()\n",
    "\n",
    "# We print Y\n",
    "print()\n",
    "print('Y = \\n', Y)\n",
    "print()\n",
    "\n",
    "# We print Z\n",
    "print()\n",
    "print('Z = \\n', Z)\n",
    "print()\n",
    "\n",
    "print('x + Y = \\n', x + Y)\n",
    "print()\n",
    "print('Z + Y = \\n',Z + Y)"
   ]
  },
  {
   "cell_type": "markdown",
   "id": "5031490b",
   "metadata": {},
   "source": [
    "As before, NumPy is able to add 1 x 3 and 3 x 1 ndarrays to 3 x 3 ndarrays by broadcasting the smaller ndarrays along the big ndarray so that they have compatible shapes. In general, NumPy can do this provided that the smaller ndarray, such as the 1 x 3 ndarray in our example, can be expanded to the shape of the larger ndarray in such a way that the resulting broadcast is unambiguous.\n",
    "\n",
    "Make sure you check out the NumPy Documentation for more information on Broadcasting and its rules:\n",
    "[**Broadcasting**](https://numpy.org/devdocs/user/basics.broadcasting.html)\n",
    "\n",
    "### Glossary of Mathematical Functions\n",
    "> Refer to this list of [**NumPy Mathematical Functions**](https://numpy.org/devdocs/reference/routines.math.html?highlight=arithmetic#mathematical-functions) to find the one you need."
   ]
  },
  {
   "cell_type": "markdown",
   "id": "2ba709ba",
   "metadata": {},
   "source": [
    "---\n",
    "---\n",
    "---\n",
    "---\n",
    "\n",
    "# To Do:\n",
    "## Use NumPy to implement this formula:<br>\n",
    "# $\\sigma = \\sqrt{\\frac{\\sum_{i=1}^{N}(x_i-\\mu)^2}{N}}$\n",
    "### Where $\\sigma$ is the Standard Deviation.<br><br>\n",
    "<details>\n",
    "    <summary>Click once on <font color=\"red\"><b>this text</b></font> to hide/unhide the One-liner Solution!</summary>\n",
    "  \n",
    "#### `std = np.sqrt(((a - a.mean())**2).mean())`\n",
    "</details>"
   ]
  },
  {
   "cell_type": "code",
   "execution_count": 59,
   "id": "2d4afaaf",
   "metadata": {},
   "outputs": [
    {
     "name": "stdout",
     "output_type": "stream",
     "text": [
      "1.707825127659933\n",
      "1.707825127659933\n"
     ]
    }
   ],
   "source": [
    "# We create a rank 1 ndarray\n",
    "a = np.array([1, 2, 3, 4, 5, 6])\n",
    "\n",
    "# Write your code here...\n",
    "mu = a.mean()\n",
    "x = (a - mu)**2\n",
    "my_std = np.sqrt(x.mean())\n",
    "\n",
    "print(my_std)\n",
    "print(a.std())"
   ]
  },
  {
   "cell_type": "code",
   "execution_count": null,
   "id": "a26197a9",
   "metadata": {},
   "outputs": [],
   "source": []
  }
 ],
 "metadata": {
  "kernelspec": {
   "display_name": "Python 3 (ipykernel)",
   "language": "python",
   "name": "python3"
  },
  "language_info": {
   "codemirror_mode": {
    "name": "ipython",
    "version": 3
   },
   "file_extension": ".py",
   "mimetype": "text/x-python",
   "name": "python",
   "nbconvert_exporter": "python",
   "pygments_lexer": "ipython3",
   "version": "3.9.13"
  }
 },
 "nbformat": 4,
 "nbformat_minor": 5
}
